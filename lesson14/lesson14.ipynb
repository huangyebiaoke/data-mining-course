{
 "metadata": {
  "language_info": {
   "codemirror_mode": {
    "name": "ipython",
    "version": 3
   },
   "file_extension": ".py",
   "mimetype": "text/x-python",
   "name": "python",
   "nbconvert_exporter": "python",
   "pygments_lexer": "ipython3",
   "version": "3.7.9"
  },
  "orig_nbformat": 4,
  "kernelspec": {
   "name": "python3",
   "display_name": "Python 3.7.9 64-bit ('tensorflow2': conda)"
  },
  "interpreter": {
   "hash": "3610ba5b39883f2c9136a6c60e2f9393bc8913e6ca44a84d2b07fc3630c06738"
  }
 },
 "nbformat": 4,
 "nbformat_minor": 2,
 "cells": [
  {
   "cell_type": "code",
   "execution_count": 16,
   "metadata": {},
   "outputs": [
    {
     "output_type": "stream",
     "name": "stdout",
     "text": [
      "0.7439389486705918\n"
     ]
    }
   ],
   "source": [
    "import pandas as pd\n",
    "\n",
    "ins=pd.read_csv('./insurance.csv')\n",
    "# ins.replace('male', 1,inplace=True)\n",
    "# ins.replace('female', 0,inplace=True)\n",
    "# ins.replace('yes', 1,inplace=True)\n",
    "# ins.replace('no', 0,inplace=True)\n",
    "# ins.replace('southeast', 0,inplace=True)\n",
    "# ins.replace('southwest', 1,inplace=True)\n",
    "# ins.replace('northwest', 2,inplace=True)\n",
    "# ins.replace('northeast', 3,inplace=True)\n",
    "\n",
    "ins.dropna(inplace=True)\n",
    "ins.drop_duplicates(inplace=True)\n",
    "\n",
    "from sklearn.preprocessing import LabelEncoder\n",
    "le=LabelEncoder()\n",
    "ins.sex=le.fit_transform(ins.sex)\n",
    "ins.smoker=le.fit_transform(ins.smoker)\n",
    "ins.region=le.fit_transform(ins.region)\n",
    "\n",
    "# print(ins.head(5))\n",
    "\n",
    "X=ins.drop('charges',axis=1)\n",
    "Y=ins['charges']\n",
    "\n",
    "from sklearn.model_selection import train_test_split\n",
    "x_train,x_test,y_train,y_test=train_test_split(X,Y,test_size=0.3)\n",
    "\n",
    "from sklearn.linear_model import LinearRegression\n",
    "reg=LinearRegression().fit(x_train,y_train)\n",
    "print(reg.score(x_test, y_test))\n",
    "# reg.predict(x_test)"
   ]
  },
  {
   "source": [
    "$$\n",
    "\\mathrm{P}=\\frac{T P}{T P+F P}\n",
    "$$\n",
    "\n",
    "$$\n",
    "\\mathrm{R}=\\frac{T P}{T P+F N}\n",
    "$$\n",
    "\n",
    "$$\n",
    "\\mathrm{F} 1=\\frac{2 \\times P \\times R}{P+R}\n",
    "$$\n",
    "\n",
    "\n"
   ],
   "cell_type": "markdown",
   "metadata": {}
  },
  {
   "source": [],
   "cell_type": "markdown",
   "metadata": {}
  }
 ]
}