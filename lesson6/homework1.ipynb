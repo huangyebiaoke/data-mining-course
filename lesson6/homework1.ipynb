{
 "cells": [
  {
   "cell_type": "markdown",
   "metadata": {},
   "source": [
    "<font color=Red>**Note**</font>: In order to make your answer stand out, please use colored text to write your answer. For example, the following code sets font color to blue.\n",
    "\n",
    "<font color=Blue>我是蓝色</font>\n",
    "\n",
    "**You should put answer to every question in a different cell, so that the result can be displayed clearly. You can also add cells when necessary.** \n",
    "\n",
    "**Rename your Jupyter Notebook file as classNumber_Name, and send it to this email address(1614688593@qq.com) before due date.**\n",
    "\n",
    "<font color=Red>**Due Date: 2021-03-31 23:59**</font>"
   ]
  },
  {
   "cell_type": "markdown",
   "metadata": {},
   "source": [
    "# Lab 1 Dataset manipulation with Pandas\n",
    "\n",
    "This tutorial contains 34 questions. All need to be answered except for Question 18, which is optional.\n",
    "\n",
    "## 1. Load dataset and overview\n",
    "Load the video game sales dataset from the vgsales.csv file into a DataFrame object.\n",
    "\n",
    "**【Q1】Call the common attributes of DataFrame and check their outputs (df.index, df.columns, df.values, df.dtypes, df.ndim, df.shape, df.size).**\n",
    "\n",
    "**【Q2】How many records and how many attributes does it have?**"
   ]
  },
  {
   "cell_type": "code",
   "execution_count": 91,
   "metadata": {},
   "outputs": [
    {
     "output_type": "stream",
     "name": "stdout",
     "text": [
      "df.index:\n RangeIndex(start=0, stop=16598, step=1)\ndf.columns:\n Index(['Rank', 'Name', 'Platform', 'Year', 'Genre', 'Publisher', 'NA_Sales',\n       'EU_Sales', 'JP_Sales', 'Other_Sales', 'Global_Sales'],\n      dtype='object')\ndf.values:\n [[1 'Wii Sports' 'Wii' ... 3.77 8.46 82.74]\n [2 'Super Mario Bros.' 'NES' ... 6.81 0.77 40.24]\n [3 'Mario Kart Wii' 'Wii' ... 3.79 3.31 35.82]\n ...\n [16598 'SCORE International Baja 1000: The Official Game' 'PS2' ... 0.0\n  0.0 0.01]\n [16599 'Know How 2' 'DS' ... 0.0 0.0 0.01]\n [16600 'Spirits & Spells' 'GBA' ... 0.0 0.0 0.01]]\ndf.dtypes:\n Rank              int64\nName             object\nPlatform         object\nYear            float64\nGenre            object\nPublisher        object\nNA_Sales        float64\nEU_Sales        float64\nJP_Sales        float64\nOther_Sales     float64\nGlobal_Sales    float64\ndtype: object\ndf.ndim:\n 2\ndf.shape:\n (16598, 11)\ndf.size:\n 182578\n"
     ]
    }
   ],
   "source": [
    "import pandas as pd\n",
    "\n",
    "df=pd.read_csv('./vgsales.csv')\n",
    "print('df.index:\\n',df.index)\n",
    "print('df.columns:\\n',df.columns)\n",
    "print('df.values:\\n',df.values)\n",
    "print('df.dtypes:\\n',df.dtypes)\n",
    "print('df.ndim:\\n',df.ndim)\n",
    "print('df.shape:\\n',df.shape)\n",
    "print('df.size:\\n',df.size)"
   ]
  },
  {
   "cell_type": "code",
   "execution_count": 7,
   "metadata": {},
   "outputs": [
    {
     "output_type": "stream",
     "name": "stdout",
     "text": [
      "records: 16598\nattributes: 11\n"
     ]
    }
   ],
   "source": [
    "print('records:',df.shape[0])\n",
    "print('attributes:',df.shape[1])"
   ]
  },
  {
   "cell_type": "markdown",
   "metadata": {},
   "source": [
    "Describe the dataset with the df.describe() method. This method computes simple statistics of the numeric attributes. \n",
    "\n",
    "**【Q3】Does the output includes every attribute? If not, which ones are missing, why? What did you find from the simple statistics?**"
   ]
  },
  {
   "cell_type": "code",
   "execution_count": 8,
   "metadata": {},
   "outputs": [
    {
     "output_type": "execute_result",
     "data": {
      "text/plain": [
       "               Rank          Year      NA_Sales      EU_Sales      JP_Sales  \\\n",
       "count  16598.000000  16327.000000  16598.000000  16598.000000  16598.000000   \n",
       "mean    8300.605254   2006.406443      0.264667      0.146652      0.077782   \n",
       "std     4791.853933      5.828981      0.816683      0.505351      0.309291   \n",
       "min        1.000000   1980.000000      0.000000      0.000000      0.000000   \n",
       "25%     4151.250000   2003.000000      0.000000      0.000000      0.000000   \n",
       "50%     8300.500000   2007.000000      0.080000      0.020000      0.000000   \n",
       "75%    12449.750000   2010.000000      0.240000      0.110000      0.040000   \n",
       "max    16600.000000   2020.000000     41.490000     29.020000     10.220000   \n",
       "\n",
       "        Other_Sales  Global_Sales  \n",
       "count  16598.000000  16598.000000  \n",
       "mean       0.048063      0.537441  \n",
       "std        0.188588      1.555028  \n",
       "min        0.000000      0.010000  \n",
       "25%        0.000000      0.060000  \n",
       "50%        0.010000      0.170000  \n",
       "75%        0.040000      0.470000  \n",
       "max       10.570000     82.740000  "
      ],
      "text/html": "<div>\n<style scoped>\n    .dataframe tbody tr th:only-of-type {\n        vertical-align: middle;\n    }\n\n    .dataframe tbody tr th {\n        vertical-align: top;\n    }\n\n    .dataframe thead th {\n        text-align: right;\n    }\n</style>\n<table border=\"1\" class=\"dataframe\">\n  <thead>\n    <tr style=\"text-align: right;\">\n      <th></th>\n      <th>Rank</th>\n      <th>Year</th>\n      <th>NA_Sales</th>\n      <th>EU_Sales</th>\n      <th>JP_Sales</th>\n      <th>Other_Sales</th>\n      <th>Global_Sales</th>\n    </tr>\n  </thead>\n  <tbody>\n    <tr>\n      <th>count</th>\n      <td>16598.000000</td>\n      <td>16327.000000</td>\n      <td>16598.000000</td>\n      <td>16598.000000</td>\n      <td>16598.000000</td>\n      <td>16598.000000</td>\n      <td>16598.000000</td>\n    </tr>\n    <tr>\n      <th>mean</th>\n      <td>8300.605254</td>\n      <td>2006.406443</td>\n      <td>0.264667</td>\n      <td>0.146652</td>\n      <td>0.077782</td>\n      <td>0.048063</td>\n      <td>0.537441</td>\n    </tr>\n    <tr>\n      <th>std</th>\n      <td>4791.853933</td>\n      <td>5.828981</td>\n      <td>0.816683</td>\n      <td>0.505351</td>\n      <td>0.309291</td>\n      <td>0.188588</td>\n      <td>1.555028</td>\n    </tr>\n    <tr>\n      <th>min</th>\n      <td>1.000000</td>\n      <td>1980.000000</td>\n      <td>0.000000</td>\n      <td>0.000000</td>\n      <td>0.000000</td>\n      <td>0.000000</td>\n      <td>0.010000</td>\n    </tr>\n    <tr>\n      <th>25%</th>\n      <td>4151.250000</td>\n      <td>2003.000000</td>\n      <td>0.000000</td>\n      <td>0.000000</td>\n      <td>0.000000</td>\n      <td>0.000000</td>\n      <td>0.060000</td>\n    </tr>\n    <tr>\n      <th>50%</th>\n      <td>8300.500000</td>\n      <td>2007.000000</td>\n      <td>0.080000</td>\n      <td>0.020000</td>\n      <td>0.000000</td>\n      <td>0.010000</td>\n      <td>0.170000</td>\n    </tr>\n    <tr>\n      <th>75%</th>\n      <td>12449.750000</td>\n      <td>2010.000000</td>\n      <td>0.240000</td>\n      <td>0.110000</td>\n      <td>0.040000</td>\n      <td>0.040000</td>\n      <td>0.470000</td>\n    </tr>\n    <tr>\n      <th>max</th>\n      <td>16600.000000</td>\n      <td>2020.000000</td>\n      <td>41.490000</td>\n      <td>29.020000</td>\n      <td>10.220000</td>\n      <td>10.570000</td>\n      <td>82.740000</td>\n    </tr>\n  </tbody>\n</table>\n</div>"
     },
     "metadata": {},
     "execution_count": 8
    }
   ],
   "source": [
    "df.describe()"
   ]
  },
  {
   "source": [
    "<font color=Blue>\n",
    "No, the output just include numeric attributes. 'Name','Platform','Genre','Publisher' are missing, because the dtypes of them is object rather than float64. I find that the total video games is 16598, the max Global_Sales is 82.74 and the min of Global_Sales is 0.01, the records of the table is from 1980 to 2020.\n",
    "</font>\n",
    "\n",
    "**Type of data**\n",
    "1. numeric/continuous\n",
    "2. nominal/categorical/discrate(a finite pre-specified set of data)\n",
    "\n"
   ],
   "cell_type": "markdown",
   "metadata": {}
  },
  {
   "cell_type": "markdown",
   "metadata": {},
   "source": [
    "## 2. Data selection\n",
    "\n",
    "### 2.1 Select one or more rows\n",
    "- **【Q4】print video games with the top five annual sales (the first 5 rows)**\n",
    "- **【Q5】print video games with the 5-10 sales (records 5-10)**\n",
    "- **【Q6】print video games with the least five annual sales (the last 5 rows)**\n",
    "- **【Q7】print video games with the 1, 10, 50, and 100 sales (index 0, 9, 49 and 99 respectively)**\n",
    "\n",
    "You can try with different methods, and compare their usage."
   ]
  },
  {
   "cell_type": "code",
   "execution_count": 10,
   "metadata": {},
   "outputs": [
    {
     "output_type": "stream",
     "name": "stdout",
     "text": [
      "Q4:\n    Rank                      Name Platform    Year         Genre Publisher  \\\n0     1                Wii Sports      Wii  2006.0        Sports  Nintendo   \n1     2         Super Mario Bros.      NES  1985.0      Platform  Nintendo   \n2     3            Mario Kart Wii      Wii  2008.0        Racing  Nintendo   \n3     4         Wii Sports Resort      Wii  2009.0        Sports  Nintendo   \n4     5  Pokemon Red/Pokemon Blue       GB  1996.0  Role-Playing  Nintendo   \n\n   NA_Sales  EU_Sales  JP_Sales  Other_Sales  Global_Sales  \n0     41.49     29.02      3.77         8.46         82.74  \n1     29.08      3.58      6.81         0.77         40.24  \n2     15.85     12.88      3.79         3.31         35.82  \n3     15.75     11.01      3.28         2.96         33.00  \n4     11.27      8.89     10.22         1.00         31.37  \nQ5:\n    Rank                       Name Platform    Year     Genre Publisher  \\\n5     6                     Tetris       GB  1989.0    Puzzle  Nintendo   \n6     7      New Super Mario Bros.       DS  2006.0  Platform  Nintendo   \n7     8                   Wii Play      Wii  2006.0      Misc  Nintendo   \n8     9  New Super Mario Bros. Wii      Wii  2009.0  Platform  Nintendo   \n9    10                  Duck Hunt      NES  1984.0   Shooter  Nintendo   \n\n   NA_Sales  EU_Sales  JP_Sales  Other_Sales  Global_Sales  \n5     23.20      2.26      4.22         0.58         30.26  \n6     11.38      9.23      6.50         2.90         30.01  \n7     14.03      9.20      2.93         2.85         29.02  \n8     14.59      7.06      4.70         2.26         28.62  \n9     26.93      0.63      0.28         0.47         28.31  \nQ6:\n         Rank                                              Name Platform  \\\n16593  16596                Woody Woodpecker in Crazy Castle 5      GBA   \n16594  16597                     Men in Black II: Alien Escape       GC   \n16595  16598  SCORE International Baja 1000: The Official Game      PS2   \n16596  16599                                        Know How 2       DS   \n16597  16600                                  Spirits & Spells      GBA   \n\n         Year     Genre   Publisher  NA_Sales  EU_Sales  JP_Sales  \\\n16593  2002.0  Platform       Kemco      0.01      0.00       0.0   \n16594  2003.0   Shooter  Infogrames      0.01      0.00       0.0   \n16595  2008.0    Racing  Activision      0.00      0.00       0.0   \n16596  2010.0    Puzzle    7G//AMES      0.00      0.01       0.0   \n16597  2003.0  Platform     Wanadoo      0.01      0.00       0.0   \n\n       Other_Sales  Global_Sales  \n16593          0.0          0.01  \n16594          0.0          0.01  \n16595          0.0          0.01  \n16596          0.0          0.01  \n16597          0.0          0.01  \nQ7:\n Rank                     1\nName            Wii Sports\nPlatform               Wii\nYear                2006.0\nGenre               Sports\nPublisher         Nintendo\nNA_Sales             41.49\nEU_Sales             29.02\nJP_Sales              3.77\nOther_Sales           8.46\nGlobal_Sales         82.74\nName: 0, dtype: object Rank                   10\nName            Duck Hunt\nPlatform              NES\nYear               1984.0\nGenre             Shooter\nPublisher        Nintendo\nNA_Sales            26.93\nEU_Sales             0.63\nJP_Sales             0.28\nOther_Sales          0.47\nGlobal_Sales        28.31\nName: 9, dtype: object Rank                                                   50\nName            Pokemon Omega Ruby/Pokemon Alpha Sapphire\nPlatform                                              3DS\nYear                                               2014.0\nGenre                                        Role-Playing\nPublisher                                        Nintendo\nNA_Sales                                             4.23\nEU_Sales                                             3.37\nJP_Sales                                             3.08\nOther_Sales                                          0.65\nGlobal_Sales                                        11.33\nName: 49, dtype: object Rank                        100\nName              Battlefield 3\nPlatform                   X360\nYear                     2011.0\nGenre                   Shooter\nPublisher       Electronic Arts\nNA_Sales                   4.46\nEU_Sales                   2.13\nJP_Sales                   0.06\nOther_Sales                0.69\nGlobal_Sales               7.34\nName: 99, dtype: object\n"
     ]
    }
   ],
   "source": [
    "print('Q4:\\n',df.head(5))\n",
    "print('Q5:\\n',df[5:10])\n",
    "print('Q6:\\n',df.tail(5))\n",
    "print('Q7:\\n',df.iloc[0],df.iloc[9],df.iloc[49],df.loc[99])"
   ]
  },
  {
   "cell_type": "markdown",
   "metadata": {},
   "source": [
    "### 2.2 Select one or more columns\n",
    "- **【Q8】print video games's names (i.e. the Name column)**\n",
    "- **【Q9】print the Name, Year and Global_Sales columns**"
   ]
  },
  {
   "cell_type": "code",
   "execution_count": 14,
   "metadata": {},
   "outputs": [
    {
     "output_type": "execute_result",
     "data": {
      "text/plain": [
       "0                                              Wii Sports\n",
       "1                                       Super Mario Bros.\n",
       "2                                          Mario Kart Wii\n",
       "3                                       Wii Sports Resort\n",
       "4                                Pokemon Red/Pokemon Blue\n",
       "                               ...                       \n",
       "16593                  Woody Woodpecker in Crazy Castle 5\n",
       "16594                       Men in Black II: Alien Escape\n",
       "16595    SCORE International Baja 1000: The Official Game\n",
       "16596                                          Know How 2\n",
       "16597                                    Spirits & Spells\n",
       "Name: Name, Length: 16598, dtype: object"
      ]
     },
     "metadata": {},
     "execution_count": 14
    }
   ],
   "source": [
    "df['Name']\n",
    "# df.Name"
   ]
  },
  {
   "cell_type": "code",
   "execution_count": 15,
   "metadata": {},
   "outputs": [
    {
     "output_type": "execute_result",
     "data": {
      "text/plain": [
       "                                                   Name    Year  Global_Sales\n",
       "0                                            Wii Sports  2006.0         82.74\n",
       "1                                     Super Mario Bros.  1985.0         40.24\n",
       "2                                        Mario Kart Wii  2008.0         35.82\n",
       "3                                     Wii Sports Resort  2009.0         33.00\n",
       "4                              Pokemon Red/Pokemon Blue  1996.0         31.37\n",
       "...                                                 ...     ...           ...\n",
       "16593                Woody Woodpecker in Crazy Castle 5  2002.0          0.01\n",
       "16594                     Men in Black II: Alien Escape  2003.0          0.01\n",
       "16595  SCORE International Baja 1000: The Official Game  2008.0          0.01\n",
       "16596                                        Know How 2  2010.0          0.01\n",
       "16597                                  Spirits & Spells  2003.0          0.01\n",
       "\n",
       "[16598 rows x 3 columns]"
      ],
      "text/html": "<div>\n<style scoped>\n    .dataframe tbody tr th:only-of-type {\n        vertical-align: middle;\n    }\n\n    .dataframe tbody tr th {\n        vertical-align: top;\n    }\n\n    .dataframe thead th {\n        text-align: right;\n    }\n</style>\n<table border=\"1\" class=\"dataframe\">\n  <thead>\n    <tr style=\"text-align: right;\">\n      <th></th>\n      <th>Name</th>\n      <th>Year</th>\n      <th>Global_Sales</th>\n    </tr>\n  </thead>\n  <tbody>\n    <tr>\n      <th>0</th>\n      <td>Wii Sports</td>\n      <td>2006.0</td>\n      <td>82.74</td>\n    </tr>\n    <tr>\n      <th>1</th>\n      <td>Super Mario Bros.</td>\n      <td>1985.0</td>\n      <td>40.24</td>\n    </tr>\n    <tr>\n      <th>2</th>\n      <td>Mario Kart Wii</td>\n      <td>2008.0</td>\n      <td>35.82</td>\n    </tr>\n    <tr>\n      <th>3</th>\n      <td>Wii Sports Resort</td>\n      <td>2009.0</td>\n      <td>33.00</td>\n    </tr>\n    <tr>\n      <th>4</th>\n      <td>Pokemon Red/Pokemon Blue</td>\n      <td>1996.0</td>\n      <td>31.37</td>\n    </tr>\n    <tr>\n      <th>...</th>\n      <td>...</td>\n      <td>...</td>\n      <td>...</td>\n    </tr>\n    <tr>\n      <th>16593</th>\n      <td>Woody Woodpecker in Crazy Castle 5</td>\n      <td>2002.0</td>\n      <td>0.01</td>\n    </tr>\n    <tr>\n      <th>16594</th>\n      <td>Men in Black II: Alien Escape</td>\n      <td>2003.0</td>\n      <td>0.01</td>\n    </tr>\n    <tr>\n      <th>16595</th>\n      <td>SCORE International Baja 1000: The Official Game</td>\n      <td>2008.0</td>\n      <td>0.01</td>\n    </tr>\n    <tr>\n      <th>16596</th>\n      <td>Know How 2</td>\n      <td>2010.0</td>\n      <td>0.01</td>\n    </tr>\n    <tr>\n      <th>16597</th>\n      <td>Spirits &amp; Spells</td>\n      <td>2003.0</td>\n      <td>0.01</td>\n    </tr>\n  </tbody>\n</table>\n<p>16598 rows × 3 columns</p>\n</div>"
     },
     "metadata": {},
     "execution_count": 15
    }
   ],
   "source": [
    "df[['Name','Year','Global_Sales']]"
   ]
  },
  {
   "cell_type": "markdown",
   "metadata": {},
   "source": [
    "### 2.3 Select chunks\n",
    "- **【Q10】print the 2-5 attributes of records 2-4**\n",
    "\n",
    "Note: if you want to use loc(), you need to figure out the names of columns 2-4.  "
   ]
  },
  {
   "cell_type": "code",
   "execution_count": 17,
   "metadata": {},
   "outputs": [
    {
     "output_type": "execute_result",
     "data": {
      "text/plain": [
       "  Platform    Year   Genre Publisher\n",
       "2      Wii  2008.0  Racing  Nintendo\n",
       "3      Wii  2009.0  Sports  Nintendo"
      ],
      "text/html": "<div>\n<style scoped>\n    .dataframe tbody tr th:only-of-type {\n        vertical-align: middle;\n    }\n\n    .dataframe tbody tr th {\n        vertical-align: top;\n    }\n\n    .dataframe thead th {\n        text-align: right;\n    }\n</style>\n<table border=\"1\" class=\"dataframe\">\n  <thead>\n    <tr style=\"text-align: right;\">\n      <th></th>\n      <th>Platform</th>\n      <th>Year</th>\n      <th>Genre</th>\n      <th>Publisher</th>\n    </tr>\n  </thead>\n  <tbody>\n    <tr>\n      <th>2</th>\n      <td>Wii</td>\n      <td>2008.0</td>\n      <td>Racing</td>\n      <td>Nintendo</td>\n    </tr>\n    <tr>\n      <th>3</th>\n      <td>Wii</td>\n      <td>2009.0</td>\n      <td>Sports</td>\n      <td>Nintendo</td>\n    </tr>\n  </tbody>\n</table>\n</div>"
     },
     "metadata": {},
     "execution_count": 17
    }
   ],
   "source": [
    "df.iloc[2:4,[2,3,4,5]]"
   ]
  },
  {
   "cell_type": "markdown",
   "metadata": {},
   "source": [
    "### 2.4 Select with conditional statements\n",
    "\n",
    "- **【Q11】Print sales records for 'Super Mario Bros.'**\n",
    "- **【Q12】Print action games published in 2006.**\n",
    "- **【Q13】Print the names of the action games published in 2006.**\n",
    "- **【Q14】Which games were published before 2000 and obtained a sales record greater than 30 million?**\n",
    "- **【Q15】Which action games obtained a sales record greater than 20 million?**"
   ]
  },
  {
   "cell_type": "code",
   "execution_count": 20,
   "metadata": {},
   "outputs": [
    {
     "output_type": "execute_result",
     "data": {
      "text/plain": [
       "     Rank               Name Platform    Year     Genre Publisher  NA_Sales  \\\n",
       "1       2  Super Mario Bros.      NES  1985.0  Platform  Nintendo     29.08   \n",
       "200   201  Super Mario Bros.       GB  1999.0  Platform  Nintendo      3.40   \n",
       "\n",
       "     EU_Sales  JP_Sales  Other_Sales  Global_Sales  \n",
       "1        3.58      6.81         0.77         40.24  \n",
       "200      1.30      0.15         0.22          5.07  "
      ],
      "text/html": "<div>\n<style scoped>\n    .dataframe tbody tr th:only-of-type {\n        vertical-align: middle;\n    }\n\n    .dataframe tbody tr th {\n        vertical-align: top;\n    }\n\n    .dataframe thead th {\n        text-align: right;\n    }\n</style>\n<table border=\"1\" class=\"dataframe\">\n  <thead>\n    <tr style=\"text-align: right;\">\n      <th></th>\n      <th>Rank</th>\n      <th>Name</th>\n      <th>Platform</th>\n      <th>Year</th>\n      <th>Genre</th>\n      <th>Publisher</th>\n      <th>NA_Sales</th>\n      <th>EU_Sales</th>\n      <th>JP_Sales</th>\n      <th>Other_Sales</th>\n      <th>Global_Sales</th>\n    </tr>\n  </thead>\n  <tbody>\n    <tr>\n      <th>1</th>\n      <td>2</td>\n      <td>Super Mario Bros.</td>\n      <td>NES</td>\n      <td>1985.0</td>\n      <td>Platform</td>\n      <td>Nintendo</td>\n      <td>29.08</td>\n      <td>3.58</td>\n      <td>6.81</td>\n      <td>0.77</td>\n      <td>40.24</td>\n    </tr>\n    <tr>\n      <th>200</th>\n      <td>201</td>\n      <td>Super Mario Bros.</td>\n      <td>GB</td>\n      <td>1999.0</td>\n      <td>Platform</td>\n      <td>Nintendo</td>\n      <td>3.40</td>\n      <td>1.30</td>\n      <td>0.15</td>\n      <td>0.22</td>\n      <td>5.07</td>\n    </tr>\n  </tbody>\n</table>\n</div>"
     },
     "metadata": {},
     "execution_count": 20
    }
   ],
   "source": [
    "df[df.Name=='Super Mario Bros.']"
   ]
  },
  {
   "cell_type": "code",
   "execution_count": 21,
   "metadata": {},
   "outputs": [
    {
     "output_type": "execute_result",
     "data": {
      "text/plain": [
       "        Rank                                               Name Platform  \\\n",
       "100      101             The Legend of Zelda: Twilight Princess      Wii   \n",
       "198      199                Grand Theft Auto: Vice City Stories      PSP   \n",
       "360      361             Grand Theft Auto: Liberty City Stories      PS2   \n",
       "556      557            LEGO Star Wars II: The Original Trilogy      PS2   \n",
       "569      570                                     Hannah Montana       DS   \n",
       "...      ...                                                ...      ...   \n",
       "15997  16000                                          Black Cat      PS2   \n",
       "16023  16026  Rengoku II: The Stairway to H.E.A.V.E.N. (jp s...      PSP   \n",
       "16035  16038                                    Kaitou Rousseau       DS   \n",
       "16230  16233           Hi Hi Puffy AmiYumi: The Genie & the Amp       DS   \n",
       "16413  16416                           The Godfather (JP sales)     X360   \n",
       "\n",
       "         Year   Genre                     Publisher  NA_Sales  EU_Sales  \\\n",
       "100    2006.0  Action                      Nintendo      3.83      2.19   \n",
       "198    2006.0  Action          Take-Two Interactive      1.70      2.02   \n",
       "360    2006.0  Action          Take-Two Interactive      1.56      1.40   \n",
       "556    2006.0  Action                     LucasArts      1.85      0.64   \n",
       "569    2006.0  Action    Disney Interactive Studios      1.59      0.80   \n",
       "...       ...     ...                           ...       ...       ...   \n",
       "15997  2006.0  Action                        Capcom      0.00      0.00   \n",
       "16023  2006.0  Action  Konami Digital Entertainment      0.00      0.00   \n",
       "16035  2006.0  Action            Namco Bandai Games      0.00      0.00   \n",
       "16230  2006.0  Action                   D3Publisher      0.01      0.00   \n",
       "16413  2006.0  Action               Electronic Arts      0.00      0.00   \n",
       "\n",
       "       JP_Sales  Other_Sales  Global_Sales  \n",
       "100        0.60         0.70          7.31  \n",
       "198        0.16         1.21          5.08  \n",
       "360        0.07         0.50          3.54  \n",
       "556        0.01         0.19          2.69  \n",
       "569        0.00         0.26          2.65  \n",
       "...         ...          ...           ...  \n",
       "15997      0.01         0.00          0.01  \n",
       "16023      0.01         0.00          0.01  \n",
       "16035      0.01         0.00          0.01  \n",
       "16230      0.00         0.00          0.01  \n",
       "16413      0.01         0.00          0.01  \n",
       "\n",
       "[184 rows x 11 columns]"
      ],
      "text/html": "<div>\n<style scoped>\n    .dataframe tbody tr th:only-of-type {\n        vertical-align: middle;\n    }\n\n    .dataframe tbody tr th {\n        vertical-align: top;\n    }\n\n    .dataframe thead th {\n        text-align: right;\n    }\n</style>\n<table border=\"1\" class=\"dataframe\">\n  <thead>\n    <tr style=\"text-align: right;\">\n      <th></th>\n      <th>Rank</th>\n      <th>Name</th>\n      <th>Platform</th>\n      <th>Year</th>\n      <th>Genre</th>\n      <th>Publisher</th>\n      <th>NA_Sales</th>\n      <th>EU_Sales</th>\n      <th>JP_Sales</th>\n      <th>Other_Sales</th>\n      <th>Global_Sales</th>\n    </tr>\n  </thead>\n  <tbody>\n    <tr>\n      <th>100</th>\n      <td>101</td>\n      <td>The Legend of Zelda: Twilight Princess</td>\n      <td>Wii</td>\n      <td>2006.0</td>\n      <td>Action</td>\n      <td>Nintendo</td>\n      <td>3.83</td>\n      <td>2.19</td>\n      <td>0.60</td>\n      <td>0.70</td>\n      <td>7.31</td>\n    </tr>\n    <tr>\n      <th>198</th>\n      <td>199</td>\n      <td>Grand Theft Auto: Vice City Stories</td>\n      <td>PSP</td>\n      <td>2006.0</td>\n      <td>Action</td>\n      <td>Take-Two Interactive</td>\n      <td>1.70</td>\n      <td>2.02</td>\n      <td>0.16</td>\n      <td>1.21</td>\n      <td>5.08</td>\n    </tr>\n    <tr>\n      <th>360</th>\n      <td>361</td>\n      <td>Grand Theft Auto: Liberty City Stories</td>\n      <td>PS2</td>\n      <td>2006.0</td>\n      <td>Action</td>\n      <td>Take-Two Interactive</td>\n      <td>1.56</td>\n      <td>1.40</td>\n      <td>0.07</td>\n      <td>0.50</td>\n      <td>3.54</td>\n    </tr>\n    <tr>\n      <th>556</th>\n      <td>557</td>\n      <td>LEGO Star Wars II: The Original Trilogy</td>\n      <td>PS2</td>\n      <td>2006.0</td>\n      <td>Action</td>\n      <td>LucasArts</td>\n      <td>1.85</td>\n      <td>0.64</td>\n      <td>0.01</td>\n      <td>0.19</td>\n      <td>2.69</td>\n    </tr>\n    <tr>\n      <th>569</th>\n      <td>570</td>\n      <td>Hannah Montana</td>\n      <td>DS</td>\n      <td>2006.0</td>\n      <td>Action</td>\n      <td>Disney Interactive Studios</td>\n      <td>1.59</td>\n      <td>0.80</td>\n      <td>0.00</td>\n      <td>0.26</td>\n      <td>2.65</td>\n    </tr>\n    <tr>\n      <th>...</th>\n      <td>...</td>\n      <td>...</td>\n      <td>...</td>\n      <td>...</td>\n      <td>...</td>\n      <td>...</td>\n      <td>...</td>\n      <td>...</td>\n      <td>...</td>\n      <td>...</td>\n      <td>...</td>\n    </tr>\n    <tr>\n      <th>15997</th>\n      <td>16000</td>\n      <td>Black Cat</td>\n      <td>PS2</td>\n      <td>2006.0</td>\n      <td>Action</td>\n      <td>Capcom</td>\n      <td>0.00</td>\n      <td>0.00</td>\n      <td>0.01</td>\n      <td>0.00</td>\n      <td>0.01</td>\n    </tr>\n    <tr>\n      <th>16023</th>\n      <td>16026</td>\n      <td>Rengoku II: The Stairway to H.E.A.V.E.N. (jp s...</td>\n      <td>PSP</td>\n      <td>2006.0</td>\n      <td>Action</td>\n      <td>Konami Digital Entertainment</td>\n      <td>0.00</td>\n      <td>0.00</td>\n      <td>0.01</td>\n      <td>0.00</td>\n      <td>0.01</td>\n    </tr>\n    <tr>\n      <th>16035</th>\n      <td>16038</td>\n      <td>Kaitou Rousseau</td>\n      <td>DS</td>\n      <td>2006.0</td>\n      <td>Action</td>\n      <td>Namco Bandai Games</td>\n      <td>0.00</td>\n      <td>0.00</td>\n      <td>0.01</td>\n      <td>0.00</td>\n      <td>0.01</td>\n    </tr>\n    <tr>\n      <th>16230</th>\n      <td>16233</td>\n      <td>Hi Hi Puffy AmiYumi: The Genie &amp; the Amp</td>\n      <td>DS</td>\n      <td>2006.0</td>\n      <td>Action</td>\n      <td>D3Publisher</td>\n      <td>0.01</td>\n      <td>0.00</td>\n      <td>0.00</td>\n      <td>0.00</td>\n      <td>0.01</td>\n    </tr>\n    <tr>\n      <th>16413</th>\n      <td>16416</td>\n      <td>The Godfather (JP sales)</td>\n      <td>X360</td>\n      <td>2006.0</td>\n      <td>Action</td>\n      <td>Electronic Arts</td>\n      <td>0.00</td>\n      <td>0.00</td>\n      <td>0.01</td>\n      <td>0.00</td>\n      <td>0.01</td>\n    </tr>\n  </tbody>\n</table>\n<p>184 rows × 11 columns</p>\n</div>"
     },
     "metadata": {},
     "execution_count": 21
    }
   ],
   "source": [
    "df.loc[(df.Genre=='Action') & (df.Year==2006),:]"
   ]
  },
  {
   "cell_type": "code",
   "execution_count": 22,
   "metadata": {},
   "outputs": [
    {
     "output_type": "execute_result",
     "data": {
      "text/plain": [
       "0                                    Wii Sports\n",
       "6                         New Super Mario Bros.\n",
       "7                                      Wii Play\n",
       "20                Pokemon Diamond/Pokemon Pearl\n",
       "100      The Legend of Zelda: Twilight Princess\n",
       "                          ...                  \n",
       "16513                           Deal or No Deal\n",
       "16520      Tengai Makyo: Dai Yon no Mokushiroku\n",
       "16523                   Style Book: Cinnamoroll\n",
       "16547                           Bookworm Deluxe\n",
       "16568                               XI Coliseum\n",
       "Name: Name, Length: 1008, dtype: object"
      ]
     },
     "metadata": {},
     "execution_count": 22
    }
   ],
   "source": [
    "df.Name[df.Year==2006]"
   ]
  },
  {
   "cell_type": "code",
   "execution_count": 23,
   "metadata": {},
   "outputs": [
    {
     "output_type": "execute_result",
     "data": {
      "text/plain": [
       "   Rank                      Name Platform    Year         Genre Publisher  \\\n",
       "1     2         Super Mario Bros.      NES  1985.0      Platform  Nintendo   \n",
       "4     5  Pokemon Red/Pokemon Blue       GB  1996.0  Role-Playing  Nintendo   \n",
       "5     6                    Tetris       GB  1989.0        Puzzle  Nintendo   \n",
       "\n",
       "   NA_Sales  EU_Sales  JP_Sales  Other_Sales  Global_Sales  \n",
       "1     29.08      3.58      6.81         0.77         40.24  \n",
       "4     11.27      8.89     10.22         1.00         31.37  \n",
       "5     23.20      2.26      4.22         0.58         30.26  "
      ],
      "text/html": "<div>\n<style scoped>\n    .dataframe tbody tr th:only-of-type {\n        vertical-align: middle;\n    }\n\n    .dataframe tbody tr th {\n        vertical-align: top;\n    }\n\n    .dataframe thead th {\n        text-align: right;\n    }\n</style>\n<table border=\"1\" class=\"dataframe\">\n  <thead>\n    <tr style=\"text-align: right;\">\n      <th></th>\n      <th>Rank</th>\n      <th>Name</th>\n      <th>Platform</th>\n      <th>Year</th>\n      <th>Genre</th>\n      <th>Publisher</th>\n      <th>NA_Sales</th>\n      <th>EU_Sales</th>\n      <th>JP_Sales</th>\n      <th>Other_Sales</th>\n      <th>Global_Sales</th>\n    </tr>\n  </thead>\n  <tbody>\n    <tr>\n      <th>1</th>\n      <td>2</td>\n      <td>Super Mario Bros.</td>\n      <td>NES</td>\n      <td>1985.0</td>\n      <td>Platform</td>\n      <td>Nintendo</td>\n      <td>29.08</td>\n      <td>3.58</td>\n      <td>6.81</td>\n      <td>0.77</td>\n      <td>40.24</td>\n    </tr>\n    <tr>\n      <th>4</th>\n      <td>5</td>\n      <td>Pokemon Red/Pokemon Blue</td>\n      <td>GB</td>\n      <td>1996.0</td>\n      <td>Role-Playing</td>\n      <td>Nintendo</td>\n      <td>11.27</td>\n      <td>8.89</td>\n      <td>10.22</td>\n      <td>1.00</td>\n      <td>31.37</td>\n    </tr>\n    <tr>\n      <th>5</th>\n      <td>6</td>\n      <td>Tetris</td>\n      <td>GB</td>\n      <td>1989.0</td>\n      <td>Puzzle</td>\n      <td>Nintendo</td>\n      <td>23.20</td>\n      <td>2.26</td>\n      <td>4.22</td>\n      <td>0.58</td>\n      <td>30.26</td>\n    </tr>\n  </tbody>\n</table>\n</div>"
     },
     "metadata": {},
     "execution_count": 23
    }
   ],
   "source": [
    "df.loc[(df.Year<2000) & (df.Global_Sales>30),:]"
   ]
  },
  {
   "cell_type": "code",
   "execution_count": 24,
   "metadata": {},
   "outputs": [
    {
     "output_type": "execute_result",
     "data": {
      "text/plain": [
       "    Rank                           Name Platform    Year   Genre  \\\n",
       "16    17             Grand Theft Auto V      PS3  2013.0  Action   \n",
       "17    18  Grand Theft Auto: San Andreas      PS2  2004.0  Action   \n",
       "\n",
       "               Publisher  NA_Sales  EU_Sales  JP_Sales  Other_Sales  \\\n",
       "16  Take-Two Interactive      7.01      9.27      0.97         4.14   \n",
       "17  Take-Two Interactive      9.43      0.40      0.41        10.57   \n",
       "\n",
       "    Global_Sales  \n",
       "16         21.40  \n",
       "17         20.81  "
      ],
      "text/html": "<div>\n<style scoped>\n    .dataframe tbody tr th:only-of-type {\n        vertical-align: middle;\n    }\n\n    .dataframe tbody tr th {\n        vertical-align: top;\n    }\n\n    .dataframe thead th {\n        text-align: right;\n    }\n</style>\n<table border=\"1\" class=\"dataframe\">\n  <thead>\n    <tr style=\"text-align: right;\">\n      <th></th>\n      <th>Rank</th>\n      <th>Name</th>\n      <th>Platform</th>\n      <th>Year</th>\n      <th>Genre</th>\n      <th>Publisher</th>\n      <th>NA_Sales</th>\n      <th>EU_Sales</th>\n      <th>JP_Sales</th>\n      <th>Other_Sales</th>\n      <th>Global_Sales</th>\n    </tr>\n  </thead>\n  <tbody>\n    <tr>\n      <th>16</th>\n      <td>17</td>\n      <td>Grand Theft Auto V</td>\n      <td>PS3</td>\n      <td>2013.0</td>\n      <td>Action</td>\n      <td>Take-Two Interactive</td>\n      <td>7.01</td>\n      <td>9.27</td>\n      <td>0.97</td>\n      <td>4.14</td>\n      <td>21.40</td>\n    </tr>\n    <tr>\n      <th>17</th>\n      <td>18</td>\n      <td>Grand Theft Auto: San Andreas</td>\n      <td>PS2</td>\n      <td>2004.0</td>\n      <td>Action</td>\n      <td>Take-Two Interactive</td>\n      <td>9.43</td>\n      <td>0.40</td>\n      <td>0.41</td>\n      <td>10.57</td>\n      <td>20.81</td>\n    </tr>\n  </tbody>\n</table>\n</div>"
     },
     "metadata": {},
     "execution_count": 24
    }
   ],
   "source": [
    "df.loc[(df.Genre=='Action') & (df.Global_Sales>20),:]"
   ]
  },
  {
   "cell_type": "markdown",
   "metadata": {},
   "source": [
    "## 3. Data manipulation\n",
    "\n",
    "In this section we will practice add/delete rows and columns from a dataset.\n",
    "\n",
    "**【Q16】Create a data subset (vg50) by selecting the first 50 rows and the Name, Year, Publisher columns, i.e. the basic information of a game.**"
   ]
  },
  {
   "cell_type": "code",
   "execution_count": 64,
   "metadata": {},
   "outputs": [],
   "source": [
    "vg50=df.loc[:49,['Name','Year','Publisher']]"
   ]
  },
  {
   "cell_type": "markdown",
   "metadata": {},
   "source": [
    "### 3.1 Add records\n",
    "- **【Q17】Add the last 10 records from the original vg dataset to the vg50 subset. Print the last 15 records of vg50. What did you find?**"
   ]
  },
  {
   "cell_type": "code",
   "execution_count": 65,
   "metadata": {},
   "outputs": [
    {
     "output_type": "execute_result",
     "data": {
      "text/plain": [
       "                                                 Name    Year  \\\n",
       "0                                          Wii Sports  2006.0   \n",
       "1                                   Super Mario Bros.  1985.0   \n",
       "2                                      Mario Kart Wii  2008.0   \n",
       "3                                   Wii Sports Resort  2009.0   \n",
       "4                            Pokemon Red/Pokemon Blue  1996.0   \n",
       "5                                              Tetris  1989.0   \n",
       "6                               New Super Mario Bros.  2006.0   \n",
       "7                                            Wii Play  2006.0   \n",
       "8                           New Super Mario Bros. Wii  2009.0   \n",
       "9                                           Duck Hunt  1984.0   \n",
       "10                                         Nintendogs  2005.0   \n",
       "11                                      Mario Kart DS  2005.0   \n",
       "12                        Pokemon Gold/Pokemon Silver  1999.0   \n",
       "13                                            Wii Fit  2007.0   \n",
       "14                                       Wii Fit Plus  2009.0   \n",
       "15                                 Kinect Adventures!  2010.0   \n",
       "16                                 Grand Theft Auto V  2013.0   \n",
       "17                      Grand Theft Auto: San Andreas  2004.0   \n",
       "18                                  Super Mario World  1990.0   \n",
       "19       Brain Age: Train Your Brain in Minutes a Day  2005.0   \n",
       "20                      Pokemon Diamond/Pokemon Pearl  2006.0   \n",
       "21                                   Super Mario Land  1989.0   \n",
       "22                                Super Mario Bros. 3  1988.0   \n",
       "23                                 Grand Theft Auto V  2013.0   \n",
       "24                        Grand Theft Auto: Vice City  2002.0   \n",
       "25                      Pokemon Ruby/Pokemon Sapphire  2002.0   \n",
       "26                        Pokemon Black/Pokemon White  2010.0   \n",
       "27        Brain Age 2: More Training in Minutes a Day  2005.0   \n",
       "28                             Gran Turismo 3: A-Spec  2001.0   \n",
       "29                     Call of Duty: Modern Warfare 3  2011.0   \n",
       "30            Pokémon Yellow: Special Pikachu Edition  1998.0   \n",
       "31                            Call of Duty: Black Ops  2010.0   \n",
       "32                                Pokemon X/Pokemon Y  2013.0   \n",
       "33                          Call of Duty: Black Ops 3  2015.0   \n",
       "34                         Call of Duty: Black Ops II  2012.0   \n",
       "35                         Call of Duty: Black Ops II  2012.0   \n",
       "36                     Call of Duty: Modern Warfare 2  2009.0   \n",
       "37                     Call of Duty: Modern Warfare 3  2011.0   \n",
       "38                               Grand Theft Auto III  2001.0   \n",
       "39                            Super Smash Bros. Brawl  2008.0   \n",
       "40                            Call of Duty: Black Ops  2010.0   \n",
       "41                        Animal Crossing: Wild World  2005.0   \n",
       "42                                       Mario Kart 7  2011.0   \n",
       "43                                             Halo 3  2007.0   \n",
       "44                                 Grand Theft Auto V  2014.0   \n",
       "45               Pokemon HeartGold/Pokemon SoulSilver  2009.0   \n",
       "46                                     Super Mario 64  1996.0   \n",
       "47                                     Gran Turismo 4  2004.0   \n",
       "48                                 Super Mario Galaxy  2007.0   \n",
       "49          Pokemon Omega Ruby/Pokemon Alpha Sapphire  2014.0   \n",
       "50                                   Mega Brain Boost  2008.0   \n",
       "51  Chou Ezaru wa Akai Hana: Koi wa Tsuki ni Shiru...  2016.0   \n",
       "52  Eiyuu Densetsu: Sora no Kiseki Material Collec...  2007.0   \n",
       "53                                Myst IV: Revelation  2004.0   \n",
       "54                                           Plushees  2008.0   \n",
       "55                 Woody Woodpecker in Crazy Castle 5  2002.0   \n",
       "56                      Men in Black II: Alien Escape  2003.0   \n",
       "57   SCORE International Baja 1000: The Official Game  2008.0   \n",
       "58                                         Know How 2  2010.0   \n",
       "59                                   Spirits & Spells  2003.0   \n",
       "\n",
       "                      Publisher  \n",
       "0                      Nintendo  \n",
       "1                      Nintendo  \n",
       "2                      Nintendo  \n",
       "3                      Nintendo  \n",
       "4                      Nintendo  \n",
       "5                      Nintendo  \n",
       "6                      Nintendo  \n",
       "7                      Nintendo  \n",
       "8                      Nintendo  \n",
       "9                      Nintendo  \n",
       "10                     Nintendo  \n",
       "11                     Nintendo  \n",
       "12                     Nintendo  \n",
       "13                     Nintendo  \n",
       "14                     Nintendo  \n",
       "15       Microsoft Game Studios  \n",
       "16         Take-Two Interactive  \n",
       "17         Take-Two Interactive  \n",
       "18                     Nintendo  \n",
       "19                     Nintendo  \n",
       "20                     Nintendo  \n",
       "21                     Nintendo  \n",
       "22                     Nintendo  \n",
       "23         Take-Two Interactive  \n",
       "24         Take-Two Interactive  \n",
       "25                     Nintendo  \n",
       "26                     Nintendo  \n",
       "27                     Nintendo  \n",
       "28  Sony Computer Entertainment  \n",
       "29                   Activision  \n",
       "30                     Nintendo  \n",
       "31                   Activision  \n",
       "32                     Nintendo  \n",
       "33                   Activision  \n",
       "34                   Activision  \n",
       "35                   Activision  \n",
       "36                   Activision  \n",
       "37                   Activision  \n",
       "38         Take-Two Interactive  \n",
       "39                     Nintendo  \n",
       "40                   Activision  \n",
       "41                     Nintendo  \n",
       "42                     Nintendo  \n",
       "43       Microsoft Game Studios  \n",
       "44         Take-Two Interactive  \n",
       "45                     Nintendo  \n",
       "46                     Nintendo  \n",
       "47  Sony Computer Entertainment  \n",
       "48                     Nintendo  \n",
       "49                     Nintendo  \n",
       "50        Majesco Entertainment  \n",
       "51              dramatic create  \n",
       "52           Falcom Corporation  \n",
       "53                      Ubisoft  \n",
       "54                    Destineer  \n",
       "55                        Kemco  \n",
       "56                   Infogrames  \n",
       "57                   Activision  \n",
       "58                     7G//AMES  \n",
       "59                      Wanadoo  "
      ],
      "text/html": "<div>\n<style scoped>\n    .dataframe tbody tr th:only-of-type {\n        vertical-align: middle;\n    }\n\n    .dataframe tbody tr th {\n        vertical-align: top;\n    }\n\n    .dataframe thead th {\n        text-align: right;\n    }\n</style>\n<table border=\"1\" class=\"dataframe\">\n  <thead>\n    <tr style=\"text-align: right;\">\n      <th></th>\n      <th>Name</th>\n      <th>Year</th>\n      <th>Publisher</th>\n    </tr>\n  </thead>\n  <tbody>\n    <tr>\n      <th>0</th>\n      <td>Wii Sports</td>\n      <td>2006.0</td>\n      <td>Nintendo</td>\n    </tr>\n    <tr>\n      <th>1</th>\n      <td>Super Mario Bros.</td>\n      <td>1985.0</td>\n      <td>Nintendo</td>\n    </tr>\n    <tr>\n      <th>2</th>\n      <td>Mario Kart Wii</td>\n      <td>2008.0</td>\n      <td>Nintendo</td>\n    </tr>\n    <tr>\n      <th>3</th>\n      <td>Wii Sports Resort</td>\n      <td>2009.0</td>\n      <td>Nintendo</td>\n    </tr>\n    <tr>\n      <th>4</th>\n      <td>Pokemon Red/Pokemon Blue</td>\n      <td>1996.0</td>\n      <td>Nintendo</td>\n    </tr>\n    <tr>\n      <th>5</th>\n      <td>Tetris</td>\n      <td>1989.0</td>\n      <td>Nintendo</td>\n    </tr>\n    <tr>\n      <th>6</th>\n      <td>New Super Mario Bros.</td>\n      <td>2006.0</td>\n      <td>Nintendo</td>\n    </tr>\n    <tr>\n      <th>7</th>\n      <td>Wii Play</td>\n      <td>2006.0</td>\n      <td>Nintendo</td>\n    </tr>\n    <tr>\n      <th>8</th>\n      <td>New Super Mario Bros. Wii</td>\n      <td>2009.0</td>\n      <td>Nintendo</td>\n    </tr>\n    <tr>\n      <th>9</th>\n      <td>Duck Hunt</td>\n      <td>1984.0</td>\n      <td>Nintendo</td>\n    </tr>\n    <tr>\n      <th>10</th>\n      <td>Nintendogs</td>\n      <td>2005.0</td>\n      <td>Nintendo</td>\n    </tr>\n    <tr>\n      <th>11</th>\n      <td>Mario Kart DS</td>\n      <td>2005.0</td>\n      <td>Nintendo</td>\n    </tr>\n    <tr>\n      <th>12</th>\n      <td>Pokemon Gold/Pokemon Silver</td>\n      <td>1999.0</td>\n      <td>Nintendo</td>\n    </tr>\n    <tr>\n      <th>13</th>\n      <td>Wii Fit</td>\n      <td>2007.0</td>\n      <td>Nintendo</td>\n    </tr>\n    <tr>\n      <th>14</th>\n      <td>Wii Fit Plus</td>\n      <td>2009.0</td>\n      <td>Nintendo</td>\n    </tr>\n    <tr>\n      <th>15</th>\n      <td>Kinect Adventures!</td>\n      <td>2010.0</td>\n      <td>Microsoft Game Studios</td>\n    </tr>\n    <tr>\n      <th>16</th>\n      <td>Grand Theft Auto V</td>\n      <td>2013.0</td>\n      <td>Take-Two Interactive</td>\n    </tr>\n    <tr>\n      <th>17</th>\n      <td>Grand Theft Auto: San Andreas</td>\n      <td>2004.0</td>\n      <td>Take-Two Interactive</td>\n    </tr>\n    <tr>\n      <th>18</th>\n      <td>Super Mario World</td>\n      <td>1990.0</td>\n      <td>Nintendo</td>\n    </tr>\n    <tr>\n      <th>19</th>\n      <td>Brain Age: Train Your Brain in Minutes a Day</td>\n      <td>2005.0</td>\n      <td>Nintendo</td>\n    </tr>\n    <tr>\n      <th>20</th>\n      <td>Pokemon Diamond/Pokemon Pearl</td>\n      <td>2006.0</td>\n      <td>Nintendo</td>\n    </tr>\n    <tr>\n      <th>21</th>\n      <td>Super Mario Land</td>\n      <td>1989.0</td>\n      <td>Nintendo</td>\n    </tr>\n    <tr>\n      <th>22</th>\n      <td>Super Mario Bros. 3</td>\n      <td>1988.0</td>\n      <td>Nintendo</td>\n    </tr>\n    <tr>\n      <th>23</th>\n      <td>Grand Theft Auto V</td>\n      <td>2013.0</td>\n      <td>Take-Two Interactive</td>\n    </tr>\n    <tr>\n      <th>24</th>\n      <td>Grand Theft Auto: Vice City</td>\n      <td>2002.0</td>\n      <td>Take-Two Interactive</td>\n    </tr>\n    <tr>\n      <th>25</th>\n      <td>Pokemon Ruby/Pokemon Sapphire</td>\n      <td>2002.0</td>\n      <td>Nintendo</td>\n    </tr>\n    <tr>\n      <th>26</th>\n      <td>Pokemon Black/Pokemon White</td>\n      <td>2010.0</td>\n      <td>Nintendo</td>\n    </tr>\n    <tr>\n      <th>27</th>\n      <td>Brain Age 2: More Training in Minutes a Day</td>\n      <td>2005.0</td>\n      <td>Nintendo</td>\n    </tr>\n    <tr>\n      <th>28</th>\n      <td>Gran Turismo 3: A-Spec</td>\n      <td>2001.0</td>\n      <td>Sony Computer Entertainment</td>\n    </tr>\n    <tr>\n      <th>29</th>\n      <td>Call of Duty: Modern Warfare 3</td>\n      <td>2011.0</td>\n      <td>Activision</td>\n    </tr>\n    <tr>\n      <th>30</th>\n      <td>Pokémon Yellow: Special Pikachu Edition</td>\n      <td>1998.0</td>\n      <td>Nintendo</td>\n    </tr>\n    <tr>\n      <th>31</th>\n      <td>Call of Duty: Black Ops</td>\n      <td>2010.0</td>\n      <td>Activision</td>\n    </tr>\n    <tr>\n      <th>32</th>\n      <td>Pokemon X/Pokemon Y</td>\n      <td>2013.0</td>\n      <td>Nintendo</td>\n    </tr>\n    <tr>\n      <th>33</th>\n      <td>Call of Duty: Black Ops 3</td>\n      <td>2015.0</td>\n      <td>Activision</td>\n    </tr>\n    <tr>\n      <th>34</th>\n      <td>Call of Duty: Black Ops II</td>\n      <td>2012.0</td>\n      <td>Activision</td>\n    </tr>\n    <tr>\n      <th>35</th>\n      <td>Call of Duty: Black Ops II</td>\n      <td>2012.0</td>\n      <td>Activision</td>\n    </tr>\n    <tr>\n      <th>36</th>\n      <td>Call of Duty: Modern Warfare 2</td>\n      <td>2009.0</td>\n      <td>Activision</td>\n    </tr>\n    <tr>\n      <th>37</th>\n      <td>Call of Duty: Modern Warfare 3</td>\n      <td>2011.0</td>\n      <td>Activision</td>\n    </tr>\n    <tr>\n      <th>38</th>\n      <td>Grand Theft Auto III</td>\n      <td>2001.0</td>\n      <td>Take-Two Interactive</td>\n    </tr>\n    <tr>\n      <th>39</th>\n      <td>Super Smash Bros. Brawl</td>\n      <td>2008.0</td>\n      <td>Nintendo</td>\n    </tr>\n    <tr>\n      <th>40</th>\n      <td>Call of Duty: Black Ops</td>\n      <td>2010.0</td>\n      <td>Activision</td>\n    </tr>\n    <tr>\n      <th>41</th>\n      <td>Animal Crossing: Wild World</td>\n      <td>2005.0</td>\n      <td>Nintendo</td>\n    </tr>\n    <tr>\n      <th>42</th>\n      <td>Mario Kart 7</td>\n      <td>2011.0</td>\n      <td>Nintendo</td>\n    </tr>\n    <tr>\n      <th>43</th>\n      <td>Halo 3</td>\n      <td>2007.0</td>\n      <td>Microsoft Game Studios</td>\n    </tr>\n    <tr>\n      <th>44</th>\n      <td>Grand Theft Auto V</td>\n      <td>2014.0</td>\n      <td>Take-Two Interactive</td>\n    </tr>\n    <tr>\n      <th>45</th>\n      <td>Pokemon HeartGold/Pokemon SoulSilver</td>\n      <td>2009.0</td>\n      <td>Nintendo</td>\n    </tr>\n    <tr>\n      <th>46</th>\n      <td>Super Mario 64</td>\n      <td>1996.0</td>\n      <td>Nintendo</td>\n    </tr>\n    <tr>\n      <th>47</th>\n      <td>Gran Turismo 4</td>\n      <td>2004.0</td>\n      <td>Sony Computer Entertainment</td>\n    </tr>\n    <tr>\n      <th>48</th>\n      <td>Super Mario Galaxy</td>\n      <td>2007.0</td>\n      <td>Nintendo</td>\n    </tr>\n    <tr>\n      <th>49</th>\n      <td>Pokemon Omega Ruby/Pokemon Alpha Sapphire</td>\n      <td>2014.0</td>\n      <td>Nintendo</td>\n    </tr>\n    <tr>\n      <th>50</th>\n      <td>Mega Brain Boost</td>\n      <td>2008.0</td>\n      <td>Majesco Entertainment</td>\n    </tr>\n    <tr>\n      <th>51</th>\n      <td>Chou Ezaru wa Akai Hana: Koi wa Tsuki ni Shiru...</td>\n      <td>2016.0</td>\n      <td>dramatic create</td>\n    </tr>\n    <tr>\n      <th>52</th>\n      <td>Eiyuu Densetsu: Sora no Kiseki Material Collec...</td>\n      <td>2007.0</td>\n      <td>Falcom Corporation</td>\n    </tr>\n    <tr>\n      <th>53</th>\n      <td>Myst IV: Revelation</td>\n      <td>2004.0</td>\n      <td>Ubisoft</td>\n    </tr>\n    <tr>\n      <th>54</th>\n      <td>Plushees</td>\n      <td>2008.0</td>\n      <td>Destineer</td>\n    </tr>\n    <tr>\n      <th>55</th>\n      <td>Woody Woodpecker in Crazy Castle 5</td>\n      <td>2002.0</td>\n      <td>Kemco</td>\n    </tr>\n    <tr>\n      <th>56</th>\n      <td>Men in Black II: Alien Escape</td>\n      <td>2003.0</td>\n      <td>Infogrames</td>\n    </tr>\n    <tr>\n      <th>57</th>\n      <td>SCORE International Baja 1000: The Official Game</td>\n      <td>2008.0</td>\n      <td>Activision</td>\n    </tr>\n    <tr>\n      <th>58</th>\n      <td>Know How 2</td>\n      <td>2010.0</td>\n      <td>7G//AMES</td>\n    </tr>\n    <tr>\n      <th>59</th>\n      <td>Spirits &amp; Spells</td>\n      <td>2003.0</td>\n      <td>Wanadoo</td>\n    </tr>\n  </tbody>\n</table>\n</div>"
     },
     "metadata": {},
     "execution_count": 65
    }
   ],
   "source": [
    "vg50=vg50.append(df.loc[:,['Name','Year','Publisher']].tail(10),ignore_index=True)\n",
    "vg50\n",
    "# pd.concat([vg50,vg.tail(10)],sort=True,ignore_index=True)"
   ]
  },
  {
   "source": [
    "<font color=Blue>\n",
    "I find that:\n",
    "1. The most best seller is 'Wii Sports' and the worst seller is 'Spirts & Spells';\n",
    "2. The records sort by 'Global_Sales' in descesng order.\n",
    "</font>"
   ],
   "cell_type": "markdown",
   "metadata": {}
  },
  {
   "cell_type": "markdown",
   "metadata": {},
   "source": [
    "If we would like continuous index values, we can either set the ignore_index attribute to True when calling the append() method, or use the reset_index() method to reset the index values. Try one of the options and print the last 15 records of the vg50 dataset."
   ]
  },
  {
   "cell_type": "code",
   "execution_count": 66,
   "metadata": {},
   "outputs": [
    {
     "output_type": "execute_result",
     "data": {
      "text/plain": [
       "    index                                               Name    Year  \\\n",
       "45     45               Pokemon HeartGold/Pokemon SoulSilver  2009.0   \n",
       "46     46                                     Super Mario 64  1996.0   \n",
       "47     47                                     Gran Turismo 4  2004.0   \n",
       "48     48                                 Super Mario Galaxy  2007.0   \n",
       "49     49          Pokemon Omega Ruby/Pokemon Alpha Sapphire  2014.0   \n",
       "50     50                                   Mega Brain Boost  2008.0   \n",
       "51     51  Chou Ezaru wa Akai Hana: Koi wa Tsuki ni Shiru...  2016.0   \n",
       "52     52  Eiyuu Densetsu: Sora no Kiseki Material Collec...  2007.0   \n",
       "53     53                                Myst IV: Revelation  2004.0   \n",
       "54     54                                           Plushees  2008.0   \n",
       "55     55                 Woody Woodpecker in Crazy Castle 5  2002.0   \n",
       "56     56                      Men in Black II: Alien Escape  2003.0   \n",
       "57     57   SCORE International Baja 1000: The Official Game  2008.0   \n",
       "58     58                                         Know How 2  2010.0   \n",
       "59     59                                   Spirits & Spells  2003.0   \n",
       "\n",
       "                      Publisher  \n",
       "45                     Nintendo  \n",
       "46                     Nintendo  \n",
       "47  Sony Computer Entertainment  \n",
       "48                     Nintendo  \n",
       "49                     Nintendo  \n",
       "50        Majesco Entertainment  \n",
       "51              dramatic create  \n",
       "52           Falcom Corporation  \n",
       "53                      Ubisoft  \n",
       "54                    Destineer  \n",
       "55                        Kemco  \n",
       "56                   Infogrames  \n",
       "57                   Activision  \n",
       "58                     7G//AMES  \n",
       "59                      Wanadoo  "
      ],
      "text/html": "<div>\n<style scoped>\n    .dataframe tbody tr th:only-of-type {\n        vertical-align: middle;\n    }\n\n    .dataframe tbody tr th {\n        vertical-align: top;\n    }\n\n    .dataframe thead th {\n        text-align: right;\n    }\n</style>\n<table border=\"1\" class=\"dataframe\">\n  <thead>\n    <tr style=\"text-align: right;\">\n      <th></th>\n      <th>index</th>\n      <th>Name</th>\n      <th>Year</th>\n      <th>Publisher</th>\n    </tr>\n  </thead>\n  <tbody>\n    <tr>\n      <th>45</th>\n      <td>45</td>\n      <td>Pokemon HeartGold/Pokemon SoulSilver</td>\n      <td>2009.0</td>\n      <td>Nintendo</td>\n    </tr>\n    <tr>\n      <th>46</th>\n      <td>46</td>\n      <td>Super Mario 64</td>\n      <td>1996.0</td>\n      <td>Nintendo</td>\n    </tr>\n    <tr>\n      <th>47</th>\n      <td>47</td>\n      <td>Gran Turismo 4</td>\n      <td>2004.0</td>\n      <td>Sony Computer Entertainment</td>\n    </tr>\n    <tr>\n      <th>48</th>\n      <td>48</td>\n      <td>Super Mario Galaxy</td>\n      <td>2007.0</td>\n      <td>Nintendo</td>\n    </tr>\n    <tr>\n      <th>49</th>\n      <td>49</td>\n      <td>Pokemon Omega Ruby/Pokemon Alpha Sapphire</td>\n      <td>2014.0</td>\n      <td>Nintendo</td>\n    </tr>\n    <tr>\n      <th>50</th>\n      <td>50</td>\n      <td>Mega Brain Boost</td>\n      <td>2008.0</td>\n      <td>Majesco Entertainment</td>\n    </tr>\n    <tr>\n      <th>51</th>\n      <td>51</td>\n      <td>Chou Ezaru wa Akai Hana: Koi wa Tsuki ni Shiru...</td>\n      <td>2016.0</td>\n      <td>dramatic create</td>\n    </tr>\n    <tr>\n      <th>52</th>\n      <td>52</td>\n      <td>Eiyuu Densetsu: Sora no Kiseki Material Collec...</td>\n      <td>2007.0</td>\n      <td>Falcom Corporation</td>\n    </tr>\n    <tr>\n      <th>53</th>\n      <td>53</td>\n      <td>Myst IV: Revelation</td>\n      <td>2004.0</td>\n      <td>Ubisoft</td>\n    </tr>\n    <tr>\n      <th>54</th>\n      <td>54</td>\n      <td>Plushees</td>\n      <td>2008.0</td>\n      <td>Destineer</td>\n    </tr>\n    <tr>\n      <th>55</th>\n      <td>55</td>\n      <td>Woody Woodpecker in Crazy Castle 5</td>\n      <td>2002.0</td>\n      <td>Kemco</td>\n    </tr>\n    <tr>\n      <th>56</th>\n      <td>56</td>\n      <td>Men in Black II: Alien Escape</td>\n      <td>2003.0</td>\n      <td>Infogrames</td>\n    </tr>\n    <tr>\n      <th>57</th>\n      <td>57</td>\n      <td>SCORE International Baja 1000: The Official Game</td>\n      <td>2008.0</td>\n      <td>Activision</td>\n    </tr>\n    <tr>\n      <th>58</th>\n      <td>58</td>\n      <td>Know How 2</td>\n      <td>2010.0</td>\n      <td>7G//AMES</td>\n    </tr>\n    <tr>\n      <th>59</th>\n      <td>59</td>\n      <td>Spirits &amp; Spells</td>\n      <td>2003.0</td>\n      <td>Wanadoo</td>\n    </tr>\n  </tbody>\n</table>\n</div>"
     },
     "metadata": {},
     "execution_count": 66
    }
   ],
   "source": [
    "vg50.reset_index().tail(15)"
   ]
  },
  {
   "cell_type": "markdown",
   "metadata": {},
   "source": [
    "### 3.2 Add columns\n",
    "\n",
    "- **【Q18】Add the corresponding global sales from the original dataset to the vg50 subset, and set the new column name to Sales.** "
   ]
  },
  {
   "cell_type": "code",
   "execution_count": 68,
   "metadata": {},
   "outputs": [
    {
     "output_type": "execute_result",
     "data": {
      "text/plain": [
       "                                                 Name    Year  \\\n",
       "48                                 Super Mario Galaxy  2007.0   \n",
       "49          Pokemon Omega Ruby/Pokemon Alpha Sapphire  2014.0   \n",
       "50                                   Mega Brain Boost  2008.0   \n",
       "51  Chou Ezaru wa Akai Hana: Koi wa Tsuki ni Shiru...  2016.0   \n",
       "52  Eiyuu Densetsu: Sora no Kiseki Material Collec...  2007.0   \n",
       "53                                Myst IV: Revelation  2004.0   \n",
       "54                                           Plushees  2008.0   \n",
       "55                 Woody Woodpecker in Crazy Castle 5  2002.0   \n",
       "56                      Men in Black II: Alien Escape  2003.0   \n",
       "57   SCORE International Baja 1000: The Official Game  2008.0   \n",
       "58                                         Know How 2  2010.0   \n",
       "59                                   Spirits & Spells  2003.0   \n",
       "\n",
       "                Publisher  Sales  \n",
       "48               Nintendo  11.52  \n",
       "49               Nintendo  11.33  \n",
       "50  Majesco Entertainment   0.01  \n",
       "51        dramatic create   0.01  \n",
       "52     Falcom Corporation   0.01  \n",
       "53                Ubisoft   0.01  \n",
       "54              Destineer   0.01  \n",
       "55                  Kemco   0.01  \n",
       "56             Infogrames   0.01  \n",
       "57             Activision   0.01  \n",
       "58               7G//AMES   0.01  \n",
       "59                Wanadoo   0.01  "
      ],
      "text/html": "<div>\n<style scoped>\n    .dataframe tbody tr th:only-of-type {\n        vertical-align: middle;\n    }\n\n    .dataframe tbody tr th {\n        vertical-align: top;\n    }\n\n    .dataframe thead th {\n        text-align: right;\n    }\n</style>\n<table border=\"1\" class=\"dataframe\">\n  <thead>\n    <tr style=\"text-align: right;\">\n      <th></th>\n      <th>Name</th>\n      <th>Year</th>\n      <th>Publisher</th>\n      <th>Sales</th>\n    </tr>\n  </thead>\n  <tbody>\n    <tr>\n      <th>48</th>\n      <td>Super Mario Galaxy</td>\n      <td>2007.0</td>\n      <td>Nintendo</td>\n      <td>11.52</td>\n    </tr>\n    <tr>\n      <th>49</th>\n      <td>Pokemon Omega Ruby/Pokemon Alpha Sapphire</td>\n      <td>2014.0</td>\n      <td>Nintendo</td>\n      <td>11.33</td>\n    </tr>\n    <tr>\n      <th>50</th>\n      <td>Mega Brain Boost</td>\n      <td>2008.0</td>\n      <td>Majesco Entertainment</td>\n      <td>0.01</td>\n    </tr>\n    <tr>\n      <th>51</th>\n      <td>Chou Ezaru wa Akai Hana: Koi wa Tsuki ni Shiru...</td>\n      <td>2016.0</td>\n      <td>dramatic create</td>\n      <td>0.01</td>\n    </tr>\n    <tr>\n      <th>52</th>\n      <td>Eiyuu Densetsu: Sora no Kiseki Material Collec...</td>\n      <td>2007.0</td>\n      <td>Falcom Corporation</td>\n      <td>0.01</td>\n    </tr>\n    <tr>\n      <th>53</th>\n      <td>Myst IV: Revelation</td>\n      <td>2004.0</td>\n      <td>Ubisoft</td>\n      <td>0.01</td>\n    </tr>\n    <tr>\n      <th>54</th>\n      <td>Plushees</td>\n      <td>2008.0</td>\n      <td>Destineer</td>\n      <td>0.01</td>\n    </tr>\n    <tr>\n      <th>55</th>\n      <td>Woody Woodpecker in Crazy Castle 5</td>\n      <td>2002.0</td>\n      <td>Kemco</td>\n      <td>0.01</td>\n    </tr>\n    <tr>\n      <th>56</th>\n      <td>Men in Black II: Alien Escape</td>\n      <td>2003.0</td>\n      <td>Infogrames</td>\n      <td>0.01</td>\n    </tr>\n    <tr>\n      <th>57</th>\n      <td>SCORE International Baja 1000: The Official Game</td>\n      <td>2008.0</td>\n      <td>Activision</td>\n      <td>0.01</td>\n    </tr>\n    <tr>\n      <th>58</th>\n      <td>Know How 2</td>\n      <td>2010.0</td>\n      <td>7G//AMES</td>\n      <td>0.01</td>\n    </tr>\n    <tr>\n      <th>59</th>\n      <td>Spirits &amp; Spells</td>\n      <td>2003.0</td>\n      <td>Wanadoo</td>\n      <td>0.01</td>\n    </tr>\n  </tbody>\n</table>\n</div>"
     },
     "metadata": {},
     "execution_count": 68
    }
   ],
   "source": [
    "vg50['Sales']=pd.concat([df['Global_Sales'][:50],df['Global_Sales'].tail(10)]).reset_index(drop=True)\n",
    "vg50.tail(12)\n",
    "# pd.concat([df['Global_Sales'][:50],df['Global_Sales'].tail(10)]).reset_index(drop=True)"
   ]
  },
  {
   "cell_type": "markdown",
   "metadata": {},
   "source": [
    "### 3.3 Update values\n",
    "\n",
    "- **【Q19】Set the first record's year to 2004.**\n",
    "- **【Q20】Change the sales unit from million dollars to dollars (i.e. times 1,000,000)**"
   ]
  },
  {
   "cell_type": "code",
   "execution_count": 70,
   "metadata": {},
   "outputs": [
    {
     "output_type": "execute_result",
     "data": {
      "text/plain": [
       "   Rank        Name Platform    Year   Genre Publisher  NA_Sales  EU_Sales  \\\n",
       "0     1  Wii Sports      Wii  2004.0  Sports  Nintendo     41.49     29.02   \n",
       "\n",
       "   JP_Sales  Other_Sales  Global_Sales  \n",
       "0      3.77         8.46         82.74  "
      ],
      "text/html": "<div>\n<style scoped>\n    .dataframe tbody tr th:only-of-type {\n        vertical-align: middle;\n    }\n\n    .dataframe tbody tr th {\n        vertical-align: top;\n    }\n\n    .dataframe thead th {\n        text-align: right;\n    }\n</style>\n<table border=\"1\" class=\"dataframe\">\n  <thead>\n    <tr style=\"text-align: right;\">\n      <th></th>\n      <th>Rank</th>\n      <th>Name</th>\n      <th>Platform</th>\n      <th>Year</th>\n      <th>Genre</th>\n      <th>Publisher</th>\n      <th>NA_Sales</th>\n      <th>EU_Sales</th>\n      <th>JP_Sales</th>\n      <th>Other_Sales</th>\n      <th>Global_Sales</th>\n    </tr>\n  </thead>\n  <tbody>\n    <tr>\n      <th>0</th>\n      <td>1</td>\n      <td>Wii Sports</td>\n      <td>Wii</td>\n      <td>2004.0</td>\n      <td>Sports</td>\n      <td>Nintendo</td>\n      <td>41.49</td>\n      <td>29.02</td>\n      <td>3.77</td>\n      <td>8.46</td>\n      <td>82.74</td>\n    </tr>\n  </tbody>\n</table>\n</div>"
     },
     "metadata": {},
     "execution_count": 70
    }
   ],
   "source": [
    "df.loc[0,'Year']=2004\n",
    "df.head(1)"
   ]
  },
  {
   "cell_type": "code",
   "execution_count": 78,
   "metadata": {},
   "outputs": [
    {
     "output_type": "execute_result",
     "data": {
      "text/plain": [
       "0    82740000.0\n",
       "1    40240000.0\n",
       "2    35820000.0\n",
       "3    33000000.0\n",
       "4    31370000.0\n",
       "Name: Global_Sales, dtype: float64"
      ]
     },
     "metadata": {},
     "execution_count": 78
    }
   ],
   "source": [
    "def fun(ele):\n",
    "    return ele*1000000.\n",
    "\n",
    "df['Global_Sales'].map(fun).head(5)"
   ]
  },
  {
   "cell_type": "markdown",
   "metadata": {},
   "source": [
    "### 3.4 Compute from existing values\n",
    "\n",
    "Firstly, **create a new subset with sales records in 2009 (1431 in total)**. For demonstration purpose, here we only select the regional sales columns, i.e. excluding the Global_Sales column. We are going to compute this column."
   ]
  },
  {
   "cell_type": "code",
   "execution_count": 79,
   "metadata": {},
   "outputs": [
    {
     "output_type": "execute_result",
     "data": {
      "text/plain": [
       "       NA_Sales  EU_Sales  JP_Sales  Other_Sales\n",
       "3         15.75     11.01      3.28         2.96\n",
       "8         14.59      7.06      4.70         2.26\n",
       "14         9.09      8.59      2.53         1.79\n",
       "36         8.52      3.63      0.08         1.29\n",
       "45         4.40      2.77      3.96         0.77\n",
       "...         ...       ...       ...          ...\n",
       "16540      0.00      0.01      0.00         0.00\n",
       "16551      0.00      0.00      0.01         0.00\n",
       "16577      0.00      0.01      0.00         0.00\n",
       "16586      0.00      0.01      0.00         0.00\n",
       "16587      0.00      0.00      0.01         0.00\n",
       "\n",
       "[1431 rows x 4 columns]"
      ],
      "text/html": "<div>\n<style scoped>\n    .dataframe tbody tr th:only-of-type {\n        vertical-align: middle;\n    }\n\n    .dataframe tbody tr th {\n        vertical-align: top;\n    }\n\n    .dataframe thead th {\n        text-align: right;\n    }\n</style>\n<table border=\"1\" class=\"dataframe\">\n  <thead>\n    <tr style=\"text-align: right;\">\n      <th></th>\n      <th>NA_Sales</th>\n      <th>EU_Sales</th>\n      <th>JP_Sales</th>\n      <th>Other_Sales</th>\n    </tr>\n  </thead>\n  <tbody>\n    <tr>\n      <th>3</th>\n      <td>15.75</td>\n      <td>11.01</td>\n      <td>3.28</td>\n      <td>2.96</td>\n    </tr>\n    <tr>\n      <th>8</th>\n      <td>14.59</td>\n      <td>7.06</td>\n      <td>4.70</td>\n      <td>2.26</td>\n    </tr>\n    <tr>\n      <th>14</th>\n      <td>9.09</td>\n      <td>8.59</td>\n      <td>2.53</td>\n      <td>1.79</td>\n    </tr>\n    <tr>\n      <th>36</th>\n      <td>8.52</td>\n      <td>3.63</td>\n      <td>0.08</td>\n      <td>1.29</td>\n    </tr>\n    <tr>\n      <th>45</th>\n      <td>4.40</td>\n      <td>2.77</td>\n      <td>3.96</td>\n      <td>0.77</td>\n    </tr>\n    <tr>\n      <th>...</th>\n      <td>...</td>\n      <td>...</td>\n      <td>...</td>\n      <td>...</td>\n    </tr>\n    <tr>\n      <th>16540</th>\n      <td>0.00</td>\n      <td>0.01</td>\n      <td>0.00</td>\n      <td>0.00</td>\n    </tr>\n    <tr>\n      <th>16551</th>\n      <td>0.00</td>\n      <td>0.00</td>\n      <td>0.01</td>\n      <td>0.00</td>\n    </tr>\n    <tr>\n      <th>16577</th>\n      <td>0.00</td>\n      <td>0.01</td>\n      <td>0.00</td>\n      <td>0.00</td>\n    </tr>\n    <tr>\n      <th>16586</th>\n      <td>0.00</td>\n      <td>0.01</td>\n      <td>0.00</td>\n      <td>0.00</td>\n    </tr>\n    <tr>\n      <th>16587</th>\n      <td>0.00</td>\n      <td>0.00</td>\n      <td>0.01</td>\n      <td>0.00</td>\n    </tr>\n  </tbody>\n</table>\n<p>1431 rows × 4 columns</p>\n</div>"
     },
     "metadata": {},
     "execution_count": 79
    }
   ],
   "source": [
    "subset=df.loc[df.Year==2009,['NA_Sales','EU_Sales','JP_Sales','Other_Sales']]\n",
    "subset"
   ]
  },
  {
   "cell_type": "markdown",
   "metadata": {},
   "source": [
    "- **【Q21】compute the total sales of each game, i.e. the Global_Sales column's value in the original dataset. Compare the computed value with the original value in the dataset.**\n",
    "- **【Q22】compute the total sales for each region in 2009**"
   ]
  },
  {
   "cell_type": "code",
   "execution_count": 80,
   "metadata": {},
   "outputs": [
    {
     "output_type": "execute_result",
     "data": {
      "text/plain": [
       "     NA_Sales  EU_Sales  JP_Sales  Other_Sales  Global_Sales\n",
       "3       15.75     11.01      3.28         2.96         33.00\n",
       "8       14.59      7.06      4.70         2.26         28.61\n",
       "14       9.09      8.59      2.53         1.79         22.00\n",
       "36       8.52      3.63      0.08         1.29         13.52\n",
       "45       4.40      2.77      3.96         0.77         11.90\n",
       "55       4.99      3.69      0.38         1.63         10.69\n",
       "83       0.98      6.42      0.00         0.71          8.11\n",
       "102      3.51      3.03      0.00         0.73          7.27\n",
       "119      3.27      2.25      0.21         1.00          6.73\n",
       "133      4.34      1.35      0.06         0.61          6.36"
      ],
      "text/html": "<div>\n<style scoped>\n    .dataframe tbody tr th:only-of-type {\n        vertical-align: middle;\n    }\n\n    .dataframe tbody tr th {\n        vertical-align: top;\n    }\n\n    .dataframe thead th {\n        text-align: right;\n    }\n</style>\n<table border=\"1\" class=\"dataframe\">\n  <thead>\n    <tr style=\"text-align: right;\">\n      <th></th>\n      <th>NA_Sales</th>\n      <th>EU_Sales</th>\n      <th>JP_Sales</th>\n      <th>Other_Sales</th>\n      <th>Global_Sales</th>\n    </tr>\n  </thead>\n  <tbody>\n    <tr>\n      <th>3</th>\n      <td>15.75</td>\n      <td>11.01</td>\n      <td>3.28</td>\n      <td>2.96</td>\n      <td>33.00</td>\n    </tr>\n    <tr>\n      <th>8</th>\n      <td>14.59</td>\n      <td>7.06</td>\n      <td>4.70</td>\n      <td>2.26</td>\n      <td>28.61</td>\n    </tr>\n    <tr>\n      <th>14</th>\n      <td>9.09</td>\n      <td>8.59</td>\n      <td>2.53</td>\n      <td>1.79</td>\n      <td>22.00</td>\n    </tr>\n    <tr>\n      <th>36</th>\n      <td>8.52</td>\n      <td>3.63</td>\n      <td>0.08</td>\n      <td>1.29</td>\n      <td>13.52</td>\n    </tr>\n    <tr>\n      <th>45</th>\n      <td>4.40</td>\n      <td>2.77</td>\n      <td>3.96</td>\n      <td>0.77</td>\n      <td>11.90</td>\n    </tr>\n    <tr>\n      <th>55</th>\n      <td>4.99</td>\n      <td>3.69</td>\n      <td>0.38</td>\n      <td>1.63</td>\n      <td>10.69</td>\n    </tr>\n    <tr>\n      <th>83</th>\n      <td>0.98</td>\n      <td>6.42</td>\n      <td>0.00</td>\n      <td>0.71</td>\n      <td>8.11</td>\n    </tr>\n    <tr>\n      <th>102</th>\n      <td>3.51</td>\n      <td>3.03</td>\n      <td>0.00</td>\n      <td>0.73</td>\n      <td>7.27</td>\n    </tr>\n    <tr>\n      <th>119</th>\n      <td>3.27</td>\n      <td>2.25</td>\n      <td>0.21</td>\n      <td>1.00</td>\n      <td>6.73</td>\n    </tr>\n    <tr>\n      <th>133</th>\n      <td>4.34</td>\n      <td>1.35</td>\n      <td>0.06</td>\n      <td>0.61</td>\n      <td>6.36</td>\n    </tr>\n  </tbody>\n</table>\n</div>"
     },
     "metadata": {},
     "execution_count": 80
    }
   ],
   "source": [
    "subset['Global_Sales']=subset.apply(lambda x:x.sum(),axis=1)\n",
    "subset.head(10)"
   ]
  },
  {
   "cell_type": "code",
   "execution_count": 84,
   "metadata": {},
   "outputs": [
    {
     "output_type": "execute_result",
     "data": {
      "text/plain": [
       "667.1"
      ]
     },
     "metadata": {},
     "execution_count": 84
    }
   ],
   "source": [
    "subset['Global_Sales'].sum()"
   ]
  },
  {
   "cell_type": "markdown",
   "metadata": {},
   "source": [
    "### 3.5 Drop columns and rows\n",
    "\n",
    "- **【Q23】drop the last column**\n",
    "- **【Q24】drop columns whose name starts with S**\n",
    "- **【Q25】drop the 50th record**\n",
    "- **【Q26】drop records in 2009**\n",
    "\n",
    "Note: Before drop the columns/records, it is better to check out what are they and how many."
   ]
  },
  {
   "cell_type": "code",
   "execution_count": 92,
   "metadata": {},
   "outputs": [
    {
     "output_type": "execute_result",
     "data": {
      "text/plain": [
       "        Rank                                              Name Platform  \\\n",
       "0          1                                        Wii Sports      Wii   \n",
       "1          2                                 Super Mario Bros.      NES   \n",
       "2          3                                    Mario Kart Wii      Wii   \n",
       "3          4                                 Wii Sports Resort      Wii   \n",
       "4          5                          Pokemon Red/Pokemon Blue       GB   \n",
       "...      ...                                               ...      ...   \n",
       "16593  16596                Woody Woodpecker in Crazy Castle 5      GBA   \n",
       "16594  16597                     Men in Black II: Alien Escape       GC   \n",
       "16595  16598  SCORE International Baja 1000: The Official Game      PS2   \n",
       "16596  16599                                        Know How 2       DS   \n",
       "16597  16600                                  Spirits & Spells      GBA   \n",
       "\n",
       "         Year         Genre   Publisher  NA_Sales  EU_Sales  JP_Sales  \\\n",
       "0      2006.0        Sports    Nintendo     41.49     29.02      3.77   \n",
       "1      1985.0      Platform    Nintendo     29.08      3.58      6.81   \n",
       "2      2008.0        Racing    Nintendo     15.85     12.88      3.79   \n",
       "3      2009.0        Sports    Nintendo     15.75     11.01      3.28   \n",
       "4      1996.0  Role-Playing    Nintendo     11.27      8.89     10.22   \n",
       "...       ...           ...         ...       ...       ...       ...   \n",
       "16593  2002.0      Platform       Kemco      0.01      0.00      0.00   \n",
       "16594  2003.0       Shooter  Infogrames      0.01      0.00      0.00   \n",
       "16595  2008.0        Racing  Activision      0.00      0.00      0.00   \n",
       "16596  2010.0        Puzzle    7G//AMES      0.00      0.01      0.00   \n",
       "16597  2003.0      Platform     Wanadoo      0.01      0.00      0.00   \n",
       "\n",
       "       Other_Sales  \n",
       "0             8.46  \n",
       "1             0.77  \n",
       "2             3.31  \n",
       "3             2.96  \n",
       "4             1.00  \n",
       "...            ...  \n",
       "16593         0.00  \n",
       "16594         0.00  \n",
       "16595         0.00  \n",
       "16596         0.00  \n",
       "16597         0.00  \n",
       "\n",
       "[16598 rows x 10 columns]"
      ],
      "text/html": "<div>\n<style scoped>\n    .dataframe tbody tr th:only-of-type {\n        vertical-align: middle;\n    }\n\n    .dataframe tbody tr th {\n        vertical-align: top;\n    }\n\n    .dataframe thead th {\n        text-align: right;\n    }\n</style>\n<table border=\"1\" class=\"dataframe\">\n  <thead>\n    <tr style=\"text-align: right;\">\n      <th></th>\n      <th>Rank</th>\n      <th>Name</th>\n      <th>Platform</th>\n      <th>Year</th>\n      <th>Genre</th>\n      <th>Publisher</th>\n      <th>NA_Sales</th>\n      <th>EU_Sales</th>\n      <th>JP_Sales</th>\n      <th>Other_Sales</th>\n    </tr>\n  </thead>\n  <tbody>\n    <tr>\n      <th>0</th>\n      <td>1</td>\n      <td>Wii Sports</td>\n      <td>Wii</td>\n      <td>2006.0</td>\n      <td>Sports</td>\n      <td>Nintendo</td>\n      <td>41.49</td>\n      <td>29.02</td>\n      <td>3.77</td>\n      <td>8.46</td>\n    </tr>\n    <tr>\n      <th>1</th>\n      <td>2</td>\n      <td>Super Mario Bros.</td>\n      <td>NES</td>\n      <td>1985.0</td>\n      <td>Platform</td>\n      <td>Nintendo</td>\n      <td>29.08</td>\n      <td>3.58</td>\n      <td>6.81</td>\n      <td>0.77</td>\n    </tr>\n    <tr>\n      <th>2</th>\n      <td>3</td>\n      <td>Mario Kart Wii</td>\n      <td>Wii</td>\n      <td>2008.0</td>\n      <td>Racing</td>\n      <td>Nintendo</td>\n      <td>15.85</td>\n      <td>12.88</td>\n      <td>3.79</td>\n      <td>3.31</td>\n    </tr>\n    <tr>\n      <th>3</th>\n      <td>4</td>\n      <td>Wii Sports Resort</td>\n      <td>Wii</td>\n      <td>2009.0</td>\n      <td>Sports</td>\n      <td>Nintendo</td>\n      <td>15.75</td>\n      <td>11.01</td>\n      <td>3.28</td>\n      <td>2.96</td>\n    </tr>\n    <tr>\n      <th>4</th>\n      <td>5</td>\n      <td>Pokemon Red/Pokemon Blue</td>\n      <td>GB</td>\n      <td>1996.0</td>\n      <td>Role-Playing</td>\n      <td>Nintendo</td>\n      <td>11.27</td>\n      <td>8.89</td>\n      <td>10.22</td>\n      <td>1.00</td>\n    </tr>\n    <tr>\n      <th>...</th>\n      <td>...</td>\n      <td>...</td>\n      <td>...</td>\n      <td>...</td>\n      <td>...</td>\n      <td>...</td>\n      <td>...</td>\n      <td>...</td>\n      <td>...</td>\n      <td>...</td>\n    </tr>\n    <tr>\n      <th>16593</th>\n      <td>16596</td>\n      <td>Woody Woodpecker in Crazy Castle 5</td>\n      <td>GBA</td>\n      <td>2002.0</td>\n      <td>Platform</td>\n      <td>Kemco</td>\n      <td>0.01</td>\n      <td>0.00</td>\n      <td>0.00</td>\n      <td>0.00</td>\n    </tr>\n    <tr>\n      <th>16594</th>\n      <td>16597</td>\n      <td>Men in Black II: Alien Escape</td>\n      <td>GC</td>\n      <td>2003.0</td>\n      <td>Shooter</td>\n      <td>Infogrames</td>\n      <td>0.01</td>\n      <td>0.00</td>\n      <td>0.00</td>\n      <td>0.00</td>\n    </tr>\n    <tr>\n      <th>16595</th>\n      <td>16598</td>\n      <td>SCORE International Baja 1000: The Official Game</td>\n      <td>PS2</td>\n      <td>2008.0</td>\n      <td>Racing</td>\n      <td>Activision</td>\n      <td>0.00</td>\n      <td>0.00</td>\n      <td>0.00</td>\n      <td>0.00</td>\n    </tr>\n    <tr>\n      <th>16596</th>\n      <td>16599</td>\n      <td>Know How 2</td>\n      <td>DS</td>\n      <td>2010.0</td>\n      <td>Puzzle</td>\n      <td>7G//AMES</td>\n      <td>0.00</td>\n      <td>0.01</td>\n      <td>0.00</td>\n      <td>0.00</td>\n    </tr>\n    <tr>\n      <th>16597</th>\n      <td>16600</td>\n      <td>Spirits &amp; Spells</td>\n      <td>GBA</td>\n      <td>2003.0</td>\n      <td>Platform</td>\n      <td>Wanadoo</td>\n      <td>0.01</td>\n      <td>0.00</td>\n      <td>0.00</td>\n      <td>0.00</td>\n    </tr>\n  </tbody>\n</table>\n<p>16598 rows × 10 columns</p>\n</div>"
     },
     "metadata": {},
     "execution_count": 92
    }
   ],
   "source": [
    "df.drop(df.columns[df.shape[1]-1],axis=1)"
   ]
  },
  {
   "cell_type": "code",
   "execution_count": 96,
   "metadata": {},
   "outputs": [
    {
     "output_type": "execute_result",
     "data": {
      "text/plain": [
       "        Rank                                              Name Platform  \\\n",
       "0          1                                        Wii Sports      Wii   \n",
       "1          2                                 Super Mario Bros.      NES   \n",
       "2          3                                    Mario Kart Wii      Wii   \n",
       "3          4                                 Wii Sports Resort      Wii   \n",
       "4          5                          Pokemon Red/Pokemon Blue       GB   \n",
       "...      ...                                               ...      ...   \n",
       "16593  16596                Woody Woodpecker in Crazy Castle 5      GBA   \n",
       "16594  16597                     Men in Black II: Alien Escape       GC   \n",
       "16595  16598  SCORE International Baja 1000: The Official Game      PS2   \n",
       "16596  16599                                        Know How 2       DS   \n",
       "16597  16600                                  Spirits & Spells      GBA   \n",
       "\n",
       "         Year         Genre   Publisher  NA_Sales  EU_Sales  JP_Sales  \\\n",
       "0      2006.0        Sports    Nintendo     41.49     29.02      3.77   \n",
       "1      1985.0      Platform    Nintendo     29.08      3.58      6.81   \n",
       "2      2008.0        Racing    Nintendo     15.85     12.88      3.79   \n",
       "3      2009.0        Sports    Nintendo     15.75     11.01      3.28   \n",
       "4      1996.0  Role-Playing    Nintendo     11.27      8.89     10.22   \n",
       "...       ...           ...         ...       ...       ...       ...   \n",
       "16593  2002.0      Platform       Kemco      0.01      0.00      0.00   \n",
       "16594  2003.0       Shooter  Infogrames      0.01      0.00      0.00   \n",
       "16595  2008.0        Racing  Activision      0.00      0.00      0.00   \n",
       "16596  2010.0        Puzzle    7G//AMES      0.00      0.01      0.00   \n",
       "16597  2003.0      Platform     Wanadoo      0.01      0.00      0.00   \n",
       "\n",
       "       Other_Sales  Global_Sales  \n",
       "0             8.46         82.74  \n",
       "1             0.77         40.24  \n",
       "2             3.31         35.82  \n",
       "3             2.96         33.00  \n",
       "4             1.00         31.37  \n",
       "...            ...           ...  \n",
       "16593         0.00          0.01  \n",
       "16594         0.00          0.01  \n",
       "16595         0.00          0.01  \n",
       "16596         0.00          0.01  \n",
       "16597         0.00          0.01  \n",
       "\n",
       "[16598 rows x 11 columns]"
      ],
      "text/html": "<div>\n<style scoped>\n    .dataframe tbody tr th:only-of-type {\n        vertical-align: middle;\n    }\n\n    .dataframe tbody tr th {\n        vertical-align: top;\n    }\n\n    .dataframe thead th {\n        text-align: right;\n    }\n</style>\n<table border=\"1\" class=\"dataframe\">\n  <thead>\n    <tr style=\"text-align: right;\">\n      <th></th>\n      <th>Rank</th>\n      <th>Name</th>\n      <th>Platform</th>\n      <th>Year</th>\n      <th>Genre</th>\n      <th>Publisher</th>\n      <th>NA_Sales</th>\n      <th>EU_Sales</th>\n      <th>JP_Sales</th>\n      <th>Other_Sales</th>\n      <th>Global_Sales</th>\n    </tr>\n  </thead>\n  <tbody>\n    <tr>\n      <th>0</th>\n      <td>1</td>\n      <td>Wii Sports</td>\n      <td>Wii</td>\n      <td>2006.0</td>\n      <td>Sports</td>\n      <td>Nintendo</td>\n      <td>41.49</td>\n      <td>29.02</td>\n      <td>3.77</td>\n      <td>8.46</td>\n      <td>82.74</td>\n    </tr>\n    <tr>\n      <th>1</th>\n      <td>2</td>\n      <td>Super Mario Bros.</td>\n      <td>NES</td>\n      <td>1985.0</td>\n      <td>Platform</td>\n      <td>Nintendo</td>\n      <td>29.08</td>\n      <td>3.58</td>\n      <td>6.81</td>\n      <td>0.77</td>\n      <td>40.24</td>\n    </tr>\n    <tr>\n      <th>2</th>\n      <td>3</td>\n      <td>Mario Kart Wii</td>\n      <td>Wii</td>\n      <td>2008.0</td>\n      <td>Racing</td>\n      <td>Nintendo</td>\n      <td>15.85</td>\n      <td>12.88</td>\n      <td>3.79</td>\n      <td>3.31</td>\n      <td>35.82</td>\n    </tr>\n    <tr>\n      <th>3</th>\n      <td>4</td>\n      <td>Wii Sports Resort</td>\n      <td>Wii</td>\n      <td>2009.0</td>\n      <td>Sports</td>\n      <td>Nintendo</td>\n      <td>15.75</td>\n      <td>11.01</td>\n      <td>3.28</td>\n      <td>2.96</td>\n      <td>33.00</td>\n    </tr>\n    <tr>\n      <th>4</th>\n      <td>5</td>\n      <td>Pokemon Red/Pokemon Blue</td>\n      <td>GB</td>\n      <td>1996.0</td>\n      <td>Role-Playing</td>\n      <td>Nintendo</td>\n      <td>11.27</td>\n      <td>8.89</td>\n      <td>10.22</td>\n      <td>1.00</td>\n      <td>31.37</td>\n    </tr>\n    <tr>\n      <th>...</th>\n      <td>...</td>\n      <td>...</td>\n      <td>...</td>\n      <td>...</td>\n      <td>...</td>\n      <td>...</td>\n      <td>...</td>\n      <td>...</td>\n      <td>...</td>\n      <td>...</td>\n      <td>...</td>\n    </tr>\n    <tr>\n      <th>16593</th>\n      <td>16596</td>\n      <td>Woody Woodpecker in Crazy Castle 5</td>\n      <td>GBA</td>\n      <td>2002.0</td>\n      <td>Platform</td>\n      <td>Kemco</td>\n      <td>0.01</td>\n      <td>0.00</td>\n      <td>0.00</td>\n      <td>0.00</td>\n      <td>0.01</td>\n    </tr>\n    <tr>\n      <th>16594</th>\n      <td>16597</td>\n      <td>Men in Black II: Alien Escape</td>\n      <td>GC</td>\n      <td>2003.0</td>\n      <td>Shooter</td>\n      <td>Infogrames</td>\n      <td>0.01</td>\n      <td>0.00</td>\n      <td>0.00</td>\n      <td>0.00</td>\n      <td>0.01</td>\n    </tr>\n    <tr>\n      <th>16595</th>\n      <td>16598</td>\n      <td>SCORE International Baja 1000: The Official Game</td>\n      <td>PS2</td>\n      <td>2008.0</td>\n      <td>Racing</td>\n      <td>Activision</td>\n      <td>0.00</td>\n      <td>0.00</td>\n      <td>0.00</td>\n      <td>0.00</td>\n      <td>0.01</td>\n    </tr>\n    <tr>\n      <th>16596</th>\n      <td>16599</td>\n      <td>Know How 2</td>\n      <td>DS</td>\n      <td>2010.0</td>\n      <td>Puzzle</td>\n      <td>7G//AMES</td>\n      <td>0.00</td>\n      <td>0.01</td>\n      <td>0.00</td>\n      <td>0.00</td>\n      <td>0.01</td>\n    </tr>\n    <tr>\n      <th>16597</th>\n      <td>16600</td>\n      <td>Spirits &amp; Spells</td>\n      <td>GBA</td>\n      <td>2003.0</td>\n      <td>Platform</td>\n      <td>Wanadoo</td>\n      <td>0.01</td>\n      <td>0.00</td>\n      <td>0.00</td>\n      <td>0.00</td>\n      <td>0.01</td>\n    </tr>\n  </tbody>\n</table>\n<p>16598 rows × 11 columns</p>\n</div>"
     },
     "metadata": {},
     "execution_count": 96
    }
   ],
   "source": [
    "import numpy as np\n",
    "df['Sport']=np.zeros(df.shape[0])\n",
    "df.drop([c for c in df.columns if c[:1]=='S'],axis=1)\n",
    "# df = df[df.columns.drop(list(df.filter(regex='Test\\d+')))]\n",
    "# vg50.loc[:,~vg50.columns.str.startwith('s')]"
   ]
  },
  {
   "cell_type": "code",
   "execution_count": 97,
   "metadata": {},
   "outputs": [
    {
     "output_type": "execute_result",
     "data": {
      "text/plain": [
       "        Rank                                              Name Platform  \\\n",
       "0          1                                        Wii Sports      Wii   \n",
       "1          2                                 Super Mario Bros.      NES   \n",
       "2          3                                    Mario Kart Wii      Wii   \n",
       "3          4                                 Wii Sports Resort      Wii   \n",
       "4          5                          Pokemon Red/Pokemon Blue       GB   \n",
       "...      ...                                               ...      ...   \n",
       "16593  16596                Woody Woodpecker in Crazy Castle 5      GBA   \n",
       "16594  16597                     Men in Black II: Alien Escape       GC   \n",
       "16595  16598  SCORE International Baja 1000: The Official Game      PS2   \n",
       "16596  16599                                        Know How 2       DS   \n",
       "16597  16600                                  Spirits & Spells      GBA   \n",
       "\n",
       "         Year         Genre   Publisher  NA_Sales  EU_Sales  JP_Sales  \\\n",
       "0      2006.0        Sports    Nintendo     41.49     29.02      3.77   \n",
       "1      1985.0      Platform    Nintendo     29.08      3.58      6.81   \n",
       "2      2008.0        Racing    Nintendo     15.85     12.88      3.79   \n",
       "3      2009.0        Sports    Nintendo     15.75     11.01      3.28   \n",
       "4      1996.0  Role-Playing    Nintendo     11.27      8.89     10.22   \n",
       "...       ...           ...         ...       ...       ...       ...   \n",
       "16593  2002.0      Platform       Kemco      0.01      0.00      0.00   \n",
       "16594  2003.0       Shooter  Infogrames      0.01      0.00      0.00   \n",
       "16595  2008.0        Racing  Activision      0.00      0.00      0.00   \n",
       "16596  2010.0        Puzzle    7G//AMES      0.00      0.01      0.00   \n",
       "16597  2003.0      Platform     Wanadoo      0.01      0.00      0.00   \n",
       "\n",
       "       Other_Sales  Global_Sales  Sport  \n",
       "0             8.46         82.74    0.0  \n",
       "1             0.77         40.24    0.0  \n",
       "2             3.31         35.82    0.0  \n",
       "3             2.96         33.00    0.0  \n",
       "4             1.00         31.37    0.0  \n",
       "...            ...           ...    ...  \n",
       "16593         0.00          0.01    0.0  \n",
       "16594         0.00          0.01    0.0  \n",
       "16595         0.00          0.01    0.0  \n",
       "16596         0.00          0.01    0.0  \n",
       "16597         0.00          0.01    0.0  \n",
       "\n",
       "[16597 rows x 12 columns]"
      ],
      "text/html": "<div>\n<style scoped>\n    .dataframe tbody tr th:only-of-type {\n        vertical-align: middle;\n    }\n\n    .dataframe tbody tr th {\n        vertical-align: top;\n    }\n\n    .dataframe thead th {\n        text-align: right;\n    }\n</style>\n<table border=\"1\" class=\"dataframe\">\n  <thead>\n    <tr style=\"text-align: right;\">\n      <th></th>\n      <th>Rank</th>\n      <th>Name</th>\n      <th>Platform</th>\n      <th>Year</th>\n      <th>Genre</th>\n      <th>Publisher</th>\n      <th>NA_Sales</th>\n      <th>EU_Sales</th>\n      <th>JP_Sales</th>\n      <th>Other_Sales</th>\n      <th>Global_Sales</th>\n      <th>Sport</th>\n    </tr>\n  </thead>\n  <tbody>\n    <tr>\n      <th>0</th>\n      <td>1</td>\n      <td>Wii Sports</td>\n      <td>Wii</td>\n      <td>2006.0</td>\n      <td>Sports</td>\n      <td>Nintendo</td>\n      <td>41.49</td>\n      <td>29.02</td>\n      <td>3.77</td>\n      <td>8.46</td>\n      <td>82.74</td>\n      <td>0.0</td>\n    </tr>\n    <tr>\n      <th>1</th>\n      <td>2</td>\n      <td>Super Mario Bros.</td>\n      <td>NES</td>\n      <td>1985.0</td>\n      <td>Platform</td>\n      <td>Nintendo</td>\n      <td>29.08</td>\n      <td>3.58</td>\n      <td>6.81</td>\n      <td>0.77</td>\n      <td>40.24</td>\n      <td>0.0</td>\n    </tr>\n    <tr>\n      <th>2</th>\n      <td>3</td>\n      <td>Mario Kart Wii</td>\n      <td>Wii</td>\n      <td>2008.0</td>\n      <td>Racing</td>\n      <td>Nintendo</td>\n      <td>15.85</td>\n      <td>12.88</td>\n      <td>3.79</td>\n      <td>3.31</td>\n      <td>35.82</td>\n      <td>0.0</td>\n    </tr>\n    <tr>\n      <th>3</th>\n      <td>4</td>\n      <td>Wii Sports Resort</td>\n      <td>Wii</td>\n      <td>2009.0</td>\n      <td>Sports</td>\n      <td>Nintendo</td>\n      <td>15.75</td>\n      <td>11.01</td>\n      <td>3.28</td>\n      <td>2.96</td>\n      <td>33.00</td>\n      <td>0.0</td>\n    </tr>\n    <tr>\n      <th>4</th>\n      <td>5</td>\n      <td>Pokemon Red/Pokemon Blue</td>\n      <td>GB</td>\n      <td>1996.0</td>\n      <td>Role-Playing</td>\n      <td>Nintendo</td>\n      <td>11.27</td>\n      <td>8.89</td>\n      <td>10.22</td>\n      <td>1.00</td>\n      <td>31.37</td>\n      <td>0.0</td>\n    </tr>\n    <tr>\n      <th>...</th>\n      <td>...</td>\n      <td>...</td>\n      <td>...</td>\n      <td>...</td>\n      <td>...</td>\n      <td>...</td>\n      <td>...</td>\n      <td>...</td>\n      <td>...</td>\n      <td>...</td>\n      <td>...</td>\n      <td>...</td>\n    </tr>\n    <tr>\n      <th>16593</th>\n      <td>16596</td>\n      <td>Woody Woodpecker in Crazy Castle 5</td>\n      <td>GBA</td>\n      <td>2002.0</td>\n      <td>Platform</td>\n      <td>Kemco</td>\n      <td>0.01</td>\n      <td>0.00</td>\n      <td>0.00</td>\n      <td>0.00</td>\n      <td>0.01</td>\n      <td>0.0</td>\n    </tr>\n    <tr>\n      <th>16594</th>\n      <td>16597</td>\n      <td>Men in Black II: Alien Escape</td>\n      <td>GC</td>\n      <td>2003.0</td>\n      <td>Shooter</td>\n      <td>Infogrames</td>\n      <td>0.01</td>\n      <td>0.00</td>\n      <td>0.00</td>\n      <td>0.00</td>\n      <td>0.01</td>\n      <td>0.0</td>\n    </tr>\n    <tr>\n      <th>16595</th>\n      <td>16598</td>\n      <td>SCORE International Baja 1000: The Official Game</td>\n      <td>PS2</td>\n      <td>2008.0</td>\n      <td>Racing</td>\n      <td>Activision</td>\n      <td>0.00</td>\n      <td>0.00</td>\n      <td>0.00</td>\n      <td>0.00</td>\n      <td>0.01</td>\n      <td>0.0</td>\n    </tr>\n    <tr>\n      <th>16596</th>\n      <td>16599</td>\n      <td>Know How 2</td>\n      <td>DS</td>\n      <td>2010.0</td>\n      <td>Puzzle</td>\n      <td>7G//AMES</td>\n      <td>0.00</td>\n      <td>0.01</td>\n      <td>0.00</td>\n      <td>0.00</td>\n      <td>0.01</td>\n      <td>0.0</td>\n    </tr>\n    <tr>\n      <th>16597</th>\n      <td>16600</td>\n      <td>Spirits &amp; Spells</td>\n      <td>GBA</td>\n      <td>2003.0</td>\n      <td>Platform</td>\n      <td>Wanadoo</td>\n      <td>0.01</td>\n      <td>0.00</td>\n      <td>0.00</td>\n      <td>0.00</td>\n      <td>0.01</td>\n      <td>0.0</td>\n    </tr>\n  </tbody>\n</table>\n<p>16597 rows × 12 columns</p>\n</div>"
     },
     "metadata": {},
     "execution_count": 97
    }
   ],
   "source": [
    "df.drop([50])"
   ]
  },
  {
   "cell_type": "code",
   "execution_count": 98,
   "metadata": {},
   "outputs": [
    {
     "output_type": "execute_result",
     "data": {
      "text/plain": [
       "        Rank                                              Name Platform  \\\n",
       "0          1                                        Wii Sports      Wii   \n",
       "1          2                                 Super Mario Bros.      NES   \n",
       "2          3                                    Mario Kart Wii      Wii   \n",
       "4          5                          Pokemon Red/Pokemon Blue       GB   \n",
       "5          6                                            Tetris       GB   \n",
       "...      ...                                               ...      ...   \n",
       "16593  16596                Woody Woodpecker in Crazy Castle 5      GBA   \n",
       "16594  16597                     Men in Black II: Alien Escape       GC   \n",
       "16595  16598  SCORE International Baja 1000: The Official Game      PS2   \n",
       "16596  16599                                        Know How 2       DS   \n",
       "16597  16600                                  Spirits & Spells      GBA   \n",
       "\n",
       "         Year         Genre   Publisher  NA_Sales  EU_Sales  JP_Sales  \\\n",
       "0      2006.0        Sports    Nintendo     41.49     29.02      3.77   \n",
       "1      1985.0      Platform    Nintendo     29.08      3.58      6.81   \n",
       "2      2008.0        Racing    Nintendo     15.85     12.88      3.79   \n",
       "4      1996.0  Role-Playing    Nintendo     11.27      8.89     10.22   \n",
       "5      1989.0        Puzzle    Nintendo     23.20      2.26      4.22   \n",
       "...       ...           ...         ...       ...       ...       ...   \n",
       "16593  2002.0      Platform       Kemco      0.01      0.00      0.00   \n",
       "16594  2003.0       Shooter  Infogrames      0.01      0.00      0.00   \n",
       "16595  2008.0        Racing  Activision      0.00      0.00      0.00   \n",
       "16596  2010.0        Puzzle    7G//AMES      0.00      0.01      0.00   \n",
       "16597  2003.0      Platform     Wanadoo      0.01      0.00      0.00   \n",
       "\n",
       "       Other_Sales  Global_Sales  Sport  \n",
       "0             8.46         82.74    0.0  \n",
       "1             0.77         40.24    0.0  \n",
       "2             3.31         35.82    0.0  \n",
       "4             1.00         31.37    0.0  \n",
       "5             0.58         30.26    0.0  \n",
       "...            ...           ...    ...  \n",
       "16593         0.00          0.01    0.0  \n",
       "16594         0.00          0.01    0.0  \n",
       "16595         0.00          0.01    0.0  \n",
       "16596         0.00          0.01    0.0  \n",
       "16597         0.00          0.01    0.0  \n",
       "\n",
       "[15167 rows x 12 columns]"
      ],
      "text/html": "<div>\n<style scoped>\n    .dataframe tbody tr th:only-of-type {\n        vertical-align: middle;\n    }\n\n    .dataframe tbody tr th {\n        vertical-align: top;\n    }\n\n    .dataframe thead th {\n        text-align: right;\n    }\n</style>\n<table border=\"1\" class=\"dataframe\">\n  <thead>\n    <tr style=\"text-align: right;\">\n      <th></th>\n      <th>Rank</th>\n      <th>Name</th>\n      <th>Platform</th>\n      <th>Year</th>\n      <th>Genre</th>\n      <th>Publisher</th>\n      <th>NA_Sales</th>\n      <th>EU_Sales</th>\n      <th>JP_Sales</th>\n      <th>Other_Sales</th>\n      <th>Global_Sales</th>\n      <th>Sport</th>\n    </tr>\n  </thead>\n  <tbody>\n    <tr>\n      <th>0</th>\n      <td>1</td>\n      <td>Wii Sports</td>\n      <td>Wii</td>\n      <td>2006.0</td>\n      <td>Sports</td>\n      <td>Nintendo</td>\n      <td>41.49</td>\n      <td>29.02</td>\n      <td>3.77</td>\n      <td>8.46</td>\n      <td>82.74</td>\n      <td>0.0</td>\n    </tr>\n    <tr>\n      <th>1</th>\n      <td>2</td>\n      <td>Super Mario Bros.</td>\n      <td>NES</td>\n      <td>1985.0</td>\n      <td>Platform</td>\n      <td>Nintendo</td>\n      <td>29.08</td>\n      <td>3.58</td>\n      <td>6.81</td>\n      <td>0.77</td>\n      <td>40.24</td>\n      <td>0.0</td>\n    </tr>\n    <tr>\n      <th>2</th>\n      <td>3</td>\n      <td>Mario Kart Wii</td>\n      <td>Wii</td>\n      <td>2008.0</td>\n      <td>Racing</td>\n      <td>Nintendo</td>\n      <td>15.85</td>\n      <td>12.88</td>\n      <td>3.79</td>\n      <td>3.31</td>\n      <td>35.82</td>\n      <td>0.0</td>\n    </tr>\n    <tr>\n      <th>4</th>\n      <td>5</td>\n      <td>Pokemon Red/Pokemon Blue</td>\n      <td>GB</td>\n      <td>1996.0</td>\n      <td>Role-Playing</td>\n      <td>Nintendo</td>\n      <td>11.27</td>\n      <td>8.89</td>\n      <td>10.22</td>\n      <td>1.00</td>\n      <td>31.37</td>\n      <td>0.0</td>\n    </tr>\n    <tr>\n      <th>5</th>\n      <td>6</td>\n      <td>Tetris</td>\n      <td>GB</td>\n      <td>1989.0</td>\n      <td>Puzzle</td>\n      <td>Nintendo</td>\n      <td>23.20</td>\n      <td>2.26</td>\n      <td>4.22</td>\n      <td>0.58</td>\n      <td>30.26</td>\n      <td>0.0</td>\n    </tr>\n    <tr>\n      <th>...</th>\n      <td>...</td>\n      <td>...</td>\n      <td>...</td>\n      <td>...</td>\n      <td>...</td>\n      <td>...</td>\n      <td>...</td>\n      <td>...</td>\n      <td>...</td>\n      <td>...</td>\n      <td>...</td>\n      <td>...</td>\n    </tr>\n    <tr>\n      <th>16593</th>\n      <td>16596</td>\n      <td>Woody Woodpecker in Crazy Castle 5</td>\n      <td>GBA</td>\n      <td>2002.0</td>\n      <td>Platform</td>\n      <td>Kemco</td>\n      <td>0.01</td>\n      <td>0.00</td>\n      <td>0.00</td>\n      <td>0.00</td>\n      <td>0.01</td>\n      <td>0.0</td>\n    </tr>\n    <tr>\n      <th>16594</th>\n      <td>16597</td>\n      <td>Men in Black II: Alien Escape</td>\n      <td>GC</td>\n      <td>2003.0</td>\n      <td>Shooter</td>\n      <td>Infogrames</td>\n      <td>0.01</td>\n      <td>0.00</td>\n      <td>0.00</td>\n      <td>0.00</td>\n      <td>0.01</td>\n      <td>0.0</td>\n    </tr>\n    <tr>\n      <th>16595</th>\n      <td>16598</td>\n      <td>SCORE International Baja 1000: The Official Game</td>\n      <td>PS2</td>\n      <td>2008.0</td>\n      <td>Racing</td>\n      <td>Activision</td>\n      <td>0.00</td>\n      <td>0.00</td>\n      <td>0.00</td>\n      <td>0.00</td>\n      <td>0.01</td>\n      <td>0.0</td>\n    </tr>\n    <tr>\n      <th>16596</th>\n      <td>16599</td>\n      <td>Know How 2</td>\n      <td>DS</td>\n      <td>2010.0</td>\n      <td>Puzzle</td>\n      <td>7G//AMES</td>\n      <td>0.00</td>\n      <td>0.01</td>\n      <td>0.00</td>\n      <td>0.00</td>\n      <td>0.01</td>\n      <td>0.0</td>\n    </tr>\n    <tr>\n      <th>16597</th>\n      <td>16600</td>\n      <td>Spirits &amp; Spells</td>\n      <td>GBA</td>\n      <td>2003.0</td>\n      <td>Platform</td>\n      <td>Wanadoo</td>\n      <td>0.01</td>\n      <td>0.00</td>\n      <td>0.00</td>\n      <td>0.00</td>\n      <td>0.01</td>\n      <td>0.0</td>\n    </tr>\n  </tbody>\n</table>\n<p>15167 rows × 12 columns</p>\n</div>"
     },
     "metadata": {},
     "execution_count": 98
    }
   ],
   "source": [
    "df.drop(df[df.Year==2009].index)"
   ]
  },
  {
   "cell_type": "markdown",
   "metadata": {},
   "source": [
    "## 4. Sort data\n",
    "\n",
    "- **【Q27】What are the top five games sold in Europe in 2009?**\n",
    "- **【Q28】What are the top five games sold in North America in 2009?**\n",
    "- **【Q29】What are the top five games sold in Japan in 2009?**"
   ]
  },
  {
   "cell_type": "code",
   "execution_count": 99,
   "metadata": {},
   "outputs": [
    {
     "output_type": "execute_result",
     "data": {
      "text/plain": [
       "    Rank                            Name Platform    Year       Genre  \\\n",
       "3      4               Wii Sports Resort      Wii  2009.0      Sports   \n",
       "14    15                    Wii Fit Plus      Wii  2009.0      Sports   \n",
       "8      9       New Super Mario Bros. Wii      Wii  2009.0    Platform   \n",
       "83    84                      The Sims 3       PC  2009.0  Simulation   \n",
       "55    56  Call of Duty: Modern Warfare 2      PS3  2009.0     Shooter   \n",
       "\n",
       "          Publisher  NA_Sales  EU_Sales  JP_Sales  Other_Sales  Global_Sales  \\\n",
       "3          Nintendo     15.75     11.01      3.28         2.96         33.00   \n",
       "14         Nintendo      9.09      8.59      2.53         1.79         22.00   \n",
       "8          Nintendo     14.59      7.06      4.70         2.26         28.62   \n",
       "83  Electronic Arts      0.98      6.42      0.00         0.71          8.11   \n",
       "55       Activision      4.99      3.69      0.38         1.63         10.69   \n",
       "\n",
       "    Sport  \n",
       "3     0.0  \n",
       "14    0.0  \n",
       "8     0.0  \n",
       "83    0.0  \n",
       "55    0.0  "
      ],
      "text/html": "<div>\n<style scoped>\n    .dataframe tbody tr th:only-of-type {\n        vertical-align: middle;\n    }\n\n    .dataframe tbody tr th {\n        vertical-align: top;\n    }\n\n    .dataframe thead th {\n        text-align: right;\n    }\n</style>\n<table border=\"1\" class=\"dataframe\">\n  <thead>\n    <tr style=\"text-align: right;\">\n      <th></th>\n      <th>Rank</th>\n      <th>Name</th>\n      <th>Platform</th>\n      <th>Year</th>\n      <th>Genre</th>\n      <th>Publisher</th>\n      <th>NA_Sales</th>\n      <th>EU_Sales</th>\n      <th>JP_Sales</th>\n      <th>Other_Sales</th>\n      <th>Global_Sales</th>\n      <th>Sport</th>\n    </tr>\n  </thead>\n  <tbody>\n    <tr>\n      <th>3</th>\n      <td>4</td>\n      <td>Wii Sports Resort</td>\n      <td>Wii</td>\n      <td>2009.0</td>\n      <td>Sports</td>\n      <td>Nintendo</td>\n      <td>15.75</td>\n      <td>11.01</td>\n      <td>3.28</td>\n      <td>2.96</td>\n      <td>33.00</td>\n      <td>0.0</td>\n    </tr>\n    <tr>\n      <th>14</th>\n      <td>15</td>\n      <td>Wii Fit Plus</td>\n      <td>Wii</td>\n      <td>2009.0</td>\n      <td>Sports</td>\n      <td>Nintendo</td>\n      <td>9.09</td>\n      <td>8.59</td>\n      <td>2.53</td>\n      <td>1.79</td>\n      <td>22.00</td>\n      <td>0.0</td>\n    </tr>\n    <tr>\n      <th>8</th>\n      <td>9</td>\n      <td>New Super Mario Bros. Wii</td>\n      <td>Wii</td>\n      <td>2009.0</td>\n      <td>Platform</td>\n      <td>Nintendo</td>\n      <td>14.59</td>\n      <td>7.06</td>\n      <td>4.70</td>\n      <td>2.26</td>\n      <td>28.62</td>\n      <td>0.0</td>\n    </tr>\n    <tr>\n      <th>83</th>\n      <td>84</td>\n      <td>The Sims 3</td>\n      <td>PC</td>\n      <td>2009.0</td>\n      <td>Simulation</td>\n      <td>Electronic Arts</td>\n      <td>0.98</td>\n      <td>6.42</td>\n      <td>0.00</td>\n      <td>0.71</td>\n      <td>8.11</td>\n      <td>0.0</td>\n    </tr>\n    <tr>\n      <th>55</th>\n      <td>56</td>\n      <td>Call of Duty: Modern Warfare 2</td>\n      <td>PS3</td>\n      <td>2009.0</td>\n      <td>Shooter</td>\n      <td>Activision</td>\n      <td>4.99</td>\n      <td>3.69</td>\n      <td>0.38</td>\n      <td>1.63</td>\n      <td>10.69</td>\n      <td>0.0</td>\n    </tr>\n  </tbody>\n</table>\n</div>"
     },
     "metadata": {},
     "execution_count": 99
    }
   ],
   "source": [
    "df[df.Year==2009].sort_values('EU_Sales',ascending=False).head(5)"
   ]
  },
  {
   "cell_type": "code",
   "execution_count": null,
   "metadata": {},
   "outputs": [],
   "source": [
    "df[df.Year==2009].sort_values('NA_Sales',ascending=False).head(5)"
   ]
  },
  {
   "cell_type": "code",
   "execution_count": null,
   "metadata": {},
   "outputs": [],
   "source": [
    "df[df.Year==2009].sort_values('JP_Sales',ascending=False).head(5)"
   ]
  },
  {
   "cell_type": "markdown",
   "metadata": {},
   "source": [
    "## 5. Data grouping\n",
    "\n",
    "Use the original video game sales dataset, investigate the following questions.\n",
    "\n",
    "- **【Q30】What are the sales for each game genre? What are the top three popular game genres globally and across the years?**"
   ]
  },
  {
   "cell_type": "markdown",
   "metadata": {},
   "source": [
    "Here we only care about the genre and global sales columns, so we can firstly filter these columns. Otherwise, all columns will be aggreated, e.g. sumed, which is unnecessary."
   ]
  },
  {
   "cell_type": "code",
   "execution_count": 105,
   "metadata": {},
   "outputs": [
    {
     "output_type": "execute_result",
     "data": {
      "text/plain": [
       "         Global_Sales\n",
       "Genre                \n",
       "Action        1751.18\n",
       "Sports        1330.93\n",
       "Shooter       1037.37"
      ],
      "text/html": "<div>\n<style scoped>\n    .dataframe tbody tr th:only-of-type {\n        vertical-align: middle;\n    }\n\n    .dataframe tbody tr th {\n        vertical-align: top;\n    }\n\n    .dataframe thead th {\n        text-align: right;\n    }\n</style>\n<table border=\"1\" class=\"dataframe\">\n  <thead>\n    <tr style=\"text-align: right;\">\n      <th></th>\n      <th>Global_Sales</th>\n    </tr>\n    <tr>\n      <th>Genre</th>\n      <th></th>\n    </tr>\n  </thead>\n  <tbody>\n    <tr>\n      <th>Action</th>\n      <td>1751.18</td>\n    </tr>\n    <tr>\n      <th>Sports</th>\n      <td>1330.93</td>\n    </tr>\n    <tr>\n      <th>Shooter</th>\n      <td>1037.37</td>\n    </tr>\n  </tbody>\n</table>\n</div>"
     },
     "metadata": {},
     "execution_count": 105
    }
   ],
   "source": [
    "vg=pd.read_csv('./vgsales.csv')\n",
    "vg.loc[:,['Genre','Global_Sales']].groupby('Genre').agg({'Global_Sales':'sum'}).sort_values('Global_Sales',ascending=False).head(3)"
   ]
  },
  {
   "cell_type": "markdown",
   "metadata": {},
   "source": [
    "- **【Q31】What are the annual sales for different publishers? What are the largest three game publishers?**\n",
    "\n",
    "Now we only care about the publishers and the sales columns, so like above, we can firstly filter these columns. "
   ]
  },
  {
   "cell_type": "code",
   "execution_count": 106,
   "metadata": {},
   "outputs": [
    {
     "output_type": "execute_result",
     "data": {
      "text/plain": [
       "                 Global_Sales\n",
       "Publisher                    \n",
       "Nintendo              1786.56\n",
       "Electronic Arts       1110.32\n",
       "Activision             727.46"
      ],
      "text/html": "<div>\n<style scoped>\n    .dataframe tbody tr th:only-of-type {\n        vertical-align: middle;\n    }\n\n    .dataframe tbody tr th {\n        vertical-align: top;\n    }\n\n    .dataframe thead th {\n        text-align: right;\n    }\n</style>\n<table border=\"1\" class=\"dataframe\">\n  <thead>\n    <tr style=\"text-align: right;\">\n      <th></th>\n      <th>Global_Sales</th>\n    </tr>\n    <tr>\n      <th>Publisher</th>\n      <th></th>\n    </tr>\n  </thead>\n  <tbody>\n    <tr>\n      <th>Nintendo</th>\n      <td>1786.56</td>\n    </tr>\n    <tr>\n      <th>Electronic Arts</th>\n      <td>1110.32</td>\n    </tr>\n    <tr>\n      <th>Activision</th>\n      <td>727.46</td>\n    </tr>\n  </tbody>\n</table>\n</div>"
     },
     "metadata": {},
     "execution_count": 106
    }
   ],
   "source": [
    "vg[['Publisher','Global_Sales']].groupby('Publisher').agg({'Global_Sales':'sum'}).sort_values('Global_Sales',ascending=False).head(3)"
   ]
  },
  {
   "cell_type": "markdown",
   "metadata": {},
   "source": [
    "- **【Q32】What are the total sales for each year?**\n",
    "\n",
    "Likewise, we first create a subset."
   ]
  },
  {
   "cell_type": "code",
   "execution_count": 108,
   "metadata": {},
   "outputs": [
    {
     "output_type": "execute_result",
     "data": {
      "text/plain": [
       "        Global_Sales\n",
       "Year                \n",
       "1980.0         11.38\n",
       "1981.0         35.77\n",
       "1982.0         28.86\n",
       "1983.0         16.79\n",
       "1984.0         50.36\n",
       "1985.0         53.94\n",
       "1986.0         37.07\n",
       "1987.0         21.74\n",
       "1988.0         47.22\n",
       "1989.0         73.45\n",
       "1990.0         49.39\n",
       "1991.0         32.23\n",
       "1992.0         76.16\n",
       "1993.0         45.98\n",
       "1994.0         79.17\n",
       "1995.0         88.11\n",
       "1996.0        199.15\n",
       "1997.0        200.98\n",
       "1998.0        256.47\n",
       "1999.0        251.27\n",
       "2000.0        201.56\n",
       "2001.0        331.47\n",
       "2002.0        395.52\n",
       "2003.0        357.85\n",
       "2004.0        419.31\n",
       "2005.0        459.94\n",
       "2006.0        521.04\n",
       "2007.0        611.13\n",
       "2008.0        678.90\n",
       "2009.0        667.30\n",
       "2010.0        600.45\n",
       "2011.0        515.99\n",
       "2012.0        363.54\n",
       "2013.0        368.11\n",
       "2014.0        337.05\n",
       "2015.0        264.44\n",
       "2016.0         70.93\n",
       "2017.0          0.05\n",
       "2020.0          0.29"
      ],
      "text/html": "<div>\n<style scoped>\n    .dataframe tbody tr th:only-of-type {\n        vertical-align: middle;\n    }\n\n    .dataframe tbody tr th {\n        vertical-align: top;\n    }\n\n    .dataframe thead th {\n        text-align: right;\n    }\n</style>\n<table border=\"1\" class=\"dataframe\">\n  <thead>\n    <tr style=\"text-align: right;\">\n      <th></th>\n      <th>Global_Sales</th>\n    </tr>\n    <tr>\n      <th>Year</th>\n      <th></th>\n    </tr>\n  </thead>\n  <tbody>\n    <tr>\n      <th>1980.0</th>\n      <td>11.38</td>\n    </tr>\n    <tr>\n      <th>1981.0</th>\n      <td>35.77</td>\n    </tr>\n    <tr>\n      <th>1982.0</th>\n      <td>28.86</td>\n    </tr>\n    <tr>\n      <th>1983.0</th>\n      <td>16.79</td>\n    </tr>\n    <tr>\n      <th>1984.0</th>\n      <td>50.36</td>\n    </tr>\n    <tr>\n      <th>1985.0</th>\n      <td>53.94</td>\n    </tr>\n    <tr>\n      <th>1986.0</th>\n      <td>37.07</td>\n    </tr>\n    <tr>\n      <th>1987.0</th>\n      <td>21.74</td>\n    </tr>\n    <tr>\n      <th>1988.0</th>\n      <td>47.22</td>\n    </tr>\n    <tr>\n      <th>1989.0</th>\n      <td>73.45</td>\n    </tr>\n    <tr>\n      <th>1990.0</th>\n      <td>49.39</td>\n    </tr>\n    <tr>\n      <th>1991.0</th>\n      <td>32.23</td>\n    </tr>\n    <tr>\n      <th>1992.0</th>\n      <td>76.16</td>\n    </tr>\n    <tr>\n      <th>1993.0</th>\n      <td>45.98</td>\n    </tr>\n    <tr>\n      <th>1994.0</th>\n      <td>79.17</td>\n    </tr>\n    <tr>\n      <th>1995.0</th>\n      <td>88.11</td>\n    </tr>\n    <tr>\n      <th>1996.0</th>\n      <td>199.15</td>\n    </tr>\n    <tr>\n      <th>1997.0</th>\n      <td>200.98</td>\n    </tr>\n    <tr>\n      <th>1998.0</th>\n      <td>256.47</td>\n    </tr>\n    <tr>\n      <th>1999.0</th>\n      <td>251.27</td>\n    </tr>\n    <tr>\n      <th>2000.0</th>\n      <td>201.56</td>\n    </tr>\n    <tr>\n      <th>2001.0</th>\n      <td>331.47</td>\n    </tr>\n    <tr>\n      <th>2002.0</th>\n      <td>395.52</td>\n    </tr>\n    <tr>\n      <th>2003.0</th>\n      <td>357.85</td>\n    </tr>\n    <tr>\n      <th>2004.0</th>\n      <td>419.31</td>\n    </tr>\n    <tr>\n      <th>2005.0</th>\n      <td>459.94</td>\n    </tr>\n    <tr>\n      <th>2006.0</th>\n      <td>521.04</td>\n    </tr>\n    <tr>\n      <th>2007.0</th>\n      <td>611.13</td>\n    </tr>\n    <tr>\n      <th>2008.0</th>\n      <td>678.90</td>\n    </tr>\n    <tr>\n      <th>2009.0</th>\n      <td>667.30</td>\n    </tr>\n    <tr>\n      <th>2010.0</th>\n      <td>600.45</td>\n    </tr>\n    <tr>\n      <th>2011.0</th>\n      <td>515.99</td>\n    </tr>\n    <tr>\n      <th>2012.0</th>\n      <td>363.54</td>\n    </tr>\n    <tr>\n      <th>2013.0</th>\n      <td>368.11</td>\n    </tr>\n    <tr>\n      <th>2014.0</th>\n      <td>337.05</td>\n    </tr>\n    <tr>\n      <th>2015.0</th>\n      <td>264.44</td>\n    </tr>\n    <tr>\n      <th>2016.0</th>\n      <td>70.93</td>\n    </tr>\n    <tr>\n      <th>2017.0</th>\n      <td>0.05</td>\n    </tr>\n    <tr>\n      <th>2020.0</th>\n      <td>0.29</td>\n    </tr>\n  </tbody>\n</table>\n</div>"
     },
     "metadata": {},
     "execution_count": 108
    }
   ],
   "source": [
    "vg[['Year','Global_Sales']].groupby('Year').agg({'Global_Sales':'sum'})"
   ]
  },
  {
   "cell_type": "markdown",
   "metadata": {},
   "source": [
    "- **【Q33】What are the games that have been sold for the longest time and what are their global sales like?**"
   ]
  },
  {
   "cell_type": "code",
   "execution_count": 110,
   "metadata": {},
   "outputs": [
    {
     "output_type": "execute_result",
     "data": {
      "text/plain": [
       "                                         Year  Global_Sales\n",
       "Name                                                       \n",
       "Need for Speed: Most Wanted                12         14.08\n",
       "FIFA 14                                     9         17.14\n",
       "Ratatouille                                 9          4.46\n",
       "LEGO Marvel Super Heroes                    9          9.86\n",
       "Monopoly                                    8          7.70\n",
       "...                                       ...           ...\n",
       "The Daring Game for Girls                   0          0.22\n",
       "Saint                                       0          0.02\n",
       "TERA                                        0          0.41\n",
       "Housekeeping                                0          0.04\n",
       "Shonen Jump's Yu-Gi-Oh! GX Card Almanac     0          0.02\n",
       "\n",
       "[11493 rows x 2 columns]"
      ],
      "text/html": "<div>\n<style scoped>\n    .dataframe tbody tr th:only-of-type {\n        vertical-align: middle;\n    }\n\n    .dataframe tbody tr th {\n        vertical-align: top;\n    }\n\n    .dataframe thead th {\n        text-align: right;\n    }\n</style>\n<table border=\"1\" class=\"dataframe\">\n  <thead>\n    <tr style=\"text-align: right;\">\n      <th></th>\n      <th>Year</th>\n      <th>Global_Sales</th>\n    </tr>\n    <tr>\n      <th>Name</th>\n      <th></th>\n      <th></th>\n    </tr>\n  </thead>\n  <tbody>\n    <tr>\n      <th>Need for Speed: Most Wanted</th>\n      <td>12</td>\n      <td>14.08</td>\n    </tr>\n    <tr>\n      <th>FIFA 14</th>\n      <td>9</td>\n      <td>17.14</td>\n    </tr>\n    <tr>\n      <th>Ratatouille</th>\n      <td>9</td>\n      <td>4.46</td>\n    </tr>\n    <tr>\n      <th>LEGO Marvel Super Heroes</th>\n      <td>9</td>\n      <td>9.86</td>\n    </tr>\n    <tr>\n      <th>Monopoly</th>\n      <td>8</td>\n      <td>7.70</td>\n    </tr>\n    <tr>\n      <th>...</th>\n      <td>...</td>\n      <td>...</td>\n    </tr>\n    <tr>\n      <th>The Daring Game for Girls</th>\n      <td>0</td>\n      <td>0.22</td>\n    </tr>\n    <tr>\n      <th>Saint</th>\n      <td>0</td>\n      <td>0.02</td>\n    </tr>\n    <tr>\n      <th>TERA</th>\n      <td>0</td>\n      <td>0.41</td>\n    </tr>\n    <tr>\n      <th>Housekeeping</th>\n      <td>0</td>\n      <td>0.04</td>\n    </tr>\n    <tr>\n      <th>Shonen Jump's Yu-Gi-Oh! GX Card Almanac</th>\n      <td>0</td>\n      <td>0.02</td>\n    </tr>\n  </tbody>\n</table>\n<p>11493 rows × 2 columns</p>\n</div>"
     },
     "metadata": {},
     "execution_count": 110
    }
   ],
   "source": [
    "vg[['Name','Year','Global_Sales']].groupby('Name').agg({'Year':'count','Global_Sales':'sum'}).sort_values('Year',ascending=False)"
   ]
  },
  {
   "cell_type": "markdown",
   "metadata": {},
   "source": [
    "## 5. FileIO with Pandas\n",
    "\n",
    "- **【Q34】Generate a dataset that only contains the game name and its total (i.e. aggregated) sales (that is, the NA_Sales, EU_Sales, JP_Sales, Other_Sales and Global_Sales). Output it to a CSV and to an Excel file respectively. Take screenshots of the output files (e.g. opened in TextEditor and Excel) and paste them below.**\n",
    "\n",
    "Here we ignore the Rank, Platform, Year, Genre, Publisher columns, and combine sales across different years and platforms for games with the same name."
   ]
  },
  {
   "cell_type": "code",
   "execution_count": 113,
   "metadata": {},
   "outputs": [
    {
     "output_type": "stream",
     "name": "stdout",
     "text": [
      "Looking in indexes: http://mirrors.aliyun.com/pypi/simple/\n",
      "Collecting xlwt\n",
      "  Downloading http://mirrors.aliyun.com/pypi/packages/44/48/def306413b25c3d01753603b1a222a011b8621aed27cd7f89cbc27e6b0f4/xlwt-1.3.0-py2.py3-none-any.whl (99 kB)\n",
      "Installing collected packages: xlwt\n",
      "Successfully installed xlwt-1.3.0\n",
      "ipykernel_launcher:4: FutureWarning: As the xlwt package is no longer maintained, the xlwt engine will be removed in a future version of pandas. This is the only engine in pandas that supports writing in the xls format. Install openpyxl and write to an xlsx file instead. You can set the option io.excel.xls.writer to 'xlwt' to silence this warning. While this option is deprecated and will also raise a warning, it can be globally set and the warning suppressed.\n"
     ]
    }
   ],
   "source": [
    "subset2=vg[['Name','NA_Sales','EU_Sales','JP_Sales','Other_Sales','Global_Sales']].groupby('Name').agg({'NA_Sales':'sum','EU_Sales':'sum','JP_Sales':'sum','Other_Sales':'sum','Global_Sales':'sum'})\n",
    "subset2.to_csv('subset2.csv')\n",
    "!pip install xlwt\n",
    "subset2.to_excel('subset2.xls')"
   ]
  },
  {
   "source": [
    "### Below is screenshot of 'subset2.csv' file\n",
    "![](./screenshot_of_csv.png)\n",
    "### Below is screenshot of 'subset2.xls' file\n",
    "![](./screenshot_of_excel.png)"
   ],
   "cell_type": "markdown",
   "metadata": {}
  },
  {
   "cell_type": "markdown",
   "metadata": {},
   "source": [
    "## 6. Extended manipulation\n",
    "\n",
    "There are many other possibilities that are not included in our lectures and this tutorial. For example, you can try to integrate multiple datasets using the pd.concat() method. If you have explored other manipulation methods, feel free to write your work below."
   ]
  },
  {
   "cell_type": "code",
   "execution_count": 116,
   "metadata": {},
   "outputs": [
    {
     "output_type": "execute_result",
     "data": {
      "text/plain": [
       "'1.2.4'"
      ]
     },
     "metadata": {},
     "execution_count": 116
    }
   ],
   "source": [
    "pd.__version__"
   ]
  },
  {
   "cell_type": "code",
   "execution_count": 118,
   "metadata": {},
   "outputs": [
    {
     "output_type": "execute_result",
     "data": {
      "text/plain": [
       "1    You\n",
       "2    And\n",
       "Name: WhereAmI, dtype: object"
      ]
     },
     "metadata": {},
     "execution_count": 118
    }
   ],
   "source": [
    "data = {1: \"You\", 2: \"And\", 3: \"Me\"}\n",
    "pd.Series(data, index = [1, 2], name=\"WhereAmI\")"
   ]
  },
  {
   "cell_type": "code",
   "execution_count": 119,
   "metadata": {
    "tags": [
     "outputPrepend"
    ]
   },
   "outputs": [
    {
     "output_type": "stream",
     "name": "stdout",
     "text": [
      "                                                           Blazer Drive       DS  2008.0  Role-Playing                                    Sega      0.00      0.00      0.01         0.00          0.01\n16526  16529                                                                                                                    Onigokko! Portable      PSP  2013.0     Adventure                               Alchemist      0.00      0.00      0.01         0.00          0.01\n16527  16530                                                                                                             Hoshizora no Comic Garden       DS  2008.0     Adventure                             D3Publisher      0.00      0.00      0.01         0.00          0.01\n16528  16531                                                                                                                     Kiniro no Corda 3      3DS  2015.0     Adventure                              Tecmo Koei      0.00      0.00      0.01         0.00          0.01\n16529  16532                                                                                   Hirameki Action: Chibikko Wagyan no Daiki na Bouken       DS  2009.0        Action                      Namco Bandai Games      0.00      0.00      0.01         0.00          0.01\n16530  16533                                                                                                              Sébastien Loeb Rally Evo     XOne  2016.0        Racing                         Milestone S.r.l      0.00      0.01      0.00         0.00          0.01\n16531  16534                                                                                                                         Hitman (2016)     XOne  2016.0        Action                             Square Enix      0.00      0.01      0.00         0.00          0.01\n16532  16535                                                                                                               STORM: Frontline Nation       PC  2011.0      Strategy                                 Unknown      0.00      0.01      0.00         0.00          0.01\n16533  16536                                                                                                           Metal Gear Solid HD Edition     X360  2011.0        Action            Konami Digital Entertainment      0.00      0.00      0.01         0.00          0.01\n16534  16537                                                                                                                        Time Travelers      PSP  2012.0     Adventure                                 Level 5      0.00      0.00      0.01         0.00          0.01\n16535  16538                                                                                                                          Mushi Bugyou      3DS  2013.0        Action                      Namco Bandai Games      0.00      0.00      0.01         0.00          0.01\n16536  16539                                                                                                            Patrician IV: Gold Edition       PC  2011.0          Misc                           Kalypso Media      0.00      0.01      0.00         0.00          0.01\n16537  16540                                                                                                       Transformers: Fall of Cybertron       PC  2012.0        Action                              Activision      0.01      0.00      0.00         0.00          0.01\n16538  16541                                                                                                 Sea Monsters: A Prehistoric Adventure       DS  2007.0     Adventure                               DSI Games      0.01      0.00      0.00         0.00          0.01\n16539  16542                                                                                                             Spore Galactic Adventures       PC  2009.0      Strategy                         Electronic Arts      0.00      0.01      0.00         0.00          0.01\n16540  16543                                                                                                                               15 Days       PC  2009.0     Adventure                       DTP Entertainment      0.00      0.01      0.00         0.00          0.01\n16541  16544                                                                                                                       Battle Fantasia      PS3  2008.0      Fighting                               505 Games      0.00      0.00      0.01         0.00          0.01\n16542  16545                                                                                   Mario & Luigi: Paper Jam & Mario Kart 7 Double Pack      3DS  2015.0          Misc                                Nintendo      0.00      0.00      0.01         0.00          0.01\n16543  16546                                                                                                                Driving Simulator 2011       PC  2011.0        Racing                                     NaN      0.00      0.01      0.00         0.00          0.01\n16544  16547                                                                                                      Imagine Figure Skater (JP sales)       DS  2007.0        Sports                                 Ubisoft      0.00      0.00      0.01         0.00          0.01\n16545  16548                                                                         The Treasures of Mystery Island 3 Pack - Save Mystery Island!       PC  2011.0        Puzzle                                 Unknown      0.01      0.00      0.00         0.00          0.01\n16546  16549                                                                                                          Hyakki Yagyou Kaidan Romance      PSP  2012.0        Action                                Quinrose      0.00      0.00      0.01         0.00          0.01\n16547  16550                                                                                                                       Bookworm Deluxe       PC  2006.0        Puzzle                            PopCap Games      0.01      0.00      0.00         0.00          0.01\n16548  16551                                                                                                   Hakuoki: Reimeiroku - Omouhase Kara      PSV  2015.0        Action                            Idea Factory      0.00      0.00      0.01         0.00          0.01\n16549  16552                                                                                                            E.T. The Extra-Terrestrial      GBA  2001.0        Action                                NewKidCo      0.01      0.00      0.00         0.00          0.01\n16550  16553                                                                  God Eater Off Shot: Tachibana Sakuya-hen Twin Pack & Animation Vol.7      PS4  2016.0        Action                      Namco Bandai Games      0.00      0.00      0.01         0.00          0.01\n16551  16554                                                                                                                    Sweet Honey Coming      PS2  2009.0     Adventure                         Kadokawa Shoten      0.00      0.00      0.01         0.00          0.01\n16552  16555                                                                                              Mahou Sensei Negima!? Neo-Pactio Fight!!      Wii  2007.0      Fighting                   Marvelous Interactive      0.00      0.00      0.01         0.00          0.01\n16553  16556                                                                                                                        Bound By Flame     X360  2014.0  Role-Playing                                     NaN      0.00      0.01      0.00         0.00          0.01\n16554  16557                                                                                                                     Psychic Detective       PS  1995.0     Adventure                         Electronic Arts      0.01      0.00      0.00         0.00          0.01\n16555  16558                                                                                                 Codename: Panzers Complete Collection       PC  2016.0      Strategy                            Nordic Games      0.00      0.01      0.00         0.00          0.01\n16556  16559                                                                                               Super Robot Taisen: Original Generation      GBA  2002.0  Role-Playing                               Banpresto      0.01      0.00      0.00         0.00          0.01\n16557  16560                                                                                                             Dramatical Murder Re:code      PSV  2014.0     Adventure                               Nitroplus      0.00      0.00      0.01         0.00          0.01\n16558  16561                                                                                                             Pro Evolution Soccer 2008       PC  2007.0        Sports            Konami Digital Entertainment      0.00      0.01      0.00         0.00          0.01\n16559  16562                                                                                          Sugar + Spice! Anoko no Suteki na Nanimokamo      PS2  2008.0     Adventure                               Alchemist      0.00      0.00      0.01         0.00          0.01\n16560  16563                                                                                                                     Hanasaku Manimani      PSV  2014.0     Adventure                                     5pb      0.00      0.00      0.01         0.00          0.01\n16561  16564                                                                                                                        Kanokon: Esuii      PS2  2008.0     Adventure                                     5pb      0.00      0.00      0.01         0.00          0.01\n16562  16565                                                                                                                          Mighty No. 9     XOne  2016.0      Platform                             Deep Silver      0.01      0.00      0.00         0.00          0.01\n16563  16566                                                                                                        Mortal Kombat: Deadly Alliance      GBA  2002.0      Fighting                            Midway Games      0.01      0.00      0.00         0.00          0.01\n16564  16567                                                                                         Original Frisbee Disc Sports: Ultimate & Golf       DS  2007.0        Action               Destination Software, Inc      0.01      0.00      0.00         0.00          0.01\n16565  16568                                                                                                                             Teslagrad      PSV  2015.0      Platform                              Rain Games      0.00      0.01      0.00         0.00          0.01\n16566  16569                                                                                                                        End of Nations       PC  2012.0      Strategy                            Trion Worlds      0.01      0.00      0.00         0.00          0.01\n16567  16570                                                        Fujiko F. Fujio Characters: Great Assembly! Slightly Fantastic Slapstick Party      3DS  2014.0        Action                      Namco Bandai Games      0.00      0.00      0.01         0.00          0.01\n16568  16571                                                                                                                           XI Coliseum      PSP  2006.0        Puzzle             Sony Computer Entertainment      0.00      0.00      0.01         0.00          0.01\n16569  16572                                                                                                                    Resident Evil 4 HD     XOne  2016.0       Shooter                                  Capcom      0.01      0.00      0.00         0.00          0.01\n16570  16573                                                                                                         Farming 2017 - The Simulation      PS4  2016.0    Simulation                       UIG Entertainment      0.00      0.01      0.00         0.00          0.01\n16571  16574                                                                                            Grisaia no Kajitsu: La Fruit de la Grisaia      PSP  2013.0     Adventure                               Prototype      0.00      0.00      0.01         0.00          0.01\n16572  16575                                                                                                      Scarlett: Nichijou no Kyoukaisen      PS2  2008.0     Adventure                         Kadokawa Shoten      0.00      0.00      0.01         0.00          0.01\n16573  16576                                                                                                                   Mini Desktop Racing      Wii  2007.0        Racing                          Popcorn Arcade      0.01      0.00      0.00         0.00          0.01\n16574  16577                                                                             Yattaman Wii: BikkuriDokkiri Machine de Mou Race da Koron      Wii  2008.0        Racing                             Takara Tomy      0.00      0.00      0.01         0.00          0.01\n16575  16578                                                                                                                 Neo Angelique Special      PSP  2008.0     Adventure                              Tecmo Koei      0.00      0.00      0.01         0.00          0.01\n16576  16579                                                                                                                     Rugby Challenge 3     XOne  2016.0        Sports                    Alternative Software      0.00      0.01      0.00         0.00          0.01\n16577  16580                                                                                                                             Damnation       PC  2009.0       Shooter                             Codemasters      0.00      0.01      0.00         0.00          0.01\n16578  16581                                                                                                         Outdoors Unleashed: Africa 3D      3DS  2011.0        Sports                                 Mastiff      0.01      0.00      0.00         0.00          0.01\n16579  16582                                                                                                                     PGA European Tour      N64  2000.0        Sports                              Infogrames      0.01      0.00      0.00         0.00          0.01\n16580  16583                                                                                                                             Real Rode      PS2  2008.0     Adventure                         Kadokawa Shoten      0.00      0.00      0.01         0.00          0.01\n16581  16584                                                                                                                             Fit & Fun      Wii  2011.0        Sports                                 Unknown      0.00      0.01      0.00         0.00          0.01\n16582  16585                                                                                                                       Planet Monsters      GBA  2001.0        Action                                   Titus      0.01      0.00      0.00         0.00          0.01\n16583  16586                                                                                                                        Carmageddon 64      N64  1999.0        Action                      Virgin Interactive      0.01      0.00      0.00         0.00          0.01\n16584  16587                                                                                                                      Bust-A-Move 3000       GC  2003.0        Puzzle                                 Ubisoft      0.01      0.00      0.00         0.00          0.01\n16585  16588                                                                                                                                Breach       PC  2011.0       Shooter                               Destineer      0.01      0.00      0.00         0.00          0.01\n16586  16589                                                                                                        Secret Files 2: Puritas Cordis       DS  2009.0     Adventure                             Deep Silver      0.00      0.01      0.00         0.00          0.01\n16587  16590                                                                                                              Mezase!! Tsuri Master DS       DS  2009.0        Sports                             Hudson Soft      0.00      0.00      0.01         0.00          0.01\n16588  16591                                                                                                                      Mega Brain Boost       DS  2008.0        Puzzle                   Majesco Entertainment      0.01      0.00      0.00         0.00          0.01\n16589  16592                                                                               Chou Ezaru wa Akai Hana: Koi wa Tsuki ni Shirube Kareru      PSV  2016.0        Action                         dramatic create      0.00      0.00      0.01         0.00          0.01\n16590  16593                                                                           Eiyuu Densetsu: Sora no Kiseki Material Collection Portable      PSP  2007.0  Role-Playing                      Falcom Corporation      0.00      0.00      0.01         0.00          0.01\n16591  16594                                                                                                                   Myst IV: Revelation       PC  2004.0     Adventure                                 Ubisoft      0.01      0.00      0.00         0.00          0.01\n16592  16595                                                                                                                              Plushees       DS  2008.0    Simulation                               Destineer      0.01      0.00      0.00         0.00          0.01\n16593  16596                                                                                                    Woody Woodpecker in Crazy Castle 5      GBA  2002.0      Platform                                   Kemco      0.01      0.00      0.00         0.00          0.01\n16594  16597                                                                                                         Men in Black II: Alien Escape       GC  2003.0       Shooter                              Infogrames      0.01      0.00      0.00         0.00          0.01\n16595  16598                                                                                      SCORE International Baja 1000: The Official Game      PS2  2008.0        Racing                              Activision      0.00      0.00      0.00         0.00          0.01\n16596  16599                                                                                                                            Know How 2       DS  2010.0        Puzzle                                7G//AMES      0.00      0.01      0.00         0.00          0.01\n16597  16600                                                                                                                      Spirits & Spells      GBA  2003.0      Platform                                 Wanadoo      0.01      0.00      0.00         0.00          0.01\n"
     ]
    }
   ],
   "source": [
    "print(vg.to_string())"
   ]
  },
  {
   "cell_type": "code",
   "execution_count": null,
   "metadata": {},
   "outputs": [],
   "source": []
  }
 ],
 "metadata": {
  "kernelspec": {
   "name": "python379jvsc74a57bd03610ba5b39883f2c9136a6c60e2f9393bc8913e6ca44a84d2b07fc3630c06738",
   "display_name": "Python 3.7.9 64-bit ('tensorflow2': conda)"
  },
  "language_info": {
   "codemirror_mode": {
    "name": "ipython",
    "version": 3
   },
   "file_extension": ".py",
   "mimetype": "text/x-python",
   "name": "python",
   "nbconvert_exporter": "python",
   "pygments_lexer": "ipython3",
   "version": "3.7.9"
  }
 },
 "nbformat": 4,
 "nbformat_minor": 4
}