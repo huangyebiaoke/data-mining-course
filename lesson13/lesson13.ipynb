{
 "metadata": {
  "language_info": {
   "codemirror_mode": {
    "name": "ipython",
    "version": 3
   },
   "file_extension": ".py",
   "mimetype": "text/x-python",
   "name": "python",
   "nbconvert_exporter": "python",
   "pygments_lexer": "ipython3",
   "version": "3.7.9"
  },
  "orig_nbformat": 2,
  "kernelspec": {
   "name": "python379jvsc74a57bd03610ba5b39883f2c9136a6c60e2f9393bc8913e6ca44a84d2b07fc3630c06738",
   "display_name": "Python 3.7.9 64-bit ('tensorflow2': conda)"
  }
 },
 "nbformat": 4,
 "nbformat_minor": 2,
 "cells": [
  {
   "source": [
    "### Machine learning basic\n",
    "1. Machine learning task categorization\n",
    "2. General processes of supervised learning\n",
    "3. Learning goal and error types\n",
    "4. Model evaluation methods\n",
    "5. Practice with Scikit-learn"
   ],
   "cell_type": "markdown",
   "metadata": {}
  },
  {
   "source": [
    "**train set and test set should exclusive: normlized should not be apply in global set**\n",
    "\n",
    "- hold-out\n",
    "    - stratified sampling\n",
    "    - repeated hold-out\n",
    "- cross-validation\n",
    "- bootstrap sampling (sampling with replacement)\n",
    "- parameter tuning (validation set)"
   ],
   "cell_type": "markdown",
   "metadata": {}
  },
  {
   "source": [
    "### Scikit-Learn\n",
    "**General Process**\n",
    "\n",
    "1. Prepare/preprocess the data: transformers and pre-processors\n",
    "2. Create train-test splits: model selection\n",
    "3. Fit and predict: estimator basics\n",
    "4. Model evaluation: metrics\n",
    "5. Pipelines: chaining pre-processors and estimators Statistical significance & automatic parameter searches: model selection"
   ],
   "cell_type": "markdown",
   "metadata": {}
  },
  {
   "cell_type": "code",
   "execution_count": 12,
   "metadata": {},
   "outputs": [
    {
     "output_type": "execute_result",
     "data": {
      "text/plain": [
       "   NA_Sales  EU_Sales  Global_Sales\n",
       "0  1.000000  1.000000      1.000000\n",
       "1  0.700892  0.123363      0.486281\n",
       "2  0.382020  0.443832      0.432854\n",
       "3  0.379610  0.379394      0.398767\n",
       "4  0.271632  0.306340      0.379064"
      ],
      "text/html": "<div>\n<style scoped>\n    .dataframe tbody tr th:only-of-type {\n        vertical-align: middle;\n    }\n\n    .dataframe tbody tr th {\n        vertical-align: top;\n    }\n\n    .dataframe thead th {\n        text-align: right;\n    }\n</style>\n<table border=\"1\" class=\"dataframe\">\n  <thead>\n    <tr style=\"text-align: right;\">\n      <th></th>\n      <th>NA_Sales</th>\n      <th>EU_Sales</th>\n      <th>Global_Sales</th>\n    </tr>\n  </thead>\n  <tbody>\n    <tr>\n      <th>0</th>\n      <td>1.000000</td>\n      <td>1.000000</td>\n      <td>1.000000</td>\n    </tr>\n    <tr>\n      <th>1</th>\n      <td>0.700892</td>\n      <td>0.123363</td>\n      <td>0.486281</td>\n    </tr>\n    <tr>\n      <th>2</th>\n      <td>0.382020</td>\n      <td>0.443832</td>\n      <td>0.432854</td>\n    </tr>\n    <tr>\n      <th>3</th>\n      <td>0.379610</td>\n      <td>0.379394</td>\n      <td>0.398767</td>\n    </tr>\n    <tr>\n      <th>4</th>\n      <td>0.271632</td>\n      <td>0.306340</td>\n      <td>0.379064</td>\n    </tr>\n  </tbody>\n</table>\n</div>"
     },
     "metadata": {},
     "execution_count": 12
    }
   ],
   "source": [
    "import sklearn\n",
    "from sklearn import preprocessing\n",
    "import pandas as pd\n",
    "\n",
    "vg=pd.read_csv('../lesson11/vgsales.csv')\n",
    "vg2=vg[['NA_Sales','EU_Sales','Global_Sales']]\n",
    "scaler=preprocessing.MinMaxScaler(copy=False)\n",
    "scaler.fit_transform(vg2)\n",
    "vg2.head(5)"
   ]
  },
  {
   "cell_type": "code",
   "execution_count": 2,
   "metadata": {},
   "outputs": [
    {
     "output_type": "execute_result",
     "data": {
      "text/plain": [
       "array([1.        , 0.48628067, 0.43285386, ..., 0.        , 0.        ,\n",
       "       0.        ])"
      ]
     },
     "metadata": {},
     "execution_count": 2
    }
   ],
   "source": [
    "preprocessing.minmax_scale(vg.Global_Sales)"
   ]
  },
  {
   "cell_type": "code",
   "execution_count": 9,
   "metadata": {},
   "outputs": [
    {
     "output_type": "execute_result",
     "data": {
      "text/plain": [
       "        Rank                                            Name Platform    Year  \\\n",
       "1508    1510                        Pitfall II: Lost Caverns     2600  1983.0   \n",
       "3532    3534                  The Mysterious Murasame Castle      NES  1986.0   \n",
       "8180    8182                  Captain America: Super Soldier     X360  2011.0   \n",
       "8675    8677                        SpongeBob's Boating Bash       DS  2010.0   \n",
       "14645  14648                               Pacific Liberator      Wii  2009.0   \n",
       "8981    8983  Sonic Advance & Sonic Pinball Party Combo Pack      GBA  2005.0   \n",
       "3897    3899                  Jikkyou Powerful Pro Yakyuu 10      PS2  2003.0   \n",
       "14510  14513  Casino Chaos With Las Vegas Players Collection       PC  2011.0   \n",
       "10452  10454                       Family Feud: 2012 Edition     X360  2011.0   \n",
       "10839  10841                                        Dungeons       PC  2011.0   \n",
       "\n",
       "          Genre                     Publisher  \n",
       "1508   Platform                    Activision  \n",
       "3532     Action                      Nintendo  \n",
       "8180     Action                          Sega  \n",
       "8675       Misc                           THQ  \n",
       "14645    Action                     Zoo Games  \n",
       "8981       Misc                          Sega  \n",
       "3897     Sports  Konami Digital Entertainment  \n",
       "14510      Misc                           THQ  \n",
       "10452      Misc                       Ubisoft  \n",
       "10839  Strategy                 Kalypso Media  "
      ],
      "text/html": "<div>\n<style scoped>\n    .dataframe tbody tr th:only-of-type {\n        vertical-align: middle;\n    }\n\n    .dataframe tbody tr th {\n        vertical-align: top;\n    }\n\n    .dataframe thead th {\n        text-align: right;\n    }\n</style>\n<table border=\"1\" class=\"dataframe\">\n  <thead>\n    <tr style=\"text-align: right;\">\n      <th></th>\n      <th>Rank</th>\n      <th>Name</th>\n      <th>Platform</th>\n      <th>Year</th>\n      <th>Genre</th>\n      <th>Publisher</th>\n    </tr>\n  </thead>\n  <tbody>\n    <tr>\n      <th>1508</th>\n      <td>1510</td>\n      <td>Pitfall II: Lost Caverns</td>\n      <td>2600</td>\n      <td>1983.0</td>\n      <td>Platform</td>\n      <td>Activision</td>\n    </tr>\n    <tr>\n      <th>3532</th>\n      <td>3534</td>\n      <td>The Mysterious Murasame Castle</td>\n      <td>NES</td>\n      <td>1986.0</td>\n      <td>Action</td>\n      <td>Nintendo</td>\n    </tr>\n    <tr>\n      <th>8180</th>\n      <td>8182</td>\n      <td>Captain America: Super Soldier</td>\n      <td>X360</td>\n      <td>2011.0</td>\n      <td>Action</td>\n      <td>Sega</td>\n    </tr>\n    <tr>\n      <th>8675</th>\n      <td>8677</td>\n      <td>SpongeBob's Boating Bash</td>\n      <td>DS</td>\n      <td>2010.0</td>\n      <td>Misc</td>\n      <td>THQ</td>\n    </tr>\n    <tr>\n      <th>14645</th>\n      <td>14648</td>\n      <td>Pacific Liberator</td>\n      <td>Wii</td>\n      <td>2009.0</td>\n      <td>Action</td>\n      <td>Zoo Games</td>\n    </tr>\n    <tr>\n      <th>8981</th>\n      <td>8983</td>\n      <td>Sonic Advance &amp; Sonic Pinball Party Combo Pack</td>\n      <td>GBA</td>\n      <td>2005.0</td>\n      <td>Misc</td>\n      <td>Sega</td>\n    </tr>\n    <tr>\n      <th>3897</th>\n      <td>3899</td>\n      <td>Jikkyou Powerful Pro Yakyuu 10</td>\n      <td>PS2</td>\n      <td>2003.0</td>\n      <td>Sports</td>\n      <td>Konami Digital Entertainment</td>\n    </tr>\n    <tr>\n      <th>14510</th>\n      <td>14513</td>\n      <td>Casino Chaos With Las Vegas Players Collection</td>\n      <td>PC</td>\n      <td>2011.0</td>\n      <td>Misc</td>\n      <td>THQ</td>\n    </tr>\n    <tr>\n      <th>10452</th>\n      <td>10454</td>\n      <td>Family Feud: 2012 Edition</td>\n      <td>X360</td>\n      <td>2011.0</td>\n      <td>Misc</td>\n      <td>Ubisoft</td>\n    </tr>\n    <tr>\n      <th>10839</th>\n      <td>10841</td>\n      <td>Dungeons</td>\n      <td>PC</td>\n      <td>2011.0</td>\n      <td>Strategy</td>\n      <td>Kalypso Media</td>\n    </tr>\n  </tbody>\n</table>\n</div>"
     },
     "metadata": {},
     "execution_count": 9
    }
   ],
   "source": [
    "from sklearn.model_selection import train_test_split\n",
    "x_train,x_test,y_train,y_test=train_test_split(vg[['Rank','Name','Platform','Year','Genre','Publisher']],vg.Global_Sales,test_size=0.3)\n",
    "x_train[:10]"
   ]
  },
  {
   "cell_type": "code",
   "execution_count": 29,
   "metadata": {},
   "outputs": [
    {
     "output_type": "stream",
     "name": "stdout",
     "text": [
      "StratifiedKFold(n_splits=10, random_state=0, shuffle=True)\nTRAIN: 14938 TEST: 1660\nTRAIN: 14938 TEST: 1660\nTRAIN: 14938 TEST: 1660\nTRAIN: 14938 TEST: 1660\nTRAIN: 14938 TEST: 1660\nTRAIN: 14938 TEST: 1660\nTRAIN: 14938 TEST: 1660\nTRAIN: 14938 TEST: 1660\nTRAIN: 14939 TEST: 1659\nTRAIN: 14939 TEST: 1659\n"
     ]
    }
   ],
   "source": [
    "from sklearn.model_selection import StratifiedKFold\n",
    "\n",
    "X,y=vg.drop('Genre',axis=1),vg.Genre\n",
    "skf = StratifiedKFold(n_splits=10,shuffle=True,random_state=0)\n",
    "skf.get_n_splits(X,y)\n",
    "print(skf)\n",
    "for train_index, test_index in skf.split(X,y):\n",
    "    print(\"TRAIN:\", len(train_index), \"TEST:\", len(test_index))\n",
    "    X_train, X_test = X.iloc[train_index], X.iloc[test_index]\n",
    "    y_train, y_test = y.iloc[train_index], y.iloc[test_index]\n"
   ]
  }
 ]
}