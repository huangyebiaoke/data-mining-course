{
 "metadata": {
  "language_info": {
   "codemirror_mode": {
    "name": "ipython",
    "version": 3
   },
   "file_extension": ".py",
   "mimetype": "text/x-python",
   "name": "python",
   "nbconvert_exporter": "python",
   "pygments_lexer": "ipython3",
   "version": "3.7.9"
  },
  "orig_nbformat": 2,
  "kernelspec": {
   "name": "python379jvsc74a57bd03610ba5b39883f2c9136a6c60e2f9393bc8913e6ca44a84d2b07fc3630c06738",
   "display_name": "Python 3.7.9 64-bit ('tensorflow2': conda)"
  }
 },
 "nbformat": 4,
 "nbformat_minor": 2,
 "cells": [
  {
   "cell_type": "code",
   "execution_count": 2,
   "metadata": {},
   "outputs": [
    {
     "output_type": "execute_result",
     "data": {
      "text/plain": [
       "   Rank               Name Platform    Year     Genre Publisher  NA_Sales  \\\n",
       "0     1         Wii Sports      Wii  2006.0    Sports  Nintendo     41.49   \n",
       "1     2  Super Mario Bros.      NES  1985.0  Platform  Nintendo     29.08   \n",
       "2     3     Mario Kart Wii      Wii  2008.0    Racing  Nintendo     15.85   \n",
       "\n",
       "   EU_Sales  JP_Sales  Other_Sales  Global_Sales  \n",
       "0     29.02      3.77         8.46         82.74  \n",
       "1      3.58      6.81         0.77         40.24  \n",
       "2     12.88      3.79         3.31         35.82  "
      ],
      "text/html": "<div>\n<style scoped>\n    .dataframe tbody tr th:only-of-type {\n        vertical-align: middle;\n    }\n\n    .dataframe tbody tr th {\n        vertical-align: top;\n    }\n\n    .dataframe thead th {\n        text-align: right;\n    }\n</style>\n<table border=\"1\" class=\"dataframe\">\n  <thead>\n    <tr style=\"text-align: right;\">\n      <th></th>\n      <th>Rank</th>\n      <th>Name</th>\n      <th>Platform</th>\n      <th>Year</th>\n      <th>Genre</th>\n      <th>Publisher</th>\n      <th>NA_Sales</th>\n      <th>EU_Sales</th>\n      <th>JP_Sales</th>\n      <th>Other_Sales</th>\n      <th>Global_Sales</th>\n    </tr>\n  </thead>\n  <tbody>\n    <tr>\n      <th>0</th>\n      <td>1</td>\n      <td>Wii Sports</td>\n      <td>Wii</td>\n      <td>2006.0</td>\n      <td>Sports</td>\n      <td>Nintendo</td>\n      <td>41.49</td>\n      <td>29.02</td>\n      <td>3.77</td>\n      <td>8.46</td>\n      <td>82.74</td>\n    </tr>\n    <tr>\n      <th>1</th>\n      <td>2</td>\n      <td>Super Mario Bros.</td>\n      <td>NES</td>\n      <td>1985.0</td>\n      <td>Platform</td>\n      <td>Nintendo</td>\n      <td>29.08</td>\n      <td>3.58</td>\n      <td>6.81</td>\n      <td>0.77</td>\n      <td>40.24</td>\n    </tr>\n    <tr>\n      <th>2</th>\n      <td>3</td>\n      <td>Mario Kart Wii</td>\n      <td>Wii</td>\n      <td>2008.0</td>\n      <td>Racing</td>\n      <td>Nintendo</td>\n      <td>15.85</td>\n      <td>12.88</td>\n      <td>3.79</td>\n      <td>3.31</td>\n      <td>35.82</td>\n    </tr>\n  </tbody>\n</table>\n</div>"
     },
     "metadata": {},
     "execution_count": 2
    }
   ],
   "source": [
    "import pandas as pd\n",
    "import numpy as np\n",
    "\n",
    "vg=pd.read_csv('../lesson4/vgsales.csv')\n",
    "vg.head(3)"
   ]
  },
  {
   "cell_type": "code",
   "execution_count": 5,
   "metadata": {},
   "outputs": [
    {
     "output_type": "execute_result",
     "data": {
      "text/plain": [
       "   Rank               Name Platform    Year     Genre Publisher  NA_Sales  \\\n",
       "0     1         Wii Sports      Wii  2006.0    Sports  Nintendo     41.49   \n",
       "1     2  Super Mario Bros.      NES  1985.0  Platform  Nintendo     29.08   \n",
       "2     3     Mario Kart Wii      Wii  2008.0    Racing  Nintendo     15.85   \n",
       "\n",
       "   EU_Sales  JP_Sales  Other_Sales  Global_Sales  new_col  \n",
       "0     29.02      3.77         8.46         82.74      0.0  \n",
       "1      3.58      6.81         0.77         40.24      0.0  \n",
       "2     12.88      3.79         3.31         35.82      0.0  "
      ],
      "text/html": "<div>\n<style scoped>\n    .dataframe tbody tr th:only-of-type {\n        vertical-align: middle;\n    }\n\n    .dataframe tbody tr th {\n        vertical-align: top;\n    }\n\n    .dataframe thead th {\n        text-align: right;\n    }\n</style>\n<table border=\"1\" class=\"dataframe\">\n  <thead>\n    <tr style=\"text-align: right;\">\n      <th></th>\n      <th>Rank</th>\n      <th>Name</th>\n      <th>Platform</th>\n      <th>Year</th>\n      <th>Genre</th>\n      <th>Publisher</th>\n      <th>NA_Sales</th>\n      <th>EU_Sales</th>\n      <th>JP_Sales</th>\n      <th>Other_Sales</th>\n      <th>Global_Sales</th>\n      <th>new_col</th>\n    </tr>\n  </thead>\n  <tbody>\n    <tr>\n      <th>0</th>\n      <td>1</td>\n      <td>Wii Sports</td>\n      <td>Wii</td>\n      <td>2006.0</td>\n      <td>Sports</td>\n      <td>Nintendo</td>\n      <td>41.49</td>\n      <td>29.02</td>\n      <td>3.77</td>\n      <td>8.46</td>\n      <td>82.74</td>\n      <td>0.0</td>\n    </tr>\n    <tr>\n      <th>1</th>\n      <td>2</td>\n      <td>Super Mario Bros.</td>\n      <td>NES</td>\n      <td>1985.0</td>\n      <td>Platform</td>\n      <td>Nintendo</td>\n      <td>29.08</td>\n      <td>3.58</td>\n      <td>6.81</td>\n      <td>0.77</td>\n      <td>40.24</td>\n      <td>0.0</td>\n    </tr>\n    <tr>\n      <th>2</th>\n      <td>3</td>\n      <td>Mario Kart Wii</td>\n      <td>Wii</td>\n      <td>2008.0</td>\n      <td>Racing</td>\n      <td>Nintendo</td>\n      <td>15.85</td>\n      <td>12.88</td>\n      <td>3.79</td>\n      <td>3.31</td>\n      <td>35.82</td>\n      <td>0.0</td>\n    </tr>\n  </tbody>\n</table>\n</div>"
     },
     "metadata": {},
     "execution_count": 5
    }
   ],
   "source": [
    "vg['new_col']=np.zeros(vg.shape[0])\n",
    "vg.head(3)"
   ]
  },
  {
   "cell_type": "code",
   "execution_count": 9,
   "metadata": {},
   "outputs": [
    {
     "output_type": "execute_result",
     "data": {
      "text/plain": [
       "        Rank                                              Name    Year  \\\n",
       "0          1                                        Wii Sports  2006.0   \n",
       "1          2                                 Super Mario Bros.  1985.0   \n",
       "2          3                                    Mario Kart Wii  2008.0   \n",
       "3          4                                 Wii Sports Resort  2009.0   \n",
       "4          5                          Pokemon Red/Pokemon Blue  1996.0   \n",
       "...      ...                                               ...     ...   \n",
       "16593  16596                Woody Woodpecker in Crazy Castle 5  2002.0   \n",
       "16594  16597                     Men in Black II: Alien Escape  2003.0   \n",
       "16595  16598  SCORE International Baja 1000: The Official Game  2008.0   \n",
       "16596  16599                                        Know How 2  2010.0   \n",
       "16597  16600                                  Spirits & Spells  2003.0   \n",
       "\n",
       "              Genre   Publisher  NA_Sales  EU_Sales  JP_Sales  Other_Sales  \\\n",
       "0            Sports    Nintendo     41.49     29.02      3.77         8.46   \n",
       "1          Platform    Nintendo     29.08      3.58      6.81         0.77   \n",
       "2            Racing    Nintendo     15.85     12.88      3.79         3.31   \n",
       "3            Sports    Nintendo     15.75     11.01      3.28         2.96   \n",
       "4      Role-Playing    Nintendo     11.27      8.89     10.22         1.00   \n",
       "...             ...         ...       ...       ...       ...          ...   \n",
       "16593      Platform       Kemco      0.01      0.00      0.00         0.00   \n",
       "16594       Shooter  Infogrames      0.01      0.00      0.00         0.00   \n",
       "16595        Racing  Activision      0.00      0.00      0.00         0.00   \n",
       "16596        Puzzle    7G//AMES      0.00      0.01      0.00         0.00   \n",
       "16597      Platform     Wanadoo      0.01      0.00      0.00         0.00   \n",
       "\n",
       "       Global_Sales  new_col  \n",
       "0             82.74      0.0  \n",
       "1             40.24      0.0  \n",
       "2             35.82      0.0  \n",
       "3             33.00      0.0  \n",
       "4             31.37      0.0  \n",
       "...             ...      ...  \n",
       "16593          0.01      0.0  \n",
       "16594          0.01      0.0  \n",
       "16595          0.01      0.0  \n",
       "16596          0.01      0.0  \n",
       "16597          0.01      0.0  \n",
       "\n",
       "[16598 rows x 11 columns]"
      ],
      "text/html": "<div>\n<style scoped>\n    .dataframe tbody tr th:only-of-type {\n        vertical-align: middle;\n    }\n\n    .dataframe tbody tr th {\n        vertical-align: top;\n    }\n\n    .dataframe thead th {\n        text-align: right;\n    }\n</style>\n<table border=\"1\" class=\"dataframe\">\n  <thead>\n    <tr style=\"text-align: right;\">\n      <th></th>\n      <th>Rank</th>\n      <th>Name</th>\n      <th>Year</th>\n      <th>Genre</th>\n      <th>Publisher</th>\n      <th>NA_Sales</th>\n      <th>EU_Sales</th>\n      <th>JP_Sales</th>\n      <th>Other_Sales</th>\n      <th>Global_Sales</th>\n      <th>new_col</th>\n    </tr>\n  </thead>\n  <tbody>\n    <tr>\n      <th>0</th>\n      <td>1</td>\n      <td>Wii Sports</td>\n      <td>2006.0</td>\n      <td>Sports</td>\n      <td>Nintendo</td>\n      <td>41.49</td>\n      <td>29.02</td>\n      <td>3.77</td>\n      <td>8.46</td>\n      <td>82.74</td>\n      <td>0.0</td>\n    </tr>\n    <tr>\n      <th>1</th>\n      <td>2</td>\n      <td>Super Mario Bros.</td>\n      <td>1985.0</td>\n      <td>Platform</td>\n      <td>Nintendo</td>\n      <td>29.08</td>\n      <td>3.58</td>\n      <td>6.81</td>\n      <td>0.77</td>\n      <td>40.24</td>\n      <td>0.0</td>\n    </tr>\n    <tr>\n      <th>2</th>\n      <td>3</td>\n      <td>Mario Kart Wii</td>\n      <td>2008.0</td>\n      <td>Racing</td>\n      <td>Nintendo</td>\n      <td>15.85</td>\n      <td>12.88</td>\n      <td>3.79</td>\n      <td>3.31</td>\n      <td>35.82</td>\n      <td>0.0</td>\n    </tr>\n    <tr>\n      <th>3</th>\n      <td>4</td>\n      <td>Wii Sports Resort</td>\n      <td>2009.0</td>\n      <td>Sports</td>\n      <td>Nintendo</td>\n      <td>15.75</td>\n      <td>11.01</td>\n      <td>3.28</td>\n      <td>2.96</td>\n      <td>33.00</td>\n      <td>0.0</td>\n    </tr>\n    <tr>\n      <th>4</th>\n      <td>5</td>\n      <td>Pokemon Red/Pokemon Blue</td>\n      <td>1996.0</td>\n      <td>Role-Playing</td>\n      <td>Nintendo</td>\n      <td>11.27</td>\n      <td>8.89</td>\n      <td>10.22</td>\n      <td>1.00</td>\n      <td>31.37</td>\n      <td>0.0</td>\n    </tr>\n    <tr>\n      <th>...</th>\n      <td>...</td>\n      <td>...</td>\n      <td>...</td>\n      <td>...</td>\n      <td>...</td>\n      <td>...</td>\n      <td>...</td>\n      <td>...</td>\n      <td>...</td>\n      <td>...</td>\n      <td>...</td>\n    </tr>\n    <tr>\n      <th>16593</th>\n      <td>16596</td>\n      <td>Woody Woodpecker in Crazy Castle 5</td>\n      <td>2002.0</td>\n      <td>Platform</td>\n      <td>Kemco</td>\n      <td>0.01</td>\n      <td>0.00</td>\n      <td>0.00</td>\n      <td>0.00</td>\n      <td>0.01</td>\n      <td>0.0</td>\n    </tr>\n    <tr>\n      <th>16594</th>\n      <td>16597</td>\n      <td>Men in Black II: Alien Escape</td>\n      <td>2003.0</td>\n      <td>Shooter</td>\n      <td>Infogrames</td>\n      <td>0.01</td>\n      <td>0.00</td>\n      <td>0.00</td>\n      <td>0.00</td>\n      <td>0.01</td>\n      <td>0.0</td>\n    </tr>\n    <tr>\n      <th>16595</th>\n      <td>16598</td>\n      <td>SCORE International Baja 1000: The Official Game</td>\n      <td>2008.0</td>\n      <td>Racing</td>\n      <td>Activision</td>\n      <td>0.00</td>\n      <td>0.00</td>\n      <td>0.00</td>\n      <td>0.00</td>\n      <td>0.01</td>\n      <td>0.0</td>\n    </tr>\n    <tr>\n      <th>16596</th>\n      <td>16599</td>\n      <td>Know How 2</td>\n      <td>2010.0</td>\n      <td>Puzzle</td>\n      <td>7G//AMES</td>\n      <td>0.00</td>\n      <td>0.01</td>\n      <td>0.00</td>\n      <td>0.00</td>\n      <td>0.01</td>\n      <td>0.0</td>\n    </tr>\n    <tr>\n      <th>16597</th>\n      <td>16600</td>\n      <td>Spirits &amp; Spells</td>\n      <td>2003.0</td>\n      <td>Platform</td>\n      <td>Wanadoo</td>\n      <td>0.01</td>\n      <td>0.00</td>\n      <td>0.00</td>\n      <td>0.00</td>\n      <td>0.01</td>\n      <td>0.0</td>\n    </tr>\n  </tbody>\n</table>\n<p>16598 rows × 11 columns</p>\n</div>"
     },
     "metadata": {},
     "execution_count": 9
    }
   ],
   "source": [
    "vg.drop('Platform',axis=1)"
   ]
  },
  {
   "cell_type": "code",
   "execution_count": 11,
   "metadata": {},
   "outputs": [
    {
     "output_type": "execute_result",
     "data": {
      "text/plain": [
       "        Rank                                              Name Platform  \\\n",
       "0          1                                        Wii Sports      Wii   \n",
       "1          2                                 Super Mario Bros.      NES   \n",
       "2          3                                    Mario Kart Wii      Wii   \n",
       "3          4                                 Wii Sports Resort      Wii   \n",
       "4          5                          Pokemon Red/Pokemon Blue       GB   \n",
       "...      ...                                               ...      ...   \n",
       "16593  16596                Woody Woodpecker in Crazy Castle 5      GBA   \n",
       "16594  16597                     Men in Black II: Alien Escape       GC   \n",
       "16595  16598  SCORE International Baja 1000: The Official Game      PS2   \n",
       "16596  16599                                        Know How 2       DS   \n",
       "16597  16600                                  Spirits & Spells      GBA   \n",
       "\n",
       "         Year         Genre   Publisher  NA_Sales  EU_Sales  JP_Sales  \\\n",
       "0      2006.0        Sports    Nintendo     41.49     29.02      3.77   \n",
       "1      1985.0      Platform    Nintendo     29.08      3.58      6.81   \n",
       "2      2008.0        Racing    Nintendo     15.85     12.88      3.79   \n",
       "3      2009.0        Sports    Nintendo     15.75     11.01      3.28   \n",
       "4      1996.0  Role-Playing    Nintendo     11.27      8.89     10.22   \n",
       "...       ...           ...         ...       ...       ...       ...   \n",
       "16593  2002.0      Platform       Kemco      0.01      0.00      0.00   \n",
       "16594  2003.0       Shooter  Infogrames      0.01      0.00      0.00   \n",
       "16595  2008.0        Racing  Activision      0.00      0.00      0.00   \n",
       "16596  2010.0        Puzzle    7G//AMES      0.00      0.01      0.00   \n",
       "16597  2003.0      Platform     Wanadoo      0.01      0.00      0.00   \n",
       "\n",
       "       Other_Sales  Global_Sales  \n",
       "0             8.46         82.74  \n",
       "1             0.77         40.24  \n",
       "2             3.31         35.82  \n",
       "3             2.96         33.00  \n",
       "4             1.00         31.37  \n",
       "...            ...           ...  \n",
       "16593         0.00          0.01  \n",
       "16594         0.00          0.01  \n",
       "16595         0.00          0.01  \n",
       "16596         0.00          0.01  \n",
       "16597         0.00          0.01  \n",
       "\n",
       "[16598 rows x 11 columns]"
      ],
      "text/html": "<div>\n<style scoped>\n    .dataframe tbody tr th:only-of-type {\n        vertical-align: middle;\n    }\n\n    .dataframe tbody tr th {\n        vertical-align: top;\n    }\n\n    .dataframe thead th {\n        text-align: right;\n    }\n</style>\n<table border=\"1\" class=\"dataframe\">\n  <thead>\n    <tr style=\"text-align: right;\">\n      <th></th>\n      <th>Rank</th>\n      <th>Name</th>\n      <th>Platform</th>\n      <th>Year</th>\n      <th>Genre</th>\n      <th>Publisher</th>\n      <th>NA_Sales</th>\n      <th>EU_Sales</th>\n      <th>JP_Sales</th>\n      <th>Other_Sales</th>\n      <th>Global_Sales</th>\n    </tr>\n  </thead>\n  <tbody>\n    <tr>\n      <th>0</th>\n      <td>1</td>\n      <td>Wii Sports</td>\n      <td>Wii</td>\n      <td>2006.0</td>\n      <td>Sports</td>\n      <td>Nintendo</td>\n      <td>41.49</td>\n      <td>29.02</td>\n      <td>3.77</td>\n      <td>8.46</td>\n      <td>82.74</td>\n    </tr>\n    <tr>\n      <th>1</th>\n      <td>2</td>\n      <td>Super Mario Bros.</td>\n      <td>NES</td>\n      <td>1985.0</td>\n      <td>Platform</td>\n      <td>Nintendo</td>\n      <td>29.08</td>\n      <td>3.58</td>\n      <td>6.81</td>\n      <td>0.77</td>\n      <td>40.24</td>\n    </tr>\n    <tr>\n      <th>2</th>\n      <td>3</td>\n      <td>Mario Kart Wii</td>\n      <td>Wii</td>\n      <td>2008.0</td>\n      <td>Racing</td>\n      <td>Nintendo</td>\n      <td>15.85</td>\n      <td>12.88</td>\n      <td>3.79</td>\n      <td>3.31</td>\n      <td>35.82</td>\n    </tr>\n    <tr>\n      <th>3</th>\n      <td>4</td>\n      <td>Wii Sports Resort</td>\n      <td>Wii</td>\n      <td>2009.0</td>\n      <td>Sports</td>\n      <td>Nintendo</td>\n      <td>15.75</td>\n      <td>11.01</td>\n      <td>3.28</td>\n      <td>2.96</td>\n      <td>33.00</td>\n    </tr>\n    <tr>\n      <th>4</th>\n      <td>5</td>\n      <td>Pokemon Red/Pokemon Blue</td>\n      <td>GB</td>\n      <td>1996.0</td>\n      <td>Role-Playing</td>\n      <td>Nintendo</td>\n      <td>11.27</td>\n      <td>8.89</td>\n      <td>10.22</td>\n      <td>1.00</td>\n      <td>31.37</td>\n    </tr>\n    <tr>\n      <th>...</th>\n      <td>...</td>\n      <td>...</td>\n      <td>...</td>\n      <td>...</td>\n      <td>...</td>\n      <td>...</td>\n      <td>...</td>\n      <td>...</td>\n      <td>...</td>\n      <td>...</td>\n      <td>...</td>\n    </tr>\n    <tr>\n      <th>16593</th>\n      <td>16596</td>\n      <td>Woody Woodpecker in Crazy Castle 5</td>\n      <td>GBA</td>\n      <td>2002.0</td>\n      <td>Platform</td>\n      <td>Kemco</td>\n      <td>0.01</td>\n      <td>0.00</td>\n      <td>0.00</td>\n      <td>0.00</td>\n      <td>0.01</td>\n    </tr>\n    <tr>\n      <th>16594</th>\n      <td>16597</td>\n      <td>Men in Black II: Alien Escape</td>\n      <td>GC</td>\n      <td>2003.0</td>\n      <td>Shooter</td>\n      <td>Infogrames</td>\n      <td>0.01</td>\n      <td>0.00</td>\n      <td>0.00</td>\n      <td>0.00</td>\n      <td>0.01</td>\n    </tr>\n    <tr>\n      <th>16595</th>\n      <td>16598</td>\n      <td>SCORE International Baja 1000: The Official Game</td>\n      <td>PS2</td>\n      <td>2008.0</td>\n      <td>Racing</td>\n      <td>Activision</td>\n      <td>0.00</td>\n      <td>0.00</td>\n      <td>0.00</td>\n      <td>0.00</td>\n      <td>0.01</td>\n    </tr>\n    <tr>\n      <th>16596</th>\n      <td>16599</td>\n      <td>Know How 2</td>\n      <td>DS</td>\n      <td>2010.0</td>\n      <td>Puzzle</td>\n      <td>7G//AMES</td>\n      <td>0.00</td>\n      <td>0.01</td>\n      <td>0.00</td>\n      <td>0.00</td>\n      <td>0.01</td>\n    </tr>\n    <tr>\n      <th>16597</th>\n      <td>16600</td>\n      <td>Spirits &amp; Spells</td>\n      <td>GBA</td>\n      <td>2003.0</td>\n      <td>Platform</td>\n      <td>Wanadoo</td>\n      <td>0.01</td>\n      <td>0.00</td>\n      <td>0.00</td>\n      <td>0.00</td>\n      <td>0.01</td>\n    </tr>\n  </tbody>\n</table>\n<p>16598 rows × 11 columns</p>\n</div>"
     },
     "metadata": {},
     "execution_count": 11
    }
   ],
   "source": [
    "vg.drop(vg.columns[vg.shape[1]-1],axis=1)"
   ]
  },
  {
   "cell_type": "code",
   "execution_count": 73,
   "metadata": {},
   "outputs": [
    {
     "output_type": "error",
     "ename": "KeyError",
     "evalue": "\"None of ['Name'] are in the columns\"",
     "traceback": [
      "\u001b[1;31m---------------------------------------------------------------------------\u001b[0m",
      "\u001b[1;31mKeyError\u001b[0m                                  Traceback (most recent call last)",
      "\u001b[1;32m<ipython-input-73-ae0bd1de1d64>\u001b[0m in \u001b[0;36m<module>\u001b[1;34m\u001b[0m\n\u001b[0;32m      1\u001b[0m \u001b[1;31m# vg.columns\u001b[0m\u001b[1;33m\u001b[0m\u001b[1;33m\u001b[0m\u001b[1;33m\u001b[0m\u001b[0m\n\u001b[1;32m----> 2\u001b[1;33m \u001b[0mvg\u001b[0m\u001b[1;33m=\u001b[0m\u001b[0mvg\u001b[0m\u001b[1;33m.\u001b[0m\u001b[0mset_index\u001b[0m\u001b[1;33m(\u001b[0m\u001b[1;33m[\u001b[0m\u001b[1;34m'Name'\u001b[0m\u001b[1;33m]\u001b[0m\u001b[1;33m,\u001b[0m\u001b[0minplace\u001b[0m\u001b[1;33m=\u001b[0m\u001b[1;32mFalse\u001b[0m\u001b[1;33m)\u001b[0m\u001b[1;33m\u001b[0m\u001b[1;33m\u001b[0m\u001b[0m\n\u001b[0m\u001b[0;32m      3\u001b[0m \u001b[1;31m# vg.drop([1985.0,2008.0],inplace=False,axis=0).head(5)\u001b[0m\u001b[1;33m\u001b[0m\u001b[1;33m\u001b[0m\u001b[1;33m\u001b[0m\u001b[0m\n",
      "\u001b[1;32mD:\\anaconda3\\envs\\tensorflow2\\lib\\site-packages\\pandas\\core\\frame.py\u001b[0m in \u001b[0;36mset_index\u001b[1;34m(self, keys, drop, append, inplace, verify_integrity)\u001b[0m\n\u001b[0;32m   4725\u001b[0m \u001b[1;33m\u001b[0m\u001b[0m\n\u001b[0;32m   4726\u001b[0m         \u001b[1;32mif\u001b[0m \u001b[0mmissing\u001b[0m\u001b[1;33m:\u001b[0m\u001b[1;33m\u001b[0m\u001b[1;33m\u001b[0m\u001b[0m\n\u001b[1;32m-> 4727\u001b[1;33m             \u001b[1;32mraise\u001b[0m \u001b[0mKeyError\u001b[0m\u001b[1;33m(\u001b[0m\u001b[1;34mf\"None of {missing} are in the columns\"\u001b[0m\u001b[1;33m)\u001b[0m\u001b[1;33m\u001b[0m\u001b[1;33m\u001b[0m\u001b[0m\n\u001b[0m\u001b[0;32m   4728\u001b[0m \u001b[1;33m\u001b[0m\u001b[0m\n\u001b[0;32m   4729\u001b[0m         \u001b[1;32mif\u001b[0m \u001b[0minplace\u001b[0m\u001b[1;33m:\u001b[0m\u001b[1;33m\u001b[0m\u001b[1;33m\u001b[0m\u001b[0m\n",
      "\u001b[1;31mKeyError\u001b[0m: \"None of ['Name'] are in the columns\""
     ]
    }
   ],
   "source": [
    "\n",
    "v# vg.columns\n",
    "g# =vg.set_index(['NaName,inplace=False)\n",
    "vg.# drop([0,31985.0,2008.0h,inplace=False,axis=0ead(5)"
   ]
  },
  {
   "source": [
    "### map, apply, transform"
   ],
   "cell_type": "markdown",
   "metadata": {}
  },
  {
   "cell_type": "code",
   "execution_count": 70,
   "metadata": {},
   "outputs": [
    {
     "output_type": "execute_result",
     "data": {
      "text/plain": [
       "Year\n",
       "1985.0    402400000.0\n",
       "2008.0    358200000.0\n",
       "2009.0    330000000.0\n",
       "1996.0    313700000.0\n",
       "1989.0    302600000.0\n",
       "2009.0    286200000.0\n",
       "1984.0    283100000.0\n",
       "2005.0    247600000.0\n",
       "2005.0    234200000.0\n",
       "1999.0    231000000.0\n",
       "Name: Global_Sales, dtype: float64"
      ]
     },
     "metadata": {},
     "execution_count": 70
    }
   ],
   "source": [
    "def fun(ele):\n",
    "    return ele*10000000.\n",
    "vg['Global_Sales'].map(fun).head(5)"
   ]
  },
  {
   "cell_type": "code",
   "execution_count": 80,
   "metadata": {},
   "outputs": [
    {
     "output_type": "execute_result",
     "data": {
      "text/plain": [
       "     Rank                         Name Platform    Year         Genre  \\\n",
       "15     16           Kinect Adventures!     X360  2010.0          Misc   \n",
       "54     55               Gran Turismo 5      PS3  2010.0        Racing   \n",
       "40     41      Call of Duty: Black Ops      PS3  2010.0       Shooter   \n",
       "31     32      Call of Duty: Black Ops     X360  2010.0       Shooter   \n",
       "78     79                    Wii Party      Wii  2010.0          Misc   \n",
       "199   200               FIFA Soccer 11      PS3  2010.0        Sports   \n",
       "26     27  Pokemon Black/Pokemon White       DS  2010.0  Role-Playing   \n",
       "68     69                 Just Dance 2      Wii  2010.0          Misc   \n",
       "117   118                Zumba Fitness      Wii  2010.0        Sports   \n",
       "123   124          Red Dead Redemption      PS3  2010.0        Action   \n",
       "\n",
       "                       Publisher  NA_Sales  EU_Sales  JP_Sales  Other_Sales  \\\n",
       "15        Microsoft Game Studios     14.97      4.94      0.24         1.67   \n",
       "54   Sony Computer Entertainment      2.96      4.88      0.81         2.12   \n",
       "40                    Activision      5.98      4.44      0.48         1.83   \n",
       "31                    Activision      9.67      3.73      0.11         1.13   \n",
       "78                      Nintendo      1.79      3.53      2.49         0.68   \n",
       "199              Electronic Arts      0.60      3.29      0.06         1.13   \n",
       "26                      Nintendo      5.57      3.28      5.65         0.82   \n",
       "68                       Ubisoft      5.84      2.89      0.01         0.78   \n",
       "117                    505 Games      3.50      2.64      0.00         0.67   \n",
       "123         Take-Two Interactive      2.79      2.61      0.17         1.03   \n",
       "\n",
       "     Global_Sales  \n",
       "15          21.82  \n",
       "54          10.77  \n",
       "40          12.73  \n",
       "31          14.64  \n",
       "78           8.49  \n",
       "199          5.08  \n",
       "26          15.32  \n",
       "68           9.52  \n",
       "117          6.81  \n",
       "123          6.60  "
      ],
      "text/html": "<div>\n<style scoped>\n    .dataframe tbody tr th:only-of-type {\n        vertical-align: middle;\n    }\n\n    .dataframe tbody tr th {\n        vertical-align: top;\n    }\n\n    .dataframe thead th {\n        text-align: right;\n    }\n</style>\n<table border=\"1\" class=\"dataframe\">\n  <thead>\n    <tr style=\"text-align: right;\">\n      <th></th>\n      <th>Rank</th>\n      <th>Name</th>\n      <th>Platform</th>\n      <th>Year</th>\n      <th>Genre</th>\n      <th>Publisher</th>\n      <th>NA_Sales</th>\n      <th>EU_Sales</th>\n      <th>JP_Sales</th>\n      <th>Other_Sales</th>\n      <th>Global_Sales</th>\n    </tr>\n  </thead>\n  <tbody>\n    <tr>\n      <th>15</th>\n      <td>16</td>\n      <td>Kinect Adventures!</td>\n      <td>X360</td>\n      <td>2010.0</td>\n      <td>Misc</td>\n      <td>Microsoft Game Studios</td>\n      <td>14.97</td>\n      <td>4.94</td>\n      <td>0.24</td>\n      <td>1.67</td>\n      <td>21.82</td>\n    </tr>\n    <tr>\n      <th>54</th>\n      <td>55</td>\n      <td>Gran Turismo 5</td>\n      <td>PS3</td>\n      <td>2010.0</td>\n      <td>Racing</td>\n      <td>Sony Computer Entertainment</td>\n      <td>2.96</td>\n      <td>4.88</td>\n      <td>0.81</td>\n      <td>2.12</td>\n      <td>10.77</td>\n    </tr>\n    <tr>\n      <th>40</th>\n      <td>41</td>\n      <td>Call of Duty: Black Ops</td>\n      <td>PS3</td>\n      <td>2010.0</td>\n      <td>Shooter</td>\n      <td>Activision</td>\n      <td>5.98</td>\n      <td>4.44</td>\n      <td>0.48</td>\n      <td>1.83</td>\n      <td>12.73</td>\n    </tr>\n    <tr>\n      <th>31</th>\n      <td>32</td>\n      <td>Call of Duty: Black Ops</td>\n      <td>X360</td>\n      <td>2010.0</td>\n      <td>Shooter</td>\n      <td>Activision</td>\n      <td>9.67</td>\n      <td>3.73</td>\n      <td>0.11</td>\n      <td>1.13</td>\n      <td>14.64</td>\n    </tr>\n    <tr>\n      <th>78</th>\n      <td>79</td>\n      <td>Wii Party</td>\n      <td>Wii</td>\n      <td>2010.0</td>\n      <td>Misc</td>\n      <td>Nintendo</td>\n      <td>1.79</td>\n      <td>3.53</td>\n      <td>2.49</td>\n      <td>0.68</td>\n      <td>8.49</td>\n    </tr>\n    <tr>\n      <th>199</th>\n      <td>200</td>\n      <td>FIFA Soccer 11</td>\n      <td>PS3</td>\n      <td>2010.0</td>\n      <td>Sports</td>\n      <td>Electronic Arts</td>\n      <td>0.60</td>\n      <td>3.29</td>\n      <td>0.06</td>\n      <td>1.13</td>\n      <td>5.08</td>\n    </tr>\n    <tr>\n      <th>26</th>\n      <td>27</td>\n      <td>Pokemon Black/Pokemon White</td>\n      <td>DS</td>\n      <td>2010.0</td>\n      <td>Role-Playing</td>\n      <td>Nintendo</td>\n      <td>5.57</td>\n      <td>3.28</td>\n      <td>5.65</td>\n      <td>0.82</td>\n      <td>15.32</td>\n    </tr>\n    <tr>\n      <th>68</th>\n      <td>69</td>\n      <td>Just Dance 2</td>\n      <td>Wii</td>\n      <td>2010.0</td>\n      <td>Misc</td>\n      <td>Ubisoft</td>\n      <td>5.84</td>\n      <td>2.89</td>\n      <td>0.01</td>\n      <td>0.78</td>\n      <td>9.52</td>\n    </tr>\n    <tr>\n      <th>117</th>\n      <td>118</td>\n      <td>Zumba Fitness</td>\n      <td>Wii</td>\n      <td>2010.0</td>\n      <td>Sports</td>\n      <td>505 Games</td>\n      <td>3.50</td>\n      <td>2.64</td>\n      <td>0.00</td>\n      <td>0.67</td>\n      <td>6.81</td>\n    </tr>\n    <tr>\n      <th>123</th>\n      <td>124</td>\n      <td>Red Dead Redemption</td>\n      <td>PS3</td>\n      <td>2010.0</td>\n      <td>Action</td>\n      <td>Take-Two Interactive</td>\n      <td>2.79</td>\n      <td>2.61</td>\n      <td>0.17</td>\n      <td>1.03</td>\n      <td>6.60</td>\n    </tr>\n  </tbody>\n</table>\n</div>"
     },
     "metadata": {},
     "execution_count": 80
    }
   ],
   "source": [
    "vg=pd.read_csv('../lesson4/vgsales.csv')\n",
    "# vg.columns\n",
    "# Eu_Sales also could be list\n",
    "vg[vg['Year']==2010].sort_values('EU_Sales',ascending=False).head(10)"
   ]
  },
  {
   "cell_type": "code",
   "execution_count": 82,
   "metadata": {},
   "outputs": [
    {
     "output_type": "execute_result",
     "data": {
      "text/plain": [
       "               Rank          Year      NA_Sales      EU_Sales      JP_Sales  \\\n",
       "count  16598.000000  16327.000000  16598.000000  16598.000000  16598.000000   \n",
       "mean    8300.605254   2006.406443      0.264667      0.146652      0.077782   \n",
       "std     4791.853933      5.828981      0.816683      0.505351      0.309291   \n",
       "min        1.000000   1980.000000      0.000000      0.000000      0.000000   \n",
       "25%     4151.250000   2003.000000      0.000000      0.000000      0.000000   \n",
       "50%     8300.500000   2007.000000      0.080000      0.020000      0.000000   \n",
       "75%    12449.750000   2010.000000      0.240000      0.110000      0.040000   \n",
       "max    16600.000000   2020.000000     41.490000     29.020000     10.220000   \n",
       "\n",
       "        Other_Sales  Global_Sales  \n",
       "count  16598.000000  16598.000000  \n",
       "mean       0.048063      0.537441  \n",
       "std        0.188588      1.555028  \n",
       "min        0.000000      0.010000  \n",
       "25%        0.000000      0.060000  \n",
       "50%        0.010000      0.170000  \n",
       "75%        0.040000      0.470000  \n",
       "max       10.570000     82.740000  "
      ],
      "text/html": "<div>\n<style scoped>\n    .dataframe tbody tr th:only-of-type {\n        vertical-align: middle;\n    }\n\n    .dataframe tbody tr th {\n        vertical-align: top;\n    }\n\n    .dataframe thead th {\n        text-align: right;\n    }\n</style>\n<table border=\"1\" class=\"dataframe\">\n  <thead>\n    <tr style=\"text-align: right;\">\n      <th></th>\n      <th>Rank</th>\n      <th>Year</th>\n      <th>NA_Sales</th>\n      <th>EU_Sales</th>\n      <th>JP_Sales</th>\n      <th>Other_Sales</th>\n      <th>Global_Sales</th>\n    </tr>\n  </thead>\n  <tbody>\n    <tr>\n      <th>count</th>\n      <td>16598.000000</td>\n      <td>16327.000000</td>\n      <td>16598.000000</td>\n      <td>16598.000000</td>\n      <td>16598.000000</td>\n      <td>16598.000000</td>\n      <td>16598.000000</td>\n    </tr>\n    <tr>\n      <th>mean</th>\n      <td>8300.605254</td>\n      <td>2006.406443</td>\n      <td>0.264667</td>\n      <td>0.146652</td>\n      <td>0.077782</td>\n      <td>0.048063</td>\n      <td>0.537441</td>\n    </tr>\n    <tr>\n      <th>std</th>\n      <td>4791.853933</td>\n      <td>5.828981</td>\n      <td>0.816683</td>\n      <td>0.505351</td>\n      <td>0.309291</td>\n      <td>0.188588</td>\n      <td>1.555028</td>\n    </tr>\n    <tr>\n      <th>min</th>\n      <td>1.000000</td>\n      <td>1980.000000</td>\n      <td>0.000000</td>\n      <td>0.000000</td>\n      <td>0.000000</td>\n      <td>0.000000</td>\n      <td>0.010000</td>\n    </tr>\n    <tr>\n      <th>25%</th>\n      <td>4151.250000</td>\n      <td>2003.000000</td>\n      <td>0.000000</td>\n      <td>0.000000</td>\n      <td>0.000000</td>\n      <td>0.000000</td>\n      <td>0.060000</td>\n    </tr>\n    <tr>\n      <th>50%</th>\n      <td>8300.500000</td>\n      <td>2007.000000</td>\n      <td>0.080000</td>\n      <td>0.020000</td>\n      <td>0.000000</td>\n      <td>0.010000</td>\n      <td>0.170000</td>\n    </tr>\n    <tr>\n      <th>75%</th>\n      <td>12449.750000</td>\n      <td>2010.000000</td>\n      <td>0.240000</td>\n      <td>0.110000</td>\n      <td>0.040000</td>\n      <td>0.040000</td>\n      <td>0.470000</td>\n    </tr>\n    <tr>\n      <th>max</th>\n      <td>16600.000000</td>\n      <td>2020.000000</td>\n      <td>41.490000</td>\n      <td>29.020000</td>\n      <td>10.220000</td>\n      <td>10.570000</td>\n      <td>82.740000</td>\n    </tr>\n  </tbody>\n</table>\n</div>"
     },
     "metadata": {},
     "execution_count": 82
    }
   ],
   "source": [
    "# 数值型\n",
    "vg.describe()"
   ]
  },
  {
   "cell_type": "code",
   "execution_count": 83,
   "metadata": {},
   "outputs": [
    {
     "output_type": "stream",
     "name": "stdout",
     "text": [
      "<class 'pandas.core.frame.DataFrame'>\nRangeIndex: 16598 entries, 0 to 16597\nData columns (total 11 columns):\n #   Column        Non-Null Count  Dtype  \n---  ------        --------------  -----  \n 0   Rank          16598 non-null  int64  \n 1   Name          16598 non-null  object \n 2   Platform      16598 non-null  object \n 3   Year          16327 non-null  float64\n 4   Genre         16598 non-null  object \n 5   Publisher     16540 non-null  object \n 6   NA_Sales      16598 non-null  float64\n 7   EU_Sales      16598 non-null  float64\n 8   JP_Sales      16598 non-null  float64\n 9   Other_Sales   16598 non-null  float64\n 10  Global_Sales  16598 non-null  float64\ndtypes: float64(6), int64(1), object(4)\nmemory usage: 1.4+ MB\n"
     ]
    }
   ],
   "source": [
    "vg.info()"
   ]
  },
  {
   "cell_type": "code",
   "execution_count": 89,
   "metadata": {},
   "outputs": [
    {
     "output_type": "execute_result",
     "data": {
      "text/plain": [
       "                                                 Rank     Year  NA_Sales  \\\n",
       "Name                                                                       \n",
       "Wii Sports                                          1   2006.0     41.49   \n",
       "Grand Theft Auto V                               2182  10069.0     23.46   \n",
       "Super Mario Bros.                                 203   3984.0     32.48   \n",
       "Tetris                                            162   3977.0     26.17   \n",
       "Mario Kart Wii                                      3   2008.0     15.85   \n",
       "...                                               ...      ...       ...   \n",
       "WinBack 2: Project Poseidon                     16037   2006.0      0.01   \n",
       "Super Robot Taisen XO                           16066   2006.0      0.00   \n",
       "Dragon Quest X: All in One Package              16329   2015.0      0.00   \n",
       "Deus Ex                                         16166   2000.0      0.00   \n",
       "Junjou Romanchika: Koi no Doki Doki Daisakusen  16449   2008.0      0.00   \n",
       "\n",
       "                                                EU_Sales  JP_Sales  \\\n",
       "Name                                                                 \n",
       "Wii Sports                                         29.02      3.77   \n",
       "Grand Theft Auto V                                 23.04      1.39   \n",
       "Super Mario Bros.                                   4.88      6.96   \n",
       "Tetris                                              2.95      6.03   \n",
       "Mario Kart Wii                                     12.88      3.79   \n",
       "...                                                  ...       ...   \n",
       "WinBack 2: Project Poseidon                         0.01      0.00   \n",
       "Super Robot Taisen XO                               0.00      0.01   \n",
       "Dragon Quest X: All in One Package                  0.00      0.01   \n",
       "Deus Ex                                             0.01      0.00   \n",
       "Junjou Romanchika: Koi no Doki Doki Daisakusen      0.00      0.01   \n",
       "\n",
       "                                                Other_Sales  Global_Sales  \n",
       "Name                                                                       \n",
       "Wii Sports                                             8.46         82.74  \n",
       "Grand Theft Auto V                                     8.03         55.92  \n",
       "Super Mario Bros.                                      0.99         45.31  \n",
       "Tetris                                                 0.69         35.84  \n",
       "Mario Kart Wii                                         3.31         35.82  \n",
       "...                                                     ...           ...  \n",
       "WinBack 2: Project Poseidon                            0.00          0.01  \n",
       "Super Robot Taisen XO                                  0.00          0.01  \n",
       "Dragon Quest X: All in One Package                     0.00          0.01  \n",
       "Deus Ex                                                0.00          0.01  \n",
       "Junjou Romanchika: Koi no Doki Doki Daisakusen         0.00          0.01  \n",
       "\n",
       "[11493 rows x 7 columns]"
      ],
      "text/html": "<div>\n<style scoped>\n    .dataframe tbody tr th:only-of-type {\n        vertical-align: middle;\n    }\n\n    .dataframe tbody tr th {\n        vertical-align: top;\n    }\n\n    .dataframe thead th {\n        text-align: right;\n    }\n</style>\n<table border=\"1\" class=\"dataframe\">\n  <thead>\n    <tr style=\"text-align: right;\">\n      <th></th>\n      <th>Rank</th>\n      <th>Year</th>\n      <th>NA_Sales</th>\n      <th>EU_Sales</th>\n      <th>JP_Sales</th>\n      <th>Other_Sales</th>\n      <th>Global_Sales</th>\n    </tr>\n    <tr>\n      <th>Name</th>\n      <th></th>\n      <th></th>\n      <th></th>\n      <th></th>\n      <th></th>\n      <th></th>\n      <th></th>\n    </tr>\n  </thead>\n  <tbody>\n    <tr>\n      <th>Wii Sports</th>\n      <td>1</td>\n      <td>2006.0</td>\n      <td>41.49</td>\n      <td>29.02</td>\n      <td>3.77</td>\n      <td>8.46</td>\n      <td>82.74</td>\n    </tr>\n    <tr>\n      <th>Grand Theft Auto V</th>\n      <td>2182</td>\n      <td>10069.0</td>\n      <td>23.46</td>\n      <td>23.04</td>\n      <td>1.39</td>\n      <td>8.03</td>\n      <td>55.92</td>\n    </tr>\n    <tr>\n      <th>Super Mario Bros.</th>\n      <td>203</td>\n      <td>3984.0</td>\n      <td>32.48</td>\n      <td>4.88</td>\n      <td>6.96</td>\n      <td>0.99</td>\n      <td>45.31</td>\n    </tr>\n    <tr>\n      <th>Tetris</th>\n      <td>162</td>\n      <td>3977.0</td>\n      <td>26.17</td>\n      <td>2.95</td>\n      <td>6.03</td>\n      <td>0.69</td>\n      <td>35.84</td>\n    </tr>\n    <tr>\n      <th>Mario Kart Wii</th>\n      <td>3</td>\n      <td>2008.0</td>\n      <td>15.85</td>\n      <td>12.88</td>\n      <td>3.79</td>\n      <td>3.31</td>\n      <td>35.82</td>\n    </tr>\n    <tr>\n      <th>...</th>\n      <td>...</td>\n      <td>...</td>\n      <td>...</td>\n      <td>...</td>\n      <td>...</td>\n      <td>...</td>\n      <td>...</td>\n    </tr>\n    <tr>\n      <th>WinBack 2: Project Poseidon</th>\n      <td>16037</td>\n      <td>2006.0</td>\n      <td>0.01</td>\n      <td>0.01</td>\n      <td>0.00</td>\n      <td>0.00</td>\n      <td>0.01</td>\n    </tr>\n    <tr>\n      <th>Super Robot Taisen XO</th>\n      <td>16066</td>\n      <td>2006.0</td>\n      <td>0.00</td>\n      <td>0.00</td>\n      <td>0.01</td>\n      <td>0.00</td>\n      <td>0.01</td>\n    </tr>\n    <tr>\n      <th>Dragon Quest X: All in One Package</th>\n      <td>16329</td>\n      <td>2015.0</td>\n      <td>0.00</td>\n      <td>0.00</td>\n      <td>0.01</td>\n      <td>0.00</td>\n      <td>0.01</td>\n    </tr>\n    <tr>\n      <th>Deus Ex</th>\n      <td>16166</td>\n      <td>2000.0</td>\n      <td>0.00</td>\n      <td>0.01</td>\n      <td>0.00</td>\n      <td>0.00</td>\n      <td>0.01</td>\n    </tr>\n    <tr>\n      <th>Junjou Romanchika: Koi no Doki Doki Daisakusen</th>\n      <td>16449</td>\n      <td>2008.0</td>\n      <td>0.00</td>\n      <td>0.00</td>\n      <td>0.01</td>\n      <td>0.00</td>\n      <td>0.01</td>\n    </tr>\n  </tbody>\n</table>\n<p>11493 rows × 7 columns</p>\n</div>"
     },
     "metadata": {},
     "execution_count": 89
    }
   ],
   "source": [
    "vg.groupby('Name').sum().sort_values('Global_Sales',ascending=False)"
   ]
  },
  {
   "cell_type": "code",
   "execution_count": 96,
   "metadata": {},
   "outputs": [
    {
     "output_type": "execute_result",
     "data": {
      "text/plain": [
       "5"
      ]
     },
     "metadata": {},
     "execution_count": 96
    }
   ],
   "source": [
    "vg['Name'].value_counts()['Grand Theft Auto V']"
   ]
  },
  {
   "cell_type": "code",
   "execution_count": 95,
   "metadata": {},
   "outputs": [
    {
     "output_type": "execute_result",
     "data": {
      "text/plain": [
       "      Rank     Name Platform    Year   Genre        Publisher  NA_Sales  \\\n",
       "112    113  FIFA 14      PS3  2013.0  Sports  Electronic Arts      0.78   \n",
       "256    257  FIFA 14     X360  2013.0  Sports  Electronic Arts      0.92   \n",
       "493    494  FIFA 14      PS4  2013.0  Sports  Electronic Arts      0.61   \n",
       "1698  1700  FIFA 14     XOne  2013.0  Sports  Electronic Arts      0.41   \n",
       "3988  3990  FIFA 14      PSV  2013.0  Sports  Electronic Arts      0.11   \n",
       "4503  4505  FIFA 14       PC  2013.0  Sports  Electronic Arts      0.01   \n",
       "4538  4540  FIFA 14      Wii  2013.0  Sports  Electronic Arts      0.00   \n",
       "6661  6663  FIFA 14      3DS  2013.0  Sports  Electronic Arts      0.00   \n",
       "7034  7036  FIFA 14      PSP  2013.0  Sports  Electronic Arts      0.00   \n",
       "\n",
       "      EU_Sales  JP_Sales  Other_Sales  Global_Sales  \n",
       "112       4.32      0.07         1.73          6.90  \n",
       "256       2.93      0.01         0.46          4.31  \n",
       "493       1.85      0.11         0.33          2.90  \n",
       "1698      0.66      0.00         0.12          1.19  \n",
       "3988      0.25      0.01         0.13          0.50  \n",
       "4503      0.36      0.00         0.06          0.43  \n",
       "4538      0.38      0.00         0.05          0.43  \n",
       "6661      0.23      0.00         0.03          0.25  \n",
       "7034      0.16      0.00         0.07          0.23  "
      ],
      "text/html": "<div>\n<style scoped>\n    .dataframe tbody tr th:only-of-type {\n        vertical-align: middle;\n    }\n\n    .dataframe tbody tr th {\n        vertical-align: top;\n    }\n\n    .dataframe thead th {\n        text-align: right;\n    }\n</style>\n<table border=\"1\" class=\"dataframe\">\n  <thead>\n    <tr style=\"text-align: right;\">\n      <th></th>\n      <th>Rank</th>\n      <th>Name</th>\n      <th>Platform</th>\n      <th>Year</th>\n      <th>Genre</th>\n      <th>Publisher</th>\n      <th>NA_Sales</th>\n      <th>EU_Sales</th>\n      <th>JP_Sales</th>\n      <th>Other_Sales</th>\n      <th>Global_Sales</th>\n    </tr>\n  </thead>\n  <tbody>\n    <tr>\n      <th>112</th>\n      <td>113</td>\n      <td>FIFA 14</td>\n      <td>PS3</td>\n      <td>2013.0</td>\n      <td>Sports</td>\n      <td>Electronic Arts</td>\n      <td>0.78</td>\n      <td>4.32</td>\n      <td>0.07</td>\n      <td>1.73</td>\n      <td>6.90</td>\n    </tr>\n    <tr>\n      <th>256</th>\n      <td>257</td>\n      <td>FIFA 14</td>\n      <td>X360</td>\n      <td>2013.0</td>\n      <td>Sports</td>\n      <td>Electronic Arts</td>\n      <td>0.92</td>\n      <td>2.93</td>\n      <td>0.01</td>\n      <td>0.46</td>\n      <td>4.31</td>\n    </tr>\n    <tr>\n      <th>493</th>\n      <td>494</td>\n      <td>FIFA 14</td>\n      <td>PS4</td>\n      <td>2013.0</td>\n      <td>Sports</td>\n      <td>Electronic Arts</td>\n      <td>0.61</td>\n      <td>1.85</td>\n      <td>0.11</td>\n      <td>0.33</td>\n      <td>2.90</td>\n    </tr>\n    <tr>\n      <th>1698</th>\n      <td>1700</td>\n      <td>FIFA 14</td>\n      <td>XOne</td>\n      <td>2013.0</td>\n      <td>Sports</td>\n      <td>Electronic Arts</td>\n      <td>0.41</td>\n      <td>0.66</td>\n      <td>0.00</td>\n      <td>0.12</td>\n      <td>1.19</td>\n    </tr>\n    <tr>\n      <th>3988</th>\n      <td>3990</td>\n      <td>FIFA 14</td>\n      <td>PSV</td>\n      <td>2013.0</td>\n      <td>Sports</td>\n      <td>Electronic Arts</td>\n      <td>0.11</td>\n      <td>0.25</td>\n      <td>0.01</td>\n      <td>0.13</td>\n      <td>0.50</td>\n    </tr>\n    <tr>\n      <th>4503</th>\n      <td>4505</td>\n      <td>FIFA 14</td>\n      <td>PC</td>\n      <td>2013.0</td>\n      <td>Sports</td>\n      <td>Electronic Arts</td>\n      <td>0.01</td>\n      <td>0.36</td>\n      <td>0.00</td>\n      <td>0.06</td>\n      <td>0.43</td>\n    </tr>\n    <tr>\n      <th>4538</th>\n      <td>4540</td>\n      <td>FIFA 14</td>\n      <td>Wii</td>\n      <td>2013.0</td>\n      <td>Sports</td>\n      <td>Electronic Arts</td>\n      <td>0.00</td>\n      <td>0.38</td>\n      <td>0.00</td>\n      <td>0.05</td>\n      <td>0.43</td>\n    </tr>\n    <tr>\n      <th>6661</th>\n      <td>6663</td>\n      <td>FIFA 14</td>\n      <td>3DS</td>\n      <td>2013.0</td>\n      <td>Sports</td>\n      <td>Electronic Arts</td>\n      <td>0.00</td>\n      <td>0.23</td>\n      <td>0.00</td>\n      <td>0.03</td>\n      <td>0.25</td>\n    </tr>\n    <tr>\n      <th>7034</th>\n      <td>7036</td>\n      <td>FIFA 14</td>\n      <td>PSP</td>\n      <td>2013.0</td>\n      <td>Sports</td>\n      <td>Electronic Arts</td>\n      <td>0.00</td>\n      <td>0.16</td>\n      <td>0.00</td>\n      <td>0.07</td>\n      <td>0.23</td>\n    </tr>\n  </tbody>\n</table>\n</div>"
     },
     "metadata": {},
     "execution_count": 95
    }
   ],
   "source": [
    "vg[vg.Name=='FIFA 14']"
   ]
  },
  {
   "cell_type": "code",
   "execution_count": 98,
   "metadata": {},
   "outputs": [
    {
     "output_type": "execute_result",
     "data": {
      "text/plain": [
       "      Rank                          Name Platform    Year     Genre  NA_Sales  \\\n",
       "max  16600  ¡Shin Chan Flipa en colores!     XOne  2020.0  Strategy     41.49   \n",
       "min      1                   '98 Koshien     2600  1980.0    Action      0.00   \n",
       "\n",
       "     EU_Sales  JP_Sales  Other_Sales  Global_Sales  \n",
       "max     29.02     10.22        10.57         82.74  \n",
       "min      0.00      0.00         0.00          0.01  "
      ],
      "text/html": "<div>\n<style scoped>\n    .dataframe tbody tr th:only-of-type {\n        vertical-align: middle;\n    }\n\n    .dataframe tbody tr th {\n        vertical-align: top;\n    }\n\n    .dataframe thead th {\n        text-align: right;\n    }\n</style>\n<table border=\"1\" class=\"dataframe\">\n  <thead>\n    <tr style=\"text-align: right;\">\n      <th></th>\n      <th>Rank</th>\n      <th>Name</th>\n      <th>Platform</th>\n      <th>Year</th>\n      <th>Genre</th>\n      <th>NA_Sales</th>\n      <th>EU_Sales</th>\n      <th>JP_Sales</th>\n      <th>Other_Sales</th>\n      <th>Global_Sales</th>\n    </tr>\n  </thead>\n  <tbody>\n    <tr>\n      <th>max</th>\n      <td>16600</td>\n      <td>¡Shin Chan Flipa en colores!</td>\n      <td>XOne</td>\n      <td>2020.0</td>\n      <td>Strategy</td>\n      <td>41.49</td>\n      <td>29.02</td>\n      <td>10.22</td>\n      <td>10.57</td>\n      <td>82.74</td>\n    </tr>\n    <tr>\n      <th>min</th>\n      <td>1</td>\n      <td>'98 Koshien</td>\n      <td>2600</td>\n      <td>1980.0</td>\n      <td>Action</td>\n      <td>0.00</td>\n      <td>0.00</td>\n      <td>0.00</td>\n      <td>0.00</td>\n      <td>0.01</td>\n    </tr>\n  </tbody>\n</table>\n</div>"
     },
     "metadata": {},
     "execution_count": 98
    }
   ],
   "source": [
    "# 按照列\n",
    "vg.agg(['max','min'])"
   ]
  },
  {
   "cell_type": "code",
   "execution_count": 100,
   "metadata": {},
   "outputs": [
    {
     "output_type": "execute_result",
     "data": {
      "text/plain": [
       "Series([], dtype: float64)"
      ]
     },
     "metadata": {},
     "execution_count": 100
    }
   ],
   "source": [
    "vg.agg('mean',axis='columns')"
   ]
  },
  {
   "cell_type": "code",
   "execution_count": 105,
   "metadata": {},
   "outputs": [
    {
     "output_type": "execute_result",
     "data": {
      "text/plain": [
       "                                         Year  Global_Sales\n",
       "Name                                                       \n",
       "Need for Speed: Most Wanted                12         14.08\n",
       "FIFA 14                                     9         17.14\n",
       "Ratatouille                                 9          4.46\n",
       "LEGO Marvel Super Heroes                    9          9.86\n",
       "Monopoly                                    8          7.70\n",
       "...                                       ...           ...\n",
       "The Daring Game for Girls                   0          0.22\n",
       "Saint                                       0          0.02\n",
       "TERA                                        0          0.41\n",
       "Housekeeping                                0          0.04\n",
       "Shonen Jump's Yu-Gi-Oh! GX Card Almanac     0          0.02\n",
       "\n",
       "[11493 rows x 2 columns]"
      ],
      "text/html": "<div>\n<style scoped>\n    .dataframe tbody tr th:only-of-type {\n        vertical-align: middle;\n    }\n\n    .dataframe tbody tr th {\n        vertical-align: top;\n    }\n\n    .dataframe thead th {\n        text-align: right;\n    }\n</style>\n<table border=\"1\" class=\"dataframe\">\n  <thead>\n    <tr style=\"text-align: right;\">\n      <th></th>\n      <th>Year</th>\n      <th>Global_Sales</th>\n    </tr>\n    <tr>\n      <th>Name</th>\n      <th></th>\n      <th></th>\n    </tr>\n  </thead>\n  <tbody>\n    <tr>\n      <th>Need for Speed: Most Wanted</th>\n      <td>12</td>\n      <td>14.08</td>\n    </tr>\n    <tr>\n      <th>FIFA 14</th>\n      <td>9</td>\n      <td>17.14</td>\n    </tr>\n    <tr>\n      <th>Ratatouille</th>\n      <td>9</td>\n      <td>4.46</td>\n    </tr>\n    <tr>\n      <th>LEGO Marvel Super Heroes</th>\n      <td>9</td>\n      <td>9.86</td>\n    </tr>\n    <tr>\n      <th>Monopoly</th>\n      <td>8</td>\n      <td>7.70</td>\n    </tr>\n    <tr>\n      <th>...</th>\n      <td>...</td>\n      <td>...</td>\n    </tr>\n    <tr>\n      <th>The Daring Game for Girls</th>\n      <td>0</td>\n      <td>0.22</td>\n    </tr>\n    <tr>\n      <th>Saint</th>\n      <td>0</td>\n      <td>0.02</td>\n    </tr>\n    <tr>\n      <th>TERA</th>\n      <td>0</td>\n      <td>0.41</td>\n    </tr>\n    <tr>\n      <th>Housekeeping</th>\n      <td>0</td>\n      <td>0.04</td>\n    </tr>\n    <tr>\n      <th>Shonen Jump's Yu-Gi-Oh! GX Card Almanac</th>\n      <td>0</td>\n      <td>0.02</td>\n    </tr>\n  </tbody>\n</table>\n<p>11493 rows × 2 columns</p>\n</div>"
     },
     "metadata": {},
     "execution_count": 105
    }
   ],
   "source": [
    "vg_grouped=vg[['Name','Year','Global_Sales']].groupby('Name').agg({'Year':'count','Global_Sales':'sum'})\n",
    "\n",
    "vg_grouped.columns=['Year','Global_Sales']\n",
    "vg_grouped.sort_values('Year',ascending=False)"
   ]
  },
  {
   "cell_type": "code",
   "execution_count": null,
   "metadata": {},
   "outputs": [],
   "source": []
  }
 ]
}