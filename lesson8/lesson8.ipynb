{
 "metadata": {
  "language_info": {
   "codemirror_mode": {
    "name": "ipython",
    "version": 3
   },
   "file_extension": ".py",
   "mimetype": "text/x-python",
   "name": "python",
   "nbconvert_exporter": "python",
   "pygments_lexer": "ipython3",
   "version": "3.7.9"
  },
  "orig_nbformat": 2,
  "kernelspec": {
   "name": "python379jvsc74a57bd03610ba5b39883f2c9136a6c60e2f9393bc8913e6ca44a84d2b07fc3630c06738",
   "display_name": "Python 3.7.9 64-bit ('tensorflow2': conda)"
  }
 },
 "nbformat": 4,
 "nbformat_minor": 2,
 "cells": [
  {
   "source": [
    "### Noisy data\r\n",
    "\r\n",
    "**random error or variance in a variable.**\r\n",
    "\r\n",
    "wildly differencce"
   ],
   "cell_type": "markdown",
   "metadata": {}
  },
  {
   "cell_type": "code",
   "execution_count": 4,
   "metadata": {},
   "outputs": [
    {
     "output_type": "execute_result",
     "data": {
      "text/plain": [
       "     Rank                                           Name Platform    Year  \\\n",
       "0       1                                     Wii Sports      Wii  2006.0   \n",
       "1       2                              Super Mario Bros.      NES  1985.0   \n",
       "2       3                                 Mario Kart Wii      Wii  2008.0   \n",
       "3       4                              Wii Sports Resort      Wii  2009.0   \n",
       "4       5                       Pokemon Red/Pokemon Blue       GB  1996.0   \n",
       "..    ...                                            ...      ...     ...   \n",
       "176   177                            Assassin's Creed II     X360  2009.0   \n",
       "177   178       Professor Layton and the Curious Village       DS  2007.0   \n",
       "178   179                                 Tomb Raider II       PS  1997.0   \n",
       "179   180                                Madden NFL 2004      PS2     NaN   \n",
       "180   181  Dragon Quest VIII: Journey of the Cursed King      PS2  2004.0   \n",
       "\n",
       "            Genre          Publisher  NA_Sales  EU_Sales  JP_Sales  \\\n",
       "0          Sports           Nintendo     41.49     29.02      3.77   \n",
       "1        Platform           Nintendo     29.08      3.58      6.81   \n",
       "2          Racing           Nintendo     15.85     12.88      3.79   \n",
       "3          Sports           Nintendo     15.75     11.01      3.28   \n",
       "4    Role-Playing           Nintendo     11.27      8.89     10.22   \n",
       "..            ...                ...       ...       ...       ...   \n",
       "176        Action            Ubisoft      3.10      1.56      0.08   \n",
       "177        Puzzle           Nintendo      1.22      2.48      1.03   \n",
       "178        Action  Eidos Interactive      2.30      2.46      0.20   \n",
       "179        Sports    Electronic Arts      4.26      0.26      0.01   \n",
       "180  Role-Playing        Square Enix      0.65      0.75      3.61   \n",
       "\n",
       "     Other_Sales  Global_Sales  \n",
       "0           8.46         82.74  \n",
       "1           0.77         40.24  \n",
       "2           3.31         35.82  \n",
       "3           2.96         33.00  \n",
       "4           1.00         31.37  \n",
       "..           ...           ...  \n",
       "176         0.51          5.27  \n",
       "177         0.52          5.26  \n",
       "178         0.28          5.24  \n",
       "179         0.71          5.23  \n",
       "180         0.20          5.21  \n",
       "\n",
       "[181 rows x 11 columns]"
      ],
      "text/html": "<div>\n<style scoped>\n    .dataframe tbody tr th:only-of-type {\n        vertical-align: middle;\n    }\n\n    .dataframe tbody tr th {\n        vertical-align: top;\n    }\n\n    .dataframe thead th {\n        text-align: right;\n    }\n</style>\n<table border=\"1\" class=\"dataframe\">\n  <thead>\n    <tr style=\"text-align: right;\">\n      <th></th>\n      <th>Rank</th>\n      <th>Name</th>\n      <th>Platform</th>\n      <th>Year</th>\n      <th>Genre</th>\n      <th>Publisher</th>\n      <th>NA_Sales</th>\n      <th>EU_Sales</th>\n      <th>JP_Sales</th>\n      <th>Other_Sales</th>\n      <th>Global_Sales</th>\n    </tr>\n  </thead>\n  <tbody>\n    <tr>\n      <th>0</th>\n      <td>1</td>\n      <td>Wii Sports</td>\n      <td>Wii</td>\n      <td>2006.0</td>\n      <td>Sports</td>\n      <td>Nintendo</td>\n      <td>41.49</td>\n      <td>29.02</td>\n      <td>3.77</td>\n      <td>8.46</td>\n      <td>82.74</td>\n    </tr>\n    <tr>\n      <th>1</th>\n      <td>2</td>\n      <td>Super Mario Bros.</td>\n      <td>NES</td>\n      <td>1985.0</td>\n      <td>Platform</td>\n      <td>Nintendo</td>\n      <td>29.08</td>\n      <td>3.58</td>\n      <td>6.81</td>\n      <td>0.77</td>\n      <td>40.24</td>\n    </tr>\n    <tr>\n      <th>2</th>\n      <td>3</td>\n      <td>Mario Kart Wii</td>\n      <td>Wii</td>\n      <td>2008.0</td>\n      <td>Racing</td>\n      <td>Nintendo</td>\n      <td>15.85</td>\n      <td>12.88</td>\n      <td>3.79</td>\n      <td>3.31</td>\n      <td>35.82</td>\n    </tr>\n    <tr>\n      <th>3</th>\n      <td>4</td>\n      <td>Wii Sports Resort</td>\n      <td>Wii</td>\n      <td>2009.0</td>\n      <td>Sports</td>\n      <td>Nintendo</td>\n      <td>15.75</td>\n      <td>11.01</td>\n      <td>3.28</td>\n      <td>2.96</td>\n      <td>33.00</td>\n    </tr>\n    <tr>\n      <th>4</th>\n      <td>5</td>\n      <td>Pokemon Red/Pokemon Blue</td>\n      <td>GB</td>\n      <td>1996.0</td>\n      <td>Role-Playing</td>\n      <td>Nintendo</td>\n      <td>11.27</td>\n      <td>8.89</td>\n      <td>10.22</td>\n      <td>1.00</td>\n      <td>31.37</td>\n    </tr>\n    <tr>\n      <th>...</th>\n      <td>...</td>\n      <td>...</td>\n      <td>...</td>\n      <td>...</td>\n      <td>...</td>\n      <td>...</td>\n      <td>...</td>\n      <td>...</td>\n      <td>...</td>\n      <td>...</td>\n      <td>...</td>\n    </tr>\n    <tr>\n      <th>176</th>\n      <td>177</td>\n      <td>Assassin's Creed II</td>\n      <td>X360</td>\n      <td>2009.0</td>\n      <td>Action</td>\n      <td>Ubisoft</td>\n      <td>3.10</td>\n      <td>1.56</td>\n      <td>0.08</td>\n      <td>0.51</td>\n      <td>5.27</td>\n    </tr>\n    <tr>\n      <th>177</th>\n      <td>178</td>\n      <td>Professor Layton and the Curious Village</td>\n      <td>DS</td>\n      <td>2007.0</td>\n      <td>Puzzle</td>\n      <td>Nintendo</td>\n      <td>1.22</td>\n      <td>2.48</td>\n      <td>1.03</td>\n      <td>0.52</td>\n      <td>5.26</td>\n    </tr>\n    <tr>\n      <th>178</th>\n      <td>179</td>\n      <td>Tomb Raider II</td>\n      <td>PS</td>\n      <td>1997.0</td>\n      <td>Action</td>\n      <td>Eidos Interactive</td>\n      <td>2.30</td>\n      <td>2.46</td>\n      <td>0.20</td>\n      <td>0.28</td>\n      <td>5.24</td>\n    </tr>\n    <tr>\n      <th>179</th>\n      <td>180</td>\n      <td>Madden NFL 2004</td>\n      <td>PS2</td>\n      <td>NaN</td>\n      <td>Sports</td>\n      <td>Electronic Arts</td>\n      <td>4.26</td>\n      <td>0.26</td>\n      <td>0.01</td>\n      <td>0.71</td>\n      <td>5.23</td>\n    </tr>\n    <tr>\n      <th>180</th>\n      <td>181</td>\n      <td>Dragon Quest VIII: Journey of the Cursed King</td>\n      <td>PS2</td>\n      <td>2004.0</td>\n      <td>Role-Playing</td>\n      <td>Square Enix</td>\n      <td>0.65</td>\n      <td>0.75</td>\n      <td>3.61</td>\n      <td>0.20</td>\n      <td>5.21</td>\n    </tr>\n  </tbody>\n</table>\n<p>181 rows × 11 columns</p>\n</div>"
     },
     "metadata": {},
     "execution_count": 4
    }
   ],
   "source": [
    "import pandas as pd\n",
    "\n",
    "vg=pd.read_csv('../lesson6/vgsales.csv')\n",
    "\n",
    "\n",
    "below=vg['Global_Sales'].mean()-3*vg['Global_Sales'].std()\n",
    "above=vg['Global_Sales'].mean()+3*vg['Global_Sales'].std()\n",
    "\n",
    "outliers=vg[(vg.Global_Sales<below) | (vg.Global_Sales>above)]\n",
    "# 181\n",
    "outliers\n"
   ]
  },
  {
   "cell_type": "code",
   "execution_count": 16,
   "metadata": {},
   "outputs": [
    {
     "output_type": "execute_result",
     "data": {
      "text/plain": [
       "a    16580\n",
       "b       17\n",
       "d        1\n",
       "c        0\n",
       "Name: global_sales_bins, dtype: int64"
      ]
     },
     "metadata": {},
     "execution_count": 16
    }
   ],
   "source": [
    "# Smoothing outliers by binning(分箱)\n",
    "# 1.sort data\n",
    "# 2.equal width vs. equal depth\n",
    "# 3.mean/median/boundary values\n",
    "\n",
    "# equal-width\n",
    "vg['global_sales_bins']=pd.cut(vg.Global_Sales,bins=4,labels=['a','b','c','d'])\n",
    "vg['global_sales_bins'].value_counts()"
   ]
  },
  {
   "cell_type": "code",
   "execution_count": 21,
   "metadata": {},
   "outputs": [
    {
     "output_type": "execute_result",
     "data": {
      "text/plain": [
       "a    4354\n",
       "d    4146\n",
       "c    4060\n",
       "b    4038\n",
       "Name: global_sales_bins, dtype: int64"
      ]
     },
     "metadata": {},
     "execution_count": 21
    }
   ],
   "source": [
    "# equal-depth\n",
    "vg['global_sales_bins']=pd.qcut(vg.Global_Sales,q=4,labels=['25%','50%','75%','>75%'])\n",
    "vg['global_sales_bins'].value_counts()"
   ]
  }
 ]
}